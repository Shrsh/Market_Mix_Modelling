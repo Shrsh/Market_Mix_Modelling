{
 "cells": [
  {
   "cell_type": "code",
   "execution_count": 1,
   "metadata": {},
   "outputs": [
    {
     "data": {
      "text/plain": [
       "   week_year       list_price      product_mrp          gmv        \n",
       " Min.   : 4.00   Min.   : 292.3   Min.   : 657.3   Min.   : 292.3  \n",
       " 1st Qu.:16.00   1st Qu.: 771.7   1st Qu.:1628.1   1st Qu.: 783.0  \n",
       " Median :28.00   Median : 865.0   Median :1735.3   Median : 878.8  \n",
       " Mean   :28.41   Mean   : 842.2   Mean   :1954.7   Mean   : 858.2  \n",
       " 3rd Qu.:41.00   3rd Qu.: 935.5   3rd Qu.:1842.6   3rd Qu.: 950.3  \n",
       " Max.   :53.00   Max.   :1041.7   Max.   :4823.1   Max.   :1064.9  \n",
       "     units            sla        promotional_offer     number      \n",
       " Min.   :1.000   Min.   :3.833   Min.   :0.3359    Min.   :0.0000  \n",
       " 1st Qu.:1.022   1st Qu.:5.431   1st Qu.:0.4076    1st Qu.:0.0000  \n",
       " Median :1.027   Median :5.762   Median :0.4335    Median :0.0000  \n",
       " Mean   :1.027   Mean   :5.638   Mean   :0.4338    Mean   :0.7143  \n",
       " 3rd Qu.:1.030   3rd Qu.:5.872   3rd Qu.:0.4545    3rd Qu.:1.0000  \n",
       " Max.   :1.058   Max.   :6.500   Max.   :0.5357    Max.   :6.0000  \n",
       " Total.Investment       TV           Digital        Sponsorship   \n",
       " Min.   :  5.1    Min.   :0.000   Min.   : 0.500   Min.   : 1.10  \n",
       " 1st Qu.: 48.1    1st Qu.:1.700   1st Qu.: 1.300   1st Qu.:14.20  \n",
       " Median : 70.1    Median :3.900   Median : 1.401   Median :27.04  \n",
       " Mean   : 74.1    Mean   :3.833   Mean   : 2.671   Mean   :34.23  \n",
       " 3rd Qu.:100.0    3rd Qu.:5.400   3rd Qu.: 2.500   3rd Qu.:56.70  \n",
       " Max.   :170.2    Max.   :9.300   Max.   :12.600   Max.   :84.70  \n",
       " Content.Marketing Online.marketing   Affiliates         SEM      \n",
       " Min.   :0.0000    Min.   : 0.10    Min.   :0.100   Min.   : 2.5  \n",
       " 1st Qu.:0.0000    1st Qu.:16.40    1st Qu.:5.000   1st Qu.: 4.9  \n",
       " Median :0.5773    Median :19.26    Median :6.200   Median : 5.2  \n",
       " Mean   :0.6886    Mean   :16.45    Mean   :5.191   Mean   : 8.1  \n",
       " 3rd Qu.:0.8000    3rd Qu.:22.50    3rd Qu.:6.800   3rd Qu.: 6.9  \n",
       " Max.   :3.4000    Max.   :24.40    Max.   :7.400   Max.   :31.9  \n",
       " product_procurement_sla   per_order           NPS          Premium_p    \n",
       " Min.   :1.833           Min.   :0.0000   Min.   :44.40   Min.   : 0.00  \n",
       " 1st Qu.:2.323           1st Qu.:0.1718   1st Qu.:46.90   1st Qu.:15.00  \n",
       " Median :2.517           Median :0.1940   Median :48.50   Median :22.00  \n",
       " Mean   :2.494           Mean   :0.2504   Mean   :49.15   Mean   :22.69  \n",
       " 3rd Qu.:2.579           3rd Qu.:0.2166   3rd Qu.:50.50   3rd Qu.:31.00  \n",
       " Max.   :3.462           Max.   :0.9694   Max.   :60.00   Max.   :64.00  \n",
       "     Mass_p        Middle_p      inc_LP_MA1          inc_LP_MA2       \n",
       " Min.   :   5   Min.   :   0   Min.   :-0.542634   Min.   :-0.617451  \n",
       " 1st Qu.:1984   1st Qu.: 997   1st Qu.:-0.032397   1st Qu.:-0.038845  \n",
       " Median :2287   Median :1237   Median : 0.003032   Median : 0.017371  \n",
       " Mean   :2427   Mean   :1368   Mean   : 0.001300   Mean   : 0.001843  \n",
       " 3rd Qu.:2792   3rd Qu.:1770   3rd Qu.: 0.041058   3rd Qu.: 0.058015  \n",
       " Max.   :7094   Max.   :3831   Max.   : 0.476977   Max.   : 0.308756  \n",
       "   inc_LP_MA3          inc_PO_MA1           inc_PO_MA2        \n",
       " Min.   :-0.649290   Min.   :-1.723e-01   Min.   :-0.1784680  \n",
       " 1st Qu.:-0.044603   1st Qu.:-1.923e-02   1st Qu.:-0.0354987  \n",
       " Median : 0.012263   Median : 3.875e-03   Median : 0.0058897  \n",
       " Mean   : 0.002086   Mean   : 5.174e-05   Mean   : 0.0007101  \n",
       " 3rd Qu.: 0.058049   3rd Qu.: 2.669e-02   3rd Qu.: 0.0385572  \n",
       " Max.   : 0.244680   Max.   : 1.507e-01   Max.   : 0.2403240  \n",
       "   inc_PO_MA3         list_price.1     list_price.2     list_price.3   \n",
       " Min.   :-0.168381   Min.   : 292.3   Min.   : 292.3   Min.   : 292.3  \n",
       " 1st Qu.:-0.038630   1st Qu.: 771.7   1st Qu.: 771.7   1st Qu.: 772.5  \n",
       " Median :-0.006251   Median : 864.0   Median : 864.0   Median : 864.0  \n",
       " Mean   : 0.001513   Mean   : 840.8   Mean   : 840.9   Mean   : 842.3  \n",
       " 3rd Qu.: 0.047477   3rd Qu.: 935.5   3rd Qu.: 935.5   3rd Qu.: 935.5  \n",
       " Max.   : 0.252632   Max.   :1041.7   Max.   :1041.7   Max.   :1041.7  \n",
       " promotional_offer.1 promotional_offer.2 promotional_offer.3     NPS.1      \n",
       " Min.   :0.3359      Min.   :0.3359      Min.   :0.3359      Min.   :44.40  \n",
       " 1st Qu.:0.4076      1st Qu.:0.4076      1st Qu.:0.4076      1st Qu.:46.90  \n",
       " Median :0.4335      Median :0.4335      Median :0.4335      Median :48.50  \n",
       " Mean   :0.4338      Mean   :0.4332      Mean   :0.4324      Mean   :49.18  \n",
       " 3rd Qu.:0.4545      3rd Qu.:0.4545      3rd Qu.:0.4545      3rd Qu.:50.50  \n",
       " Max.   :0.5357      Max.   :0.5357      Max.   :0.5357      Max.   :60.00  \n",
       "     NPS.2           NPS.3      \n",
       " Min.   :44.40   Min.   :44.40  \n",
       " 1st Qu.:46.90   1st Qu.:47.00  \n",
       " Median :48.50   Median :48.50  \n",
       " Mean   :49.21   Mean   :49.23  \n",
       " 3rd Qu.:50.50   3rd Qu.:50.50  \n",
       " Max.   :60.00   Max.   :60.00  "
      ]
     },
     "metadata": {},
     "output_type": "display_data"
    }
   ],
   "source": [
    "data<-read.csv(\"gaming_accesory_final\")\n",
    "summary(data)"
   ]
  },
  {
   "cell_type": "markdown",
   "metadata": {},
   "source": [
    "### Basic Linear Model"
   ]
  },
  {
   "cell_type": "code",
   "execution_count": 2,
   "metadata": {},
   "outputs": [
    {
     "name": "stdout",
     "output_type": "stream",
     "text": [
      "\n",
      "Call:\n",
      "lm(formula = gmv ~ ., data = Linear_model)\n",
      "\n",
      "Residuals:\n",
      "       Min         1Q     Median         3Q        Max \n",
      "-0.0223948 -0.0025382  0.0005452  0.0037579  0.0092890 \n",
      "\n",
      "Coefficients:\n",
      "                          Estimate Std. Error t value Pr(>|t|)    \n",
      "(Intercept)             -3.977e-16  1.629e-03   0.000 1.000000    \n",
      "week_year                2.732e-02  2.909e-02   0.939 0.366130    \n",
      "list_price               1.140e+00  5.860e-02  19.452 1.93e-10 ***\n",
      "product_mrp             -6.962e-03  8.193e-03  -0.850 0.412079    \n",
      "units                    3.063e-02  6.949e-03   4.407 0.000855 ***\n",
      "sla                     -2.296e-03  5.192e-03  -0.442 0.666234    \n",
      "promotional_offer       -6.295e-02  7.359e-02  -0.855 0.409073    \n",
      "number                  -2.935e-03  3.029e-03  -0.969 0.351751    \n",
      "Total.Investment         4.481e-01  1.937e-01   2.314 0.039207 *  \n",
      "TV                      -1.612e-01  7.096e-02  -2.271 0.042343 *  \n",
      "Digital                  3.624e-02  1.186e-01   0.306 0.765105    \n",
      "Sponsorship             -1.175e-01  6.002e-02  -1.958 0.073918 .  \n",
      "Content.Marketing       -1.617e-01  9.075e-02  -1.782 0.100050    \n",
      "Online.marketing        -3.105e-01  1.144e-01  -2.715 0.018786 *  \n",
      "Affiliates               2.977e-01  1.306e-01   2.280 0.041679 *  \n",
      "SEM                     -3.831e-02  1.423e-01  -0.269 0.792318    \n",
      "product_procurement_sla  2.516e-02  6.007e-03   4.189 0.001257 ** \n",
      "per_order                1.858e-02  8.899e-03   2.088 0.058796 .  \n",
      "NPS                      6.388e-02  4.967e-02   1.286 0.222604    \n",
      "Premium_p                3.207e-03  5.604e-03   0.572 0.577719    \n",
      "Mass_p                  -5.373e-02  9.670e-03  -5.557 0.000124 ***\n",
      "Middle_p                 3.087e-02  1.469e-02   2.101 0.057429 .  \n",
      "inc_LP_MA1              -8.904e-02  4.196e-02  -2.122 0.055357 .  \n",
      "inc_LP_MA2              -1.452e-01  9.808e-02  -1.481 0.164421    \n",
      "inc_LP_MA3               3.799e-02  8.911e-02   0.426 0.677420    \n",
      "inc_PO_MA1              -3.816e-02  7.163e-02  -0.533 0.603896    \n",
      "inc_PO_MA2               2.373e-01  1.374e-01   1.727 0.109726    \n",
      "inc_PO_MA3              -1.558e-01  1.322e-01  -1.178 0.261467    \n",
      "list_price.1            -1.456e-01  3.385e-02  -4.303 0.001026 ** \n",
      "list_price.2            -5.933e-02  3.364e-02  -1.764 0.103229    \n",
      "list_price.3             3.015e-02  3.266e-02   0.923 0.374133    \n",
      "promotional_offer.1      1.084e-02  4.476e-02   0.242 0.812673    \n",
      "promotional_offer.2      6.136e-02  4.407e-02   1.392 0.189096    \n",
      "promotional_offer.3     -2.576e-02  4.315e-02  -0.597 0.561596    \n",
      "NPS.1                   -5.296e-03  1.240e-02  -0.427 0.676922    \n",
      "NPS.2                    4.379e-03  1.302e-02   0.336 0.742474    \n",
      "NPS.3                   -1.708e-02  8.672e-03  -1.969 0.072469 .  \n",
      "---\n",
      "Signif. codes:  0 ‘***’ 0.001 ‘**’ 0.01 ‘*’ 0.05 ‘.’ 0.1 ‘ ’ 1\n",
      "\n",
      "Residual standard error: 0.0114 on 12 degrees of freedom\n",
      "Multiple R-squared:      1,\tAdjusted R-squared:  0.9999 \n",
      "F-statistic: 1.026e+04 on 36 and 12 DF,  p-value: < 2.2e-16\n",
      "\n"
     ]
    }
   ],
   "source": [
    "# Building the Baisc Linear regression Model\n",
    "Linear_model <-data\n",
    "Linear_model <- scale(Linear_model)\n",
    "Linear_model <-data.frame(Linear_model)\n",
    "model_1 <- lm(gmv~.,Linear_model)\n",
    "print(summary(model_1))"
   ]
  },
  {
   "cell_type": "markdown",
   "metadata": {},
   "source": [
    "Model Selection"
   ]
  },
  {
   "cell_type": "code",
   "execution_count": 3,
   "metadata": {},
   "outputs": [
    {
     "name": "stdout",
     "output_type": "stream",
     "text": [
      "\n",
      "Call:\n",
      "lm(formula = myForm, data = Linear_model)\n",
      "\n",
      "Residuals:\n",
      "     Min       1Q   Median       3Q      Max \n",
      "-1.00068 -0.35214  0.04111  0.41357  1.11663 \n",
      "\n",
      "Coefficients:\n",
      "                      Estimate Std. Error t value Pr(>|t|)   \n",
      "(Intercept)         -1.683e-15  8.604e-02   0.000  1.00000   \n",
      "week_year           -3.034e-02  1.059e-01  -0.286  0.77618   \n",
      "product_mrp          2.513e-01  1.134e-01   2.217  0.03300 * \n",
      "units                2.961e-01  1.104e-01   2.681  0.01101 * \n",
      "sla                  3.725e-01  1.158e-01   3.216  0.00274 **\n",
      "number              -1.365e-01  9.424e-02  -1.449  0.15609   \n",
      "Digital             -1.125e-01  1.084e-01  -1.038  0.30636   \n",
      "per_order            2.871e-01  1.048e-01   2.740  0.00949 **\n",
      "Premium_p            2.340e-01  9.749e-02   2.400  0.02168 * \n",
      "inc_PO_MA1          -2.250e-01  9.941e-02  -2.263  0.02976 * \n",
      "list_price.3         3.243e-03  9.622e-02   0.034  0.97330   \n",
      "promotional_offer.2 -1.151e-01  1.040e-01  -1.107  0.27566   \n",
      "NPS.3                1.602e-01  1.045e-01   1.532  0.13420   \n",
      "---\n",
      "Signif. codes:  0 ‘***’ 0.001 ‘**’ 0.01 ‘*’ 0.05 ‘.’ 0.1 ‘ ’ 1\n",
      "\n",
      "Residual standard error: 0.6023 on 36 degrees of freedom\n",
      "Multiple R-squared:  0.7279,\tAdjusted R-squared:  0.6372 \n",
      "F-statistic: 8.027 on 12 and 36 DF,  p-value: 5.073e-07\n",
      "\n"
     ]
    }
   ],
   "source": [
    "library(car)\n",
    "library(MASS)\n",
    "\n",
    "all_vifs <- vif(model_1)\n",
    "\n",
    " signif_all <- names(all_vifs)\n",
    "\n",
    " while(any(all_vifs > 2)){\n",
    "  var_with_max_vif <- names(which(all_vifs == max(all_vifs)))    # get the var with max vif\n",
    "  signif_all <- signif_all[!(signif_all) %in% var_with_max_vif]  # remove\n",
    "  myForm <- as.formula(paste(\"gmv ~ \", paste (signif_all, collapse=\" + \"), sep=\"\"))  # new formula\n",
    "  selectedMod <- lm(myForm, data=Linear_model)  # re-build model with new formula\n",
    "  all_vifs <- vif(selectedMod)\n",
    "}\n",
    "\n",
    "##Final Model \n",
    "Linear_Final_model <- selectedMod\n",
    "print(summary(Linear_Final_model))  \n",
    "\n"
   ]
  },
  {
   "cell_type": "markdown",
   "metadata": {},
   "source": [
    "k-fold Cross Validation"
   ]
  },
  {
   "cell_type": "code",
   "execution_count": 4,
   "metadata": {},
   "outputs": [
    {
     "name": "stderr",
     "output_type": "stream",
     "text": [
      "Loading required package: lattice\n",
      "Loading required package: ggplot2\n"
     ]
    },
    {
     "name": "stdout",
     "output_type": "stream",
     "text": [
      "Linear Regression \n",
      "\n",
      "49 samples\n",
      "12 predictors\n",
      "\n",
      "No pre-processing\n",
      "Resampling: Cross-Validated (10 fold) \n",
      "Summary of sample sizes: 43, 45, 46, 43, 43, 45, ... \n",
      "Resampling results:\n",
      "\n",
      "  RMSE       Rsquared   MAE     \n",
      "  0.7692416  0.4916623  0.622101\n",
      "\n",
      "Tuning parameter 'intercept' was held constant at a value of TRUE\n"
     ]
    }
   ],
   "source": [
    "library(caret)\n",
    "# Define training control\n",
    "set.seed(123)\n",
    "train.control <- trainControl(method = \"cv\", number = 10)\n",
    "# Train the model\n",
    "cross_val <- train(myForm, data = Linear_model, method = \"lm\",\n",
    "               trControl = train.control)\n",
    "# Summarize the results\n",
    "print(cross_val)\n"
   ]
  },
  {
   "cell_type": "markdown",
   "metadata": {},
   "source": [
    "#### Elasticity Analysis"
   ]
  },
  {
   "cell_type": "code",
   "execution_count": 5,
   "metadata": {},
   "outputs": [
    {
     "name": "stdout",
     "output_type": "stream",
     "text": [
      "              Variable   Elasticity direction\n",
      "1            week_year -0.003067719  Negative\n",
      "2          product_mrp  0.100699678  Positive\n",
      "3                units  7.213139578  Positive\n",
      "4                  sla -0.106053120  Negative\n",
      "5               number  0.009529928  Positive\n",
      "6              Digital  0.014975673  Positive\n",
      "7            per_order -0.072496964  Negative\n",
      "8            Premium_p  0.100284331  Positive\n",
      "9           inc_PO_MA1 -0.007943659  Negative\n",
      "10        list_price.3  0.002034840  Positive\n",
      "11 promotional_offer.2  0.283241775  Positive\n",
      "12               NPS.3  0.008776529  Positive\n"
     ]
    },
    {
     "data": {
      "image/png": "[encoded data removed]",
      "text/plain": [
       "plot without title"
      ]
     },
     "metadata": {},
     "output_type": "display_data"
    }
   ],
   "source": [
    "# Elasticity Analysis\n",
    "train <- Linear_model\n",
    "hrlm<-Linear_Final_model\n",
    "# estimating the elasticity coefficients\n",
    "elasticity <- function(var){\n",
    "  \n",
    "  elax1 <-as.numeric(hrlm$coefficients[var]*mean(train[,var])/mean(train$gmv))\n",
    "  \n",
    "  return(elax1)\n",
    "} \n",
    "var_list <- list()\n",
    "\n",
    "for(i in 2:length(hrlm$coefficients)){\n",
    "  \n",
    "  var_list[i-1] <-elasticity(names(hrlm$coefficients)[i])\n",
    "  \n",
    "}\n",
    "\n",
    "elasticity.outputs <- data.frame(names(hrlm$coefficients[2:length(hrlm$coefficients)]))\n",
    "elasticity.outputs <- cbind(elasticity.outputs,do.call(rbind.data.frame, var_list))\n",
    "colnames(elasticity.outputs) <- c(\"Variable\",\"Elasticity\")\n",
    "\n",
    "elasticity.outputs$direction <- ifelse(elasticity.outputs$Elasticity > 0, \"Positive\", \"Negative\")\n",
    "print(elasticity.outputs)\n",
    "\n",
    "\n",
    "print(ggplot(data=elasticity.outputs, aes(x=reorder(Variable,Elasticity),y=Elasticity)) +\n",
    "  geom_bar(position=\"dodge\",stat=\"identity\") + \n",
    "  coord_flip() +\n",
    "  ggtitle(\"Gaming Accesory - Linear Model\") +xlab(\"Variables\"))\n"
   ]
  },
  {
   "cell_type": "markdown",
   "metadata": {},
   "source": [
    "### Multiplicative Model"
   ]
  },
  {
   "cell_type": "code",
   "execution_count": 6,
   "metadata": {
    "scrolled": true
   },
   "outputs": [
    {
     "name": "stdout",
     "output_type": "stream",
     "text": [
      "\n",
      "Call:\n",
      "lm(formula = gmv ~ ., data = multi)\n",
      "\n",
      "Residuals:\n",
      "       Min         1Q     Median         3Q        Max \n",
      "-0.0058167 -0.0014104 -0.0003068  0.0018031  0.0045180 \n",
      "\n",
      "Coefficients:\n",
      "                          Estimate Std. Error t value Pr(>|t|)    \n",
      "(Intercept)             -0.8292872  0.7174453  -1.156   0.2607    \n",
      "week_year                0.0084326  0.0080411   1.049   0.3062    \n",
      "list_price               1.0059766  0.0152386  66.015  < 2e-16 ***\n",
      "product_mrp             -0.0037482  0.0047405  -0.791   0.4380    \n",
      "units                    0.7901556  0.1461622   5.406 2.31e-05 ***\n",
      "sla                      0.0046987  0.0115132   0.408   0.6873    \n",
      "promotional_offer       -0.0104141  0.0114544  -0.909   0.3736    \n",
      "number                  -0.0001178  0.0002937  -0.401   0.6925    \n",
      "Total.Investment         0.0341976  0.0306431   1.116   0.2770    \n",
      "TV                      -0.0094156  0.0082490  -1.141   0.2665    \n",
      "Digital                  0.0058182  0.0072301   0.805   0.4300    \n",
      "Sponsorship             -0.0107218  0.0101828  -1.053   0.3043    \n",
      "Content.Marketing       -0.0013054  0.0015569  -0.838   0.4112    \n",
      "Online.marketing        -0.0002033  0.0138416  -0.015   0.9884    \n",
      "Affiliates               0.0130604  0.0129935   1.005   0.3263    \n",
      "SEM                     -0.0102247  0.0132346  -0.773   0.4484    \n",
      "product_procurement_sla  0.0262172  0.0126738   2.069   0.0511 .  \n",
      "per_order               -0.0043618  0.0043328  -1.007   0.3255    \n",
      "NPS                      0.1892827  0.1654466   1.144   0.2655    \n",
      "list_price.1            -0.0030272  0.0096777  -0.313   0.7575    \n",
      "list_price.2             0.0039526  0.0081168   0.487   0.6313    \n",
      "list_price.3             0.0012932  0.0079521   0.163   0.8724    \n",
      "promotional_offer.1      0.0079176  0.0136747   0.579   0.5688    \n",
      "promotional_offer.2      0.0036579  0.0093365   0.392   0.6992    \n",
      "promotional_offer.3      0.0050740  0.0104126   0.487   0.6311    \n",
      "NPS.1                   -0.0111385  0.0402762  -0.277   0.7848    \n",
      "NPS.2                    0.0070357  0.0446577   0.158   0.8763    \n",
      "NPS.3                   -0.0213492  0.0343417  -0.622   0.5408    \n",
      "---\n",
      "Signif. codes:  0 ‘***’ 0.001 ‘**’ 0.01 ‘*’ 0.05 ‘.’ 0.1 ‘ ’ 1\n",
      "\n",
      "Residual standard error: 0.003154 on 21 degrees of freedom\n",
      "Multiple R-squared:  0.9999,\tAdjusted R-squared:  0.9998 \n",
      "F-statistic:  7221 on 27 and 21 DF,  p-value: < 2.2e-16\n",
      "\n"
     ]
    }
   ],
   "source": [
    "multi <-data\n",
    "multi <- multi[,-c(20:28)]\n",
    "multi$number[which(multi$number==0)] <- 0.01\n",
    "multi$Content.Marketing[which(multi$Content.Marketing==0)] <- 0.01\n",
    "multi$per_order[which(multi$per_order==0)] <- 0.01\n",
    "multi$TV[which(multi$TV==0)] <- 0.01\n",
    "multi <- log(multi)\n",
    "## First model ##\n",
    "multi_model <- lm(gmv~.,multi)\n",
    "print(summary(multi_model))"
   ]
  },
  {
   "cell_type": "markdown",
   "metadata": {},
   "source": [
    "Model Selection"
   ]
  },
  {
   "cell_type": "code",
   "execution_count": 7,
   "metadata": {},
   "outputs": [
    {
     "name": "stdout",
     "output_type": "stream",
     "text": [
      "\n",
      "Call:\n",
      "lm(formula = myForm, data = multi)\n",
      "\n",
      "Residuals:\n",
      "     Min       1Q   Median       3Q      Max \n",
      "-0.98633 -0.05188  0.04504  0.12115  0.20924 \n",
      "\n",
      "Coefficients:\n",
      "                         Estimate Std. Error t value Pr(>|t|)  \n",
      "(Intercept)              4.244566   2.337776   1.816   0.0766 .\n",
      "week_year               -0.008049   0.043635  -0.184   0.8545  \n",
      "product_procurement_sla  0.424110   0.260904   1.626   0.1115  \n",
      "list_price.1             0.190500   0.152337   1.251   0.2180  \n",
      "list_price.2             0.097499   0.154834   0.630   0.5323  \n",
      "list_price.3            -0.046088   0.153163  -0.301   0.7650  \n",
      "NPS.3                    0.130775   0.422851   0.309   0.7586  \n",
      "---\n",
      "Signif. codes:  0 ‘***’ 0.001 ‘**’ 0.01 ‘*’ 0.05 ‘.’ 0.1 ‘ ’ 1\n",
      "\n",
      "Residual standard error: 0.2036 on 42 degrees of freedom\n",
      "Multiple R-squared:  0.1026,\tAdjusted R-squared:  -0.02559 \n",
      "F-statistic: 0.8004 on 6 and 42 DF,  p-value: 0.5752\n",
      "\n"
     ]
    }
   ],
   "source": [
    "library(car)\n",
    "library(MASS)\n",
    "\n",
    "all_vifs <- vif(multi_model)\n",
    "\n",
    " signif_all <- names(all_vifs)\n",
    "\n",
    " while(any(all_vifs > 1.1)){\n",
    "  var_with_max_vif <- names(which(all_vifs == max(all_vifs)))    # get the var with max vif\n",
    "  signif_all <- signif_all[!(signif_all) %in% var_with_max_vif]  # remove\n",
    "  myForm <- as.formula(paste(\"gmv ~ \", paste (signif_all, collapse=\" + \"), sep=\"\"))  # new formula\n",
    "  selectedMod <- lm(myForm, data=multi)  # re-build model with new formula\n",
    "  all_vifs <- vif(selectedMod)\n",
    "}\n",
    "\n",
    "Multi_Final_model <- selectedMod\n",
    "print(summary(Multi_Final_model))\n"
   ]
  },
  {
   "cell_type": "markdown",
   "metadata": {},
   "source": [
    "k-fold Cross Validation"
   ]
  },
  {
   "cell_type": "code",
   "execution_count": 8,
   "metadata": {
    "scrolled": true
   },
   "outputs": [
    {
     "name": "stdout",
     "output_type": "stream",
     "text": [
      "Linear Regression \n",
      "\n",
      "49 samples\n",
      " 6 predictor\n",
      "\n",
      "No pre-processing\n",
      "Resampling: Cross-Validated (10 fold) \n",
      "Summary of sample sizes: 43, 45, 46, 43, 43, 45, ... \n",
      "Resampling results:\n",
      "\n",
      "  RMSE       Rsquared   MAE      \n",
      "  0.2339321  0.3031649  0.1682887\n",
      "\n",
      "Tuning parameter 'intercept' was held constant at a value of TRUE\n"
     ]
    }
   ],
   "source": [
    "library(caret)\n",
    "# Define training control\n",
    "set.seed(123)\n",
    "train.control <- trainControl(method = \"cv\", number = 10)\n",
    "# Train the model\n",
    "cross_val1 <- train(myForm, data = multi, method = \"lm\",\n",
    "               trControl = train.control)\n",
    "# Summarize t1he results\n",
    "print(cross_val1)"
   ]
  },
  {
   "cell_type": "markdown",
   "metadata": {},
   "source": [
    "#### Elasticity Analysis"
   ]
  },
  {
   "cell_type": "code",
   "execution_count": 9,
   "metadata": {
    "scrolled": true
   },
   "outputs": [
    {
     "name": "stdout",
     "output_type": "stream",
     "text": [
      "                 Variable   Elasticity direction\n",
      "1               week_year -0.003779837  Negative\n",
      "2 product_procurement_sla  0.057114430  Positive\n",
      "3            list_price.1  0.189928193  Positive\n",
      "4            list_price.2  0.097208170  Positive\n",
      "5            list_price.3 -0.045963426  Negative\n",
      "6                   NPS.3  0.075574994  Positive\n"
     ]
    },
    {
     "data": {},
     "metadata": {},
     "output_type": "display_data"
    },
    {
     "data": {
      "image/png": "[encoded data removed]",
      "text/plain": [
       "plot without title"
      ]
     },
     "metadata": {},
     "output_type": "display_data"
    }
   ],
   "source": [
    "# Elasticity Analysis\n",
    "train1 <- multi\n",
    "hrlm1<-Multi_Final_model\n",
    "# estimating the elasticity coefficients\n",
    "elasticity1 <- function(var){\n",
    "  \n",
    "  elax2 <-as.numeric(hrlm1$coefficients[var]*mean(train1[,var])/mean(train1$gmv))\n",
    "  \n",
    "  return(elax2)\n",
    "} \n",
    "var_list <- list()\n",
    "\n",
    "for(i in 2:length(hrlm1$coefficients)){\n",
    "  \n",
    "  var_list[i-1] <-elasticity1(names(hrlm1$coefficients)[i])\n",
    "  \n",
    "}\n",
    "\n",
    "elasticity.outputs1 <- data.frame(names(hrlm1$coefficients[2:length(hrlm1$coefficients)]))\n",
    "elasticity.outputs1 <- cbind(elasticity.outputs1,do.call(rbind.data.frame, var_list))\n",
    "colnames(elasticity.outputs1) <- c(\"Variable\",\"Elasticity\")\n",
    "\n",
    "elasticity.outputs1$direction <- ifelse(elasticity.outputs1$Elasticity > 0, \"Positive\", \"Negative\")\n",
    "print(elasticity.outputs1)\n",
    "\n",
    "\n",
    "ggplot(data=elasticity.outputs1, aes(x=reorder(Variable,Elasticity),y=Elasticity)) +\n",
    "  geom_bar(position=\"dodge\",stat=\"identity\") + \n",
    "  coord_flip() +\n",
    "  ggtitle(\"Gaming Accesory- Multiplicative Model\") +xlab(\"Variables\")\n"
   ]
  },
  {
   "cell_type": "markdown",
   "metadata": {},
   "source": [
    "### Kyock Model"
   ]
  },
  {
   "cell_type": "code",
   "execution_count": 10,
   "metadata": {},
   "outputs": [
    {
     "name": "stderr",
     "output_type": "stream",
     "text": [
      "\n",
      "Remember to put Home_koyck in time order before running.\n",
      "\n",
      "Lagging gmv by 1 time units.\n",
      "\n"
     ]
    },
    {
     "name": "stdout",
     "output_type": "stream",
     "text": [
      "\n",
      "Call:\n",
      "lm(formula = gmv ~ ., data = Home_koyck)\n",
      "\n",
      "Residuals:\n",
      "     Min       1Q   Median       3Q      Max \n",
      "-3.06469 -0.34735  0.07461  0.51427  1.27118 \n",
      "\n",
      "Coefficients:\n",
      "                          Estimate Std. Error t value Pr(>|t|)    \n",
      "(Intercept)             -5.572e+02  2.082e+02  -2.677 0.020162 *  \n",
      "week_year                2.541e-01  2.706e-01   0.939 0.366130    \n",
      "list_price               1.166e+00  5.995e-02  19.452 1.93e-10 ***\n",
      "product_mrp             -1.187e-03  1.397e-03  -0.850 0.412079    \n",
      "units                    4.486e+02  1.018e+02   4.407 0.000855 ***\n",
      "sla                     -6.875e-01  1.555e+00  -0.442 0.666234    \n",
      "promotional_offer       -1.982e+02  2.317e+02  -0.855 0.409073    \n",
      "number                  -3.036e-01  3.134e-01  -0.969 0.351751    \n",
      "Total.Investment         1.476e+00  6.380e-01   2.314 0.039207 *  \n",
      "TV                      -8.697e+00  3.829e+00  -2.271 0.042343 *  \n",
      "Digital                  1.586e+00  5.188e+00   0.306 0.765105    \n",
      "Sponsorship             -6.652e-01  3.398e-01  -1.958 0.073918 .  \n",
      "Content.Marketing       -2.446e+01  1.373e+01  -1.782 0.100050    \n",
      "Online.marketing        -5.571e+00  2.052e+00  -2.715 0.018786 *  \n",
      "Affiliates               1.783e+01  7.820e+00   2.280 0.041679 *  \n",
      "SEM                     -6.886e-01  2.557e+00  -0.269 0.792318    \n",
      "product_procurement_sla  1.182e+01  2.821e+00   4.189 0.001257 ** \n",
      "per_order                1.317e+01  6.309e+00   2.088 0.058796 .  \n",
      "NPS                      2.392e+00  1.860e+00   1.286 0.222604    \n",
      "Premium_p                3.694e-02  6.456e-02   0.572 0.577719    \n",
      "Mass_p                  -6.416e-03  1.155e-03  -5.557 0.000124 ***\n",
      "Middle_p                 5.230e-03  2.489e-03   2.101 0.057429 .  \n",
      "inc_LP_MA1              -1.053e+02  4.963e+01  -2.122 0.055357 .  \n",
      "inc_LP_MA2              -1.633e+02  1.103e+02  -1.481 0.164421    \n",
      "inc_LP_MA3               3.990e+01  9.359e+01   0.426 0.677420    \n",
      "inc_PO_MA1              -9.483e+01  1.780e+02  -0.533 0.603896    \n",
      "inc_PO_MA2               4.617e+02  2.673e+02   1.727 0.109726    \n",
      "inc_PO_MA3              -2.679e+02  2.274e+02  -1.178 0.261467    \n",
      "list_price.1            -1.492e-01  3.467e-02  -4.303 0.001026 ** \n",
      "list_price.2            -6.081e-02  3.448e-02  -1.764 0.103229    \n",
      "list_price.3             3.110e-02  3.369e-02   0.923 0.374133    \n",
      "promotional_offer.1      3.413e+01  1.409e+02   0.242 0.812673    \n",
      "promotional_offer.2      1.963e+02  1.410e+02   1.392 0.189096    \n",
      "promotional_offer.3     -8.394e+01  1.406e+02  -0.597 0.561596    \n",
      "NPS.1                   -1.994e-01  4.669e-01  -0.427 0.676922    \n",
      "NPS.2                    1.658e-01  4.931e-01   0.336 0.742474    \n",
      "NPS.3                   -6.503e-01  3.303e-01  -1.969 0.072469 .  \n",
      "---\n",
      "Signif. codes:  0 ‘***’ 0.001 ‘**’ 0.01 ‘*’ 0.05 ‘.’ 0.1 ‘ ’ 1\n",
      "\n",
      "Residual standard error: 1.56 on 12 degrees of freedom\n",
      "Multiple R-squared:      1,\tAdjusted R-squared:  0.9999 \n",
      "F-statistic: 1.026e+04 on 36 and 12 DF,  p-value: < 2.2e-16\n",
      "\n"
     ]
    }
   ],
   "source": [
    "library(DataCombine)\n",
    "Home_koyck<-data\n",
    "#gmv Lag 1\n",
    "Home_Koyck<-slide(Home_koyck,Var=\"gmv\",slideBy =-1)\n",
    "Home_Koyck<-na.omit(Home_koyck)\n",
    "Home_Koyck<-scale(Home_koyck)\n",
    "Home_Koyck<-data.frame(Home_koyck)\n",
    "\n",
    "# Build Kyock model\n",
    "Koy_model <- lm(gmv~.,Home_koyck)\n",
    "print(summary(Koy_model))\n",
    "\n"
   ]
  },
  {
   "cell_type": "code",
   "execution_count": 11,
   "metadata": {
    "scrolled": true
   },
   "outputs": [
    {
     "data": {
      "text/plain": [
       "\n",
       "Call:\n",
       "lm(formula = myForm, data = Home_koyck)\n",
       "\n",
       "Residuals:\n",
       "     Min       1Q   Median       3Q      Max \n",
       "-136.940  -48.189    5.626   56.597  152.809 \n",
       "\n",
       "Coefficients:\n",
       "                      Estimate Std. Error t value Pr(>|t|)   \n",
       "(Intercept)         -4.532e+03  1.790e+03  -2.531  0.01587 * \n",
       "week_year           -2.822e-01  9.852e-01  -0.286  0.77618   \n",
       "product_mrp          4.286e-02  1.933e-02   2.217  0.03300 * \n",
       "units                4.337e+03  1.618e+03   2.681  0.01101 * \n",
       "sla                  1.116e+02  3.468e+01   3.216  0.00274 **\n",
       "number              -1.412e+01  9.749e+00  -1.449  0.15609   \n",
       "Digital             -4.921e+00  4.743e+00  -1.038  0.30636   \n",
       "per_order            2.035e+02  7.427e+01   2.740  0.00949 **\n",
       "Premium_p            2.696e+00  1.123e+00   2.400  0.02168 * \n",
       "inc_PO_MA1          -5.591e+02  2.470e+02  -2.263  0.02976 * \n",
       "list_price.3         3.347e-03  9.928e-02   0.034  0.97330   \n",
       "promotional_offer.2 -3.681e+02  3.326e+02  -1.107  0.27566   \n",
       "NPS.3                6.100e+00  3.981e+00   1.532  0.13420   \n",
       "---\n",
       "Signif. codes:  0 ‘***’ 0.001 ‘**’ 0.01 ‘*’ 0.05 ‘.’ 0.1 ‘ ’ 1\n",
       "\n",
       "Residual standard error: 82.42 on 36 degrees of freedom\n",
       "Multiple R-squared:  0.7279,\tAdjusted R-squared:  0.6372 \n",
       "F-statistic: 8.027 on 12 and 36 DF,  p-value: 5.073e-07\n"
      ]
     },
     "metadata": {},
     "output_type": "display_data"
    }
   ],
   "source": [
    "all_vifs <- vif(Koy_model)\n",
    " signif_all <- names(all_vifs)\n",
    "\n",
    " while(any(all_vifs > 2)){\n",
    "  var_with_max_vif <- names(which(all_vifs == max(all_vifs)))    # get the var with max vif\n",
    "  signif_all <- signif_all[!(signif_all) %in% var_with_max_vif]  # remove\n",
    "  myForm <- as.formula(paste(\"gmv ~ \", paste (signif_all, collapse=\" + \"), sep=\"\"))  # new formula\n",
    "  selectedMod <- lm(myForm, data=Home_koyck)  # re-build model with new formula\n",
    "  all_vifs <- vif(selectedMod)\n",
    "}\n",
    "\n",
    "kyock_Final_model <- selectedMod\n",
    "summary(kyock_Final_model)"
   ]
  },
  {
   "cell_type": "markdown",
   "metadata": {},
   "source": [
    "k-fold Cross Validation"
   ]
  },
  {
   "cell_type": "code",
   "execution_count": 12,
   "metadata": {
    "scrolled": true
   },
   "outputs": [
    {
     "name": "stdout",
     "output_type": "stream",
     "text": [
      "Linear Regression \n",
      "\n",
      "49 samples\n",
      "12 predictors\n",
      "\n",
      "No pre-processing\n",
      "Resampling: Cross-Validated (10 fold) \n",
      "Summary of sample sizes: 43, 45, 46, 43, 43, 45, ... \n",
      "Resampling results:\n",
      "\n",
      "  RMSE      Rsquared   MAE    \n",
      "  105.2691  0.4916623  85.1332\n",
      "\n",
      "Tuning parameter 'intercept' was held constant at a value of TRUE\n"
     ]
    }
   ],
   "source": [
    "library(caret)\n",
    "# Define training control\n",
    "set.seed(123)\n",
    "train.control <- trainControl(method = \"cv\", number = 10)\n",
    "# Train the model\n",
    "cross_val2 <- train(myForm, data = Home_koyck, method = \"lm\",\n",
    "               trControl = train.control)\n",
    "# Summarize t1he results\n",
    "print(cross_val2)"
   ]
  },
  {
   "cell_type": "markdown",
   "metadata": {},
   "source": [
    "#### Elasticity Analysis"
   ]
  },
  {
   "cell_type": "code",
   "execution_count": 13,
   "metadata": {},
   "outputs": [
    {
     "data": {},
     "metadata": {},
     "output_type": "display_data"
    },
    {
     "data": {
      "image/png": "[encoded data removed]",
      "text/plain": [
       "plot without title"
      ]
     },
     "metadata": {},
     "output_type": "display_data"
    }
   ],
   "source": [
    "# Elasticity Analysis\n",
    "train2 <- Home_koyck\n",
    "hrlm2<-kyock_Final_model\n",
    "# estimating the elasticity coefficients\n",
    "elasticity2 <- function(var){\n",
    "  \n",
    "  elax2 <-as.numeric(hrlm2$coefficients[var]*mean(train2[,var])/mean(train2$gmv))\n",
    "\n",
    "  return(elax2)\n",
    "} \n",
    "var_list <- list()\n",
    "\n",
    "for(i in 2:length(hrlm2$coefficients)){\n",
    "  \n",
    "  var_list[i-1] <-elasticity2(names(hrlm2$coefficients)[i])\n",
    "  \n",
    "}\n",
    "\n",
    "elasticity.outputs <- data.frame(names(hrlm2$coefficients[2:length(hrlm2$coefficients)]))\n",
    "elasticity.outputs <- cbind(elasticity.outputs,do.call(rbind.data.frame, var_list))\n",
    "colnames(elasticity.outputs) <- c(\"Variable\",\"Elasticity\")\n",
    "\n",
    "elasticity.outputs$direction <- ifelse(elasticity.outputs$Elasticity > 0, \"Positive\", \"Negative\")\n",
    "\n",
    "\n",
    "\n",
    "ggplot(data=elasticity.outputs, aes(x=reorder(Variable,Elasticity),y=Elasticity)) +\n",
    "  geom_bar(position=\"dodge\",stat=\"identity\") + \n",
    "  coord_flip() +\n",
    "  ggtitle(\"Gaming Accesory - Koyck Model\") +xlab(\"Variables\")"
   ]
  },
  {
   "cell_type": "markdown",
   "metadata": {},
   "source": [
    "### Distributed Lag Model"
   ]
  },
  {
   "cell_type": "code",
   "execution_count": 14,
   "metadata": {},
   "outputs": [
    {
     "name": "stderr",
     "output_type": "stream",
     "text": [
      "\n",
      "Remember to put Dis_Model in time order before running.\n",
      "\n",
      "Lagging gmv by 1 time units.\n",
      "\n",
      "\n",
      "Remember to put Dis_model in time order before running.\n",
      "\n",
      "Lagging gmv by 2 time units.\n",
      "\n",
      "\n",
      "Remember to put Dis_model in time order before running.\n",
      "\n",
      "Lagging gmv by 3 time units.\n",
      "\n"
     ]
    },
    {
     "name": "stdout",
     "output_type": "stream",
     "text": [
      "\n",
      "Call:\n",
      "lm(formula = gmv ~ ., data = Dis_model)\n",
      "\n",
      "Residuals:\n",
      "       Min         1Q     Median         3Q        Max \n",
      "-0.0200321 -0.0016458  0.0005954  0.0022086  0.0089708 \n",
      "\n",
      "Coefficients:\n",
      "                          Estimate Std. Error t value Pr(>|t|)    \n",
      "(Intercept)              3.377e-16  1.974e-03   0.000   1.0000    \n",
      "week_year                1.172e-02  9.390e-02   0.125   0.9048    \n",
      "list_price               1.092e+00  8.535e-02  12.792  1.4e-05 ***\n",
      "product_mrp             -7.462e-03  1.633e-02  -0.457   0.6637    \n",
      "units                    3.107e-02  1.359e-02   2.287   0.0622 .  \n",
      "sla                     -5.916e-04  7.628e-03  -0.078   0.9407    \n",
      "promotional_offer       -3.393e-02  9.920e-02  -0.342   0.7440    \n",
      "number                  -1.818e-03  4.518e-03  -0.402   0.7013    \n",
      "Total.Investment         2.162e-01  8.752e-01   0.247   0.8131    \n",
      "TV                      -8.042e-02  4.114e-01  -0.195   0.8515    \n",
      "Digital                  3.508e-02  1.132e+00   0.031   0.9763    \n",
      "Sponsorship             -4.619e-02  1.313e-01  -0.352   0.7370    \n",
      "Content.Marketing       -8.846e-02  1.078e+00  -0.082   0.9373    \n",
      "Online.marketing        -1.005e-01  6.469e-01  -0.155   0.8817    \n",
      "Affiliates               8.722e-02  3.100e-01   0.281   0.7879    \n",
      "SEM                     -3.776e-02  6.617e-01  -0.057   0.9563    \n",
      "product_procurement_sla  2.395e-02  9.355e-03   2.560   0.0429 *  \n",
      "per_order                1.759e-02  2.056e-02   0.856   0.4250    \n",
      "NPS                      2.372e-02  2.990e-01   0.079   0.9393    \n",
      "Premium_p                1.727e-03  9.237e-03   0.187   0.8578    \n",
      "Mass_p                  -4.489e-02  2.675e-02  -1.678   0.1443    \n",
      "Middle_p                 2.626e-02  2.815e-02   0.933   0.3870    \n",
      "inc_LP_MA1              -1.039e-01  6.463e-02  -1.608   0.1590    \n",
      "inc_LP_MA2              -1.640e-01  1.401e-01  -1.171   0.2862    \n",
      "inc_LP_MA3               1.272e-01  1.282e-01   0.993   0.3592    \n",
      "inc_PO_MA1              -3.489e-02  2.311e-01  -0.151   0.8850    \n",
      "inc_PO_MA2               3.543e-01  3.040e-01   1.165   0.2881    \n",
      "inc_PO_MA3              -3.034e-01  2.747e-01  -1.104   0.3118    \n",
      "list_price.1            -8.261e-02  1.687e-01  -0.490   0.6417    \n",
      "list_price.2             1.240e-01  2.045e-01   0.606   0.5667    \n",
      "list_price.3             2.119e-01  2.273e-01   0.932   0.3873    \n",
      "promotional_offer.1      2.513e-02  1.290e-01   0.195   0.8520    \n",
      "promotional_offer.2      6.985e-02  1.050e-01   0.666   0.5305    \n",
      "promotional_offer.3     -7.661e-02  9.534e-02  -0.803   0.4523    \n",
      "NPS.1                   -7.387e-03  2.065e-02  -0.358   0.7328    \n",
      "NPS.2                    5.994e-03  2.153e-02   0.278   0.7901    \n",
      "NPS.3                   -1.854e-02  1.271e-02  -1.459   0.1948    \n",
      "gmv.1                   -5.427e-02  1.649e-01  -0.329   0.7532    \n",
      "gmv.2                   -1.620e-01  1.805e-01  -0.897   0.4040    \n",
      "gmv.3                   -1.543e-01  2.158e-01  -0.715   0.5015    \n",
      "---\n",
      "Signif. codes:  0 ‘***’ 0.001 ‘**’ 0.01 ‘*’ 0.05 ‘.’ 0.1 ‘ ’ 1\n",
      "\n",
      "Residual standard error: 0.01339 on 6 degrees of freedom\n",
      "Multiple R-squared:      1,\tAdjusted R-squared:  0.9998 \n",
      "F-statistic:  6436 on 39 and 6 DF,  p-value: 1.955e-11\n",
      "\n"
     ]
    }
   ],
   "source": [
    "Dis_Model <- data\n",
    "Dis_model <- slide(Dis_Model, Var = \"gmv\",slideBy = -1)\n",
    "Dis_model <- slide(Dis_model, Var = \"gmv\",slideBy = -2)\n",
    "Dis_model <- slide(Dis_model, Var = \"gmv\",slideBy = -3)\n",
    "Dis_model <- na.omit(Dis_model)\n",
    "Dis_model <- scale(Dis_model)\n",
    "Dis_model <- data.frame(Dis_model)\n",
    "\n",
    "dist_model <- lm(gmv~.,Dis_model)\n",
    "print(summary(dist_model))\n"
   ]
  },
  {
   "cell_type": "markdown",
   "metadata": {},
   "source": [
    "Model Selection"
   ]
  },
  {
   "cell_type": "code",
   "execution_count": 15,
   "metadata": {},
   "outputs": [
    {
     "name": "stdout",
     "output_type": "stream",
     "text": [
      "\n",
      "Call:\n",
      "lm(formula = myForm, data = Dis_model)\n",
      "\n",
      "Residuals:\n",
      "     Min       1Q   Median       3Q      Max \n",
      "-1.07686 -0.34828  0.03427  0.35130  0.84553 \n",
      "\n",
      "Coefficients:\n",
      "                      Estimate Std. Error t value Pr(>|t|)    \n",
      "(Intercept)          2.190e-15  8.463e-02   0.000 1.000000    \n",
      "week_year           -5.004e-02  1.130e-01  -0.443 0.660818    \n",
      "product_mrp          2.744e-01  1.102e-01   2.489 0.018043 *  \n",
      "units                2.829e-01  1.080e-01   2.620 0.013200 *  \n",
      "sla                  4.129e-01  1.112e-01   3.714 0.000752 ***\n",
      "number              -1.594e-01  9.501e-02  -1.677 0.102933    \n",
      "TV                  -1.516e-01  9.764e-02  -1.552 0.130158    \n",
      "per_order            3.462e-01  1.064e-01   3.255 0.002623 ** \n",
      "Premium_p            2.054e-01  9.848e-02   2.086 0.044835 *  \n",
      "inc_PO_MA1          -2.153e-01  9.765e-02  -2.204 0.034581 *  \n",
      "promotional_offer.2 -1.031e-01  9.970e-02  -1.034 0.308745    \n",
      "promotional_offer.3  1.913e-01  1.053e-01   1.818 0.078198 .  \n",
      "NPS.3                9.864e-02  1.047e-01   0.942 0.353164    \n",
      "---\n",
      "Signif. codes:  0 ‘***’ 0.001 ‘**’ 0.01 ‘*’ 0.05 ‘.’ 0.1 ‘ ’ 1\n",
      "\n",
      "Residual standard error: 0.574 on 33 degrees of freedom\n",
      "Multiple R-squared:  0.7584,\tAdjusted R-squared:  0.6705 \n",
      "F-statistic: 8.631 on 12 and 33 DF,  p-value: 4.238e-07\n",
      "\n"
     ]
    }
   ],
   "source": [
    "all_vif <- vif(dist_model)\n",
    "signif_all <- names(all_vif)\n",
    "\n",
    " while(any(all_vif > 2)){\n",
    "  var_with_max_vif <- names(which(all_vif == max(all_vif)))    # get the var with max vif\n",
    "  signif_all <- signif_all[!(signif_all) %in% var_with_max_vif]  # remove\n",
    "  myForm <- as.formula(paste(\"gmv ~ \", paste (signif_all, collapse=\" + \"), sep=\"\"))  # new formula\n",
    "  selectedMod <- lm(myForm, data=Dis_model)  # re-build model with new formula\n",
    "  all_vif <- vif(selectedMod)\n",
    "}\n",
    "\n",
    "Distributed_Final_model <- selectedMod\n",
    "print(summary(Distributed_Final_model))\n"
   ]
  },
  {
   "cell_type": "markdown",
   "metadata": {},
   "source": [
    "K-FOLD CROSS VALIDATION"
   ]
  },
  {
   "cell_type": "code",
   "execution_count": 16,
   "metadata": {},
   "outputs": [
    {
     "name": "stdout",
     "output_type": "stream",
     "text": [
      "Linear Regression \n",
      "\n",
      "46 samples\n",
      "12 predictors\n",
      "\n",
      "No pre-processing\n",
      "Resampling: Cross-Validated (10 fold) \n",
      "Summary of sample sizes: 42, 41, 41, 40, 41, 42, ... \n",
      "Resampling results:\n",
      "\n",
      "  RMSE       Rsquared  MAE      \n",
      "  0.7312253  0.562192  0.6106374\n",
      "\n",
      "Tuning parameter 'intercept' was held constant at a value of TRUE\n"
     ]
    }
   ],
   "source": [
    "library(caret)\n",
    "# Define training control\n",
    "set.seed(123)\n",
    "train.control <- trainControl(method = \"cv\", number = 10)\n",
    "# Train the model\n",
    "cross_val <- train(myForm, data =Dis_model , method = \"lm\",\n",
    "               trControl = train.control)\n",
    "# Summarize t1he results\n",
    "print(cross_val)"
   ]
  },
  {
   "cell_type": "markdown",
   "metadata": {},
   "source": [
    "#### Elasticity Analysis"
   ]
  },
  {
   "cell_type": "code",
   "execution_count": 17,
   "metadata": {},
   "outputs": [
    {
     "data": {},
     "metadata": {},
     "output_type": "display_data"
    },
    {
     "data": {
      "image/png": "[encoded data removed]",
      "text/plain": [
       "plot without title"
      ]
     },
     "metadata": {},
     "output_type": "display_data"
    }
   ],
   "source": [
    "# Elasticity Analysis\n",
    "train <- Dis_model\n",
    "hrlm<-Distributed_Final_model\n",
    "# estimating the elasticity coefficients\n",
    "elasticity <- function(var){\n",
    "  elax1 <-as.numeric(hrlm$coefficients[var]*mean(train[,var])/mean(train$gmv))\n",
    "  return(elax1)\n",
    "} \n",
    "var_list <- list()\n",
    "\n",
    "for(i in 2:length(hrlm$coefficients)){\n",
    "  \n",
    "  var_list[i-1] <- elasticity(names(hrlm$coefficients)[i])\n",
    "  \n",
    "}\n",
    "\n",
    "elasticity.outputs <- data.frame(names(hrlm$coefficients[2:length(hrlm$coefficients)]))\n",
    "elasticity.outputs <- cbind(elasticity.outputs,do.call(rbind.data.frame, var_list))\n",
    "colnames(elasticity.outputs) <- c(\"Variable\",\"Elasticity\")\n",
    "\n",
    "elasticity.outputs$direction <- ifelse(elasticity.outputs$Elasticity > 0, \"Positive\", \"Negative\")\n",
    "\n",
    "\n",
    "\n",
    "ggplot(data=elasticity.outputs, aes(x=reorder(Variable,Elasticity),y=Elasticity)) +\n",
    "  geom_bar(position=\"dodge\",stat=\"identity\") + \n",
    "  coord_flip() +\n",
    "  ggtitle(\"Gaming Accesory- Distributed_lag Model\") +xlab(\"Variables\")"
   ]
  },
  {
   "cell_type": "markdown",
   "metadata": {},
   "source": [
    "### Multiplicative + distributed model:"
   ]
  },
  {
   "cell_type": "code",
   "execution_count": 18,
   "metadata": {},
   "outputs": [
    {
     "name": "stderr",
     "output_type": "stream",
     "text": [
      "\n",
      "Remember to put Multi_dist in time order before running.\n",
      "\n",
      "Lagging gmv by 1 time units.\n",
      "\n",
      "\n",
      "Remember to put Multi_Dis_model_1 in time order before running.\n",
      "\n",
      "Lagging gmv by 2 time units.\n",
      "\n",
      "\n",
      "Remember to put Multi_Dis_model_1 in time order before running.\n",
      "\n",
      "Lagging gmv by 3 time units.\n",
      "\n"
     ]
    },
    {
     "name": "stdout",
     "output_type": "stream",
     "text": [
      "\n",
      "Call:\n",
      "lm(formula = gmv ~ ., data = Multi_dist)\n",
      "\n",
      "Residuals:\n",
      "       Min         1Q     Median         3Q        Max \n",
      "-0.0061139 -0.0009305  0.0000217  0.0009281  0.0037399 \n",
      "\n",
      "Coefficients:\n",
      "                          Estimate Std. Error t value Pr(>|t|)    \n",
      "(Intercept)              0.3196299  0.8127114   0.393 0.699640    \n",
      "week_year                0.0050647  0.0085095   0.595 0.560600    \n",
      "list_price               0.9986625  0.0165728  60.259  < 2e-16 ***\n",
      "product_mrp             -0.0022655  0.0048873  -0.464 0.649629    \n",
      "units                    0.8651767  0.1735084   4.986 0.000163 ***\n",
      "sla                      0.0046671  0.0137059   0.341 0.738192    \n",
      "promotional_offer       -0.0122731  0.0133234  -0.921 0.371542    \n",
      "number                  -0.0001557  0.0003285  -0.474 0.642328    \n",
      "Total.Investment         0.0583603  0.0372374   1.567 0.137906    \n",
      "TV                       0.0011122  0.0071752   0.155 0.878888    \n",
      "Digital                 -0.0014745  0.0083201  -0.177 0.861710    \n",
      "Sponsorship             -0.0361522  0.0207757  -1.740 0.102308    \n",
      "Content.Marketing        0.0129388  0.0075904   1.705 0.108883    \n",
      "Online.marketing         0.0143259  0.0220661   0.649 0.526008    \n",
      "Affiliates              -0.0278565  0.0324218  -0.859 0.403759    \n",
      "SEM                     -0.0263726  0.0174572  -1.511 0.151642    \n",
      "product_procurement_sla  0.0178913  0.0109925   1.628 0.124430    \n",
      "per_order               -0.0007321  0.0047195  -0.155 0.878798    \n",
      "NPS                     -0.1178162  0.1979219  -0.595 0.560540    \n",
      "list_price.1            -0.0591433  0.1547933  -0.382 0.707761    \n",
      "list_price.2             0.0080318  0.1662461   0.048 0.962104    \n",
      "list_price.3            -0.2030859  0.1649538  -1.231 0.237215    \n",
      "promotional_offer.1      0.0114465  0.0150404   0.761 0.458426    \n",
      "promotional_offer.2      0.0126342  0.0104322   1.211 0.244601    \n",
      "promotional_offer.3      0.0063057  0.0110616   0.570 0.577079    \n",
      "NPS.1                    0.0181509  0.0507781   0.357 0.725731    \n",
      "NPS.2                   -0.0100137  0.0518616  -0.193 0.849483    \n",
      "NPS.3                   -0.0059497  0.0402832  -0.148 0.884549    \n",
      "`gmv-1`                  0.0627129  0.1558910   0.402 0.693147    \n",
      "`gmv-2`                 -0.0045007  0.1669001  -0.027 0.978842    \n",
      "`gmv-3`                  0.2040080  0.1657917   1.231 0.237455    \n",
      "---\n",
      "Signif. codes:  0 ‘***’ 0.001 ‘**’ 0.01 ‘*’ 0.05 ‘.’ 0.1 ‘ ’ 1\n",
      "\n",
      "Residual standard error: 0.003256 on 15 degrees of freedom\n",
      "Multiple R-squared:  0.9999,\tAdjusted R-squared:  0.9998 \n",
      "F-statistic:  6014 on 30 and 15 DF,  p-value: < 2.2e-16\n",
      "\n"
     ]
    }
   ],
   "source": [
    "Multi_dist <-data[,-c(20:28)]\n",
    "Multi_Dis_model_1 <- slide(Multi_dist, Var = \"gmv\",slideBy = -1)\n",
    "Multi_Dis_model_1 <- slide(Multi_Dis_model_1, Var = \"gmv\",slideBy = -2)\n",
    "Multi_Dis_model_1 <- slide(Multi_Dis_model_1, Var = \"gmv\",slideBy = -3)\n",
    "Multi_dist <- na.omit(Multi_Dis_model_1)\n",
    "\n",
    "Multi_dist$Content.Marketing[which(Multi_dist$Content.Marketing==0)] <-1\n",
    "Multi_dist$per_order[which(Multi_dist$per_order==0)] <-0.01\n",
    "Multi_dist$number[which(Multi_dist$number==0)] <-0.01\n",
    "Multi_dist$TV[which(Multi_dist$TV==0)] <-0.01\n",
    "Multi_dist <- log(Multi_dist)\n",
    "\n",
    "distMulti <- lm(gmv~., Multi_dist)\n",
    "print(summary(distMulti))\n"
   ]
  },
  {
   "cell_type": "code",
   "execution_count": 19,
   "metadata": {},
   "outputs": [
    {
     "data": {
      "text/plain": [
       "\n",
       "Call:\n",
       "lm(formula = myForm, data = Multi_dist)\n",
       "\n",
       "Residuals:\n",
       "     Min       1Q   Median       3Q      Max \n",
       "-0.52375 -0.08981  0.01362  0.11974  0.25262 \n",
       "\n",
       "Coefficients:\n",
       "                        Estimate Std. Error t value Pr(>|t|)    \n",
       "(Intercept)              3.32132    1.26959   2.616   0.0126 *  \n",
       "week_year               -0.03011    0.04538  -0.664   0.5109    \n",
       "sla                      1.23579    0.28351   4.359 9.23e-05 ***\n",
       "number                  -0.01494    0.01044  -1.431   0.1603    \n",
       "product_procurement_sla  0.38732    0.21804   1.776   0.0835 .  \n",
       "list_price.2             0.12145    0.12594   0.964   0.3408    \n",
       "list_price.3             0.02615    0.12692   0.206   0.8378    \n",
       "---\n",
       "Signif. codes:  0 ‘***’ 0.001 ‘**’ 0.01 ‘*’ 0.05 ‘.’ 0.1 ‘ ’ 1\n",
       "\n",
       "Residual standard error: 0.168 on 39 degrees of freedom\n",
       "Multiple R-squared:  0.4251,\tAdjusted R-squared:  0.3366 \n",
       "F-statistic: 4.806 on 6 and 39 DF,  p-value: 0.0009323\n"
      ]
     },
     "metadata": {},
     "output_type": "display_data"
    }
   ],
   "source": [
    "all_vif <- vif(distMulti )\n",
    "signif_all <- names(all_vif)\n",
    "\n",
    " while(any(all_vif > 1.2)){\n",
    "  var_with_max_vif <- names(which(all_vif == max(all_vif)))    # get the var with max vif\n",
    "  signif_all <- signif_all[!(signif_all) %in% var_with_max_vif]  # remove\n",
    "  myForm <- as.formula(paste(\"gmv ~ \", paste (signif_all, collapse=\" + \"), sep=\"\"))  # new formula\n",
    "  selectedMod <- lm(myForm, data=Multi_dist)  # re-build model with new formula\n",
    "  all_vif <- vif(selectedMod)\n",
    "}\n",
    "\n",
    "DistributedMulti_Final_model <- selectedMod\n",
    "summary(DistributedMulti_Final_model)"
   ]
  },
  {
   "cell_type": "markdown",
   "metadata": {},
   "source": [
    "k-fold CROSS VALIDATION"
   ]
  },
  {
   "cell_type": "code",
   "execution_count": 20,
   "metadata": {
    "scrolled": true
   },
   "outputs": [
    {
     "name": "stdout",
     "output_type": "stream",
     "text": [
      "Linear Regression \n",
      "\n",
      "46 samples\n",
      " 6 predictor\n",
      "\n",
      "No pre-processing\n",
      "Resampling: Cross-Validated (10 fold) \n",
      "Summary of sample sizes: 42, 41, 41, 40, 41, 42, ... \n",
      "Resampling results:\n",
      "\n",
      "  RMSE       Rsquared   MAE      \n",
      "  0.2220338  0.3311451  0.1691446\n",
      "\n",
      "Tuning parameter 'intercept' was held constant at a value of TRUE\n"
     ]
    }
   ],
   "source": [
    "library(caret)\n",
    "# Define training control\n",
    "set.seed(123)\n",
    "train.control <- trainControl(method = \"cv\", number = 10)\n",
    "# Train the model\n",
    "cross_val <- train(myForm, data =Multi_dist , method = \"lm\",\n",
    "               trControl = train.control)\n",
    "# Summarize t1he results\n",
    "print(cross_val)"
   ]
  },
  {
   "cell_type": "markdown",
   "metadata": {},
   "source": [
    "#### ELASTICITY ANALYSIS"
   ]
  },
  {
   "cell_type": "code",
   "execution_count": 21,
   "metadata": {},
   "outputs": [
    {
     "data": {},
     "metadata": {},
     "output_type": "display_data"
    },
    {
     "data": {
      "image/png": "[encoded data removed]",
      "text/plain": [
       "plot without title"
      ]
     },
     "metadata": {},
     "output_type": "display_data"
    }
   ],
   "source": [
    "# estimating the elasticity coefficients\n",
    "train <- Multi_dist\n",
    "\n",
    "grlm <-DistributedMulti_Final_model \n",
    "elasticity <- function(var){\n",
    "  \n",
    "  elax1 <-as.numeric(grlm$coefficients[var]*mean(train[,var])/mean(train$gmv))\n",
    "  \n",
    "  return(elax1)\n",
    "} \n",
    "\n",
    "var_list <- list()\n",
    "\n",
    "for(i in 2:length(grlm$coefficients)){\n",
    "  \n",
    "  var_list[i-1] <-elasticity(names(grlm$coefficients)[i])\n",
    "  \n",
    "}\n",
    "\n",
    "elasticity.outputs <- data.frame(names(grlm$coefficients[2:length(grlm$coefficients)]))\n",
    "elasticity.outputs <- cbind(elasticity.outputs,do.call(rbind.data.frame, var_list))\n",
    "colnames(elasticity.outputs) <- c(\"Variable\",\"Elasticity\")\n",
    "\n",
    "elasticity.outputs$direction <- ifelse(elasticity.outputs$Elasticity > 0, \"Positive\", \"Negative\")\n",
    "\n",
    "\n",
    "\n",
    "ggplot(data=elasticity.outputs, aes(x=reorder(Variable,Elasticity),y=Elasticity)) +\n",
    "  geom_bar(position=\"dodge\",stat=\"identity\") + \n",
    "  coord_flip() +\n",
    "  ggtitle(\"Game Accessory - Multi. & DL model\") +xlab(\"Variables\")\n"
   ]
  },
  {
   "cell_type": "code",
   "execution_count": null,
   "metadata": {},
   "outputs": [],
   "source": []
  },
  {
   "cell_type": "code",
   "execution_count": null,
   "metadata": {},
   "outputs": [],
   "source": []
  },
  {
   "cell_type": "code",
   "execution_count": null,
   "metadata": {},
   "outputs": [],
   "source": []
  }
 ],
 "metadata": {
  "kernelspec": {
   "display_name": "R",
   "language": "R",
   "name": "ir"
  },
  "language_info": {
   "codemirror_mode": "r",
   "file_extension": ".r",
   "mimetype": "text/x-r-source",
   "name": "R",
   "pygments_lexer": "r",
   "version": "3.4.3"
  }
 },
 "nbformat": 4,
 "nbformat_minor": 2
}
