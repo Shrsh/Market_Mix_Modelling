{
 "cells": [
  {
   "cell_type": "code",
   "execution_count": 1,
   "metadata": {},
   "outputs": [
    {
     "data": {
      "text/plain": [
       "   week_year       list_price    product_mrp        gmv           units      \n",
       " Min.   : 4.00   Min.   :1886   Min.   :3117   Min.   :1897   Min.   :1.001  \n",
       " 1st Qu.:15.50   1st Qu.:2053   1st Qu.:3385   1st Qu.:2064   1st Qu.:1.005  \n",
       " Median :27.00   Median :2127   Median :3581   Median :2137   Median :1.007  \n",
       " Mean   :28.21   Mean   :2133   Mean   :3674   Mean   :2144   Mean   :1.007  \n",
       " 3rd Qu.:41.50   3rd Qu.:2200   3rd Qu.:3844   3rd Qu.:2216   3rd Qu.:1.008  \n",
       " Max.   :53.00   Max.   :2384   Max.   :4651   Max.   :2397   Max.   :1.016  \n",
       "      sla        promotional_offer     number       Total.Investment\n",
       " Min.   :4.332   Min.   :0.2972    Min.   :0.0000   Min.   : 17.08  \n",
       " 1st Qu.:5.245   1st Qu.:0.3279    1st Qu.:0.0000   1st Qu.: 49.65  \n",
       " Median :5.623   Median :0.3465    Median :0.0000   Median : 72.79  \n",
       " Mean   :5.719   Mean   :0.3553    Mean   :0.7447   Mean   : 77.23  \n",
       " 3rd Qu.:6.177   3rd Qu.:0.3789    3rd Qu.:1.5000   3rd Qu.:100.00  \n",
       " Max.   :7.412   Max.   :0.4483    Max.   :6.0000   Max.   :170.20  \n",
       "       TV            Digital        Sponsorship    Content.Marketing\n",
       " Min.   :0.1997   Min.   : 0.500   Min.   : 4.20   Min.   :0.0000   \n",
       " 1st Qu.:1.7000   1st Qu.: 1.300   1st Qu.:14.20   1st Qu.:0.0000   \n",
       " Median :4.2000   Median : 1.890   Median :29.85   Median :0.5933   \n",
       " Mean   :3.9972   Mean   : 2.748   Mean   :35.79   Mean   :0.7228   \n",
       " 3rd Qu.:5.4000   3rd Qu.: 2.500   3rd Qu.:56.70   3rd Qu.:0.8000   \n",
       " Max.   :9.3000   Max.   :12.600   Max.   :84.70   Max.   :3.4000   \n",
       " Online.marketing   Affiliates          SEM         product_procurement_sla\n",
       " Min.   : 1.298   Min.   :0.4994   Min.   : 3.700   Min.   :1.560          \n",
       " 1st Qu.:16.400   1st Qu.:5.0000   1st Qu.: 4.900   1st Qu.:2.502          \n",
       " Median :19.540   Median :6.3686   Median : 5.200   Median :2.562          \n",
       " Mean   :17.158   Mean   :5.4088   Mean   : 8.381   Mean   :2.558          \n",
       " 3rd Qu.:22.500   3rd Qu.:6.8000   3rd Qu.: 6.900   3rd Qu.:2.667          \n",
       " Max.   :24.400   Max.   :7.4000   Max.   :31.900   Max.   :2.896          \n",
       "   per_order           NPS           Middle_p        Premium_p      \n",
       " Min.   :0.1520   Min.   :44.40   Min.   : 0.000   Min.   :0.00000  \n",
       " 1st Qu.:0.1941   1st Qu.:46.90   1st Qu.: 3.000   1st Qu.:0.00000  \n",
       " Median :0.2071   Median :48.15   Median : 4.000   Median :0.00000  \n",
       " Mean   :0.2663   Mean   :48.69   Mean   : 5.766   Mean   :0.06383  \n",
       " 3rd Qu.:0.2305   3rd Qu.:50.50   3rd Qu.: 8.000   3rd Qu.:0.00000  \n",
       " Max.   :0.9693   Max.   :54.61   Max.   :18.000   Max.   :2.00000  \n",
       "     Mass_p       inc_LP_MA1           inc_LP_MA2           inc_LP_MA3       \n",
       " Min.   : 345   Min.   :-0.0475506   Min.   :-0.0648875   Min.   :-0.078851  \n",
       " 1st Qu.:1812   1st Qu.:-0.0216650   1st Qu.:-0.0299932   1st Qu.:-0.038963  \n",
       " Median :2251   Median :-0.0022991   Median : 0.0015079   Median : 0.001772  \n",
       " Mean   :2451   Mean   : 0.0001922   Mean   : 0.0005408   Mean   : 0.001120  \n",
       " 3rd Qu.:2820   3rd Qu.: 0.0200100   3rd Qu.: 0.0221846   3rd Qu.: 0.023486  \n",
       " Max.   :7272   Max.   : 0.0989721   Max.   : 0.1438498   Max.   : 0.159439  \n",
       "   inc_PO_MA1           inc_PO_MA2          inc_PO_MA3         list_price.1 \n",
       " Min.   :-0.1243735   Min.   :-0.097547   Min.   :-0.112964   Min.   :1886  \n",
       " 1st Qu.:-0.0378173   1st Qu.:-0.044435   1st Qu.:-0.056883   1st Qu.:2053  \n",
       " Median :-0.0003566   Median :-0.011285   Median :-0.008315   Median :2127  \n",
       " Mean   :-0.0008129   Mean   :-0.001777   Mean   :-0.001845   Mean   :2132  \n",
       " 3rd Qu.: 0.0265764   3rd Qu.: 0.030534   3rd Qu.: 0.032799   3rd Qu.:2200  \n",
       " Max.   : 0.1459123   Max.   : 0.175892   Max.   : 0.203340   Max.   :2384  \n",
       "  list_price.2   list_price.3  promotional_offer.1 promotional_offer.2\n",
       " Min.   :1886   Min.   :1886   Min.   :0.2972      Min.   :0.2972     \n",
       " 1st Qu.:2053   1st Qu.:2053   1st Qu.:0.3279      1st Qu.:0.3279     \n",
       " Median :2127   Median :2127   Median :0.3465      Median :0.3465     \n",
       " Mean   :2131   Mean   :2128   Mean   :0.3559      Mean   :0.3568     \n",
       " 3rd Qu.:2195   3rd Qu.:2191   3rd Qu.:0.3837      3rd Qu.:0.3871     \n",
       " Max.   :2384   Max.   :2384   Max.   :0.4483      Max.   :0.4483     \n",
       " promotional_offer.3     NPS.1           NPS.2           NPS.3      \n",
       " Min.   :0.2972      Min.   :44.40   Min.   :44.40   Min.   :44.40  \n",
       " 1st Qu.:0.3279      1st Qu.:46.90   1st Qu.:46.90   1st Qu.:46.95  \n",
       " Median :0.3465      Median :48.15   Median :48.15   Median :48.15  \n",
       " Mean   :0.3560      Mean   :48.72   Mean   :48.74   Mean   :48.77  \n",
       " 3rd Qu.:0.3871      3rd Qu.:50.50   3rd Qu.:50.50   3rd Qu.:50.50  \n",
       " Max.   :0.4483      Max.   :54.61   Max.   :54.61   Max.   :54.61  "
      ]
     },
     "metadata": {},
     "output_type": "display_data"
    }
   ],
   "source": [
    "data<-read.csv(\"home_audio_final\")\n",
    "summary(data)"
   ]
  },
  {
   "cell_type": "markdown",
   "metadata": {},
   "source": [
    "### Basic Linear Model"
   ]
  },
  {
   "cell_type": "code",
   "execution_count": 2,
   "metadata": {},
   "outputs": [
    {
     "name": "stdout",
     "output_type": "stream",
     "text": [
      "\n",
      "Call:\n",
      "lm(formula = gmv ~ ., data = Linear_model)\n",
      "\n",
      "Residuals:\n",
      "      Min        1Q    Median        3Q       Max \n",
      "-0.036865 -0.008959  0.001597  0.010476  0.028057 \n",
      "\n",
      "Coefficients:\n",
      "                          Estimate Std. Error t value Pr(>|t|)    \n",
      "(Intercept)              3.505e-15  4.327e-03   0.000  1.00000    \n",
      "week_year               -1.909e-01  7.781e-02  -2.453  0.03405 *  \n",
      "list_price               1.361e+00  2.033e-01   6.695  5.4e-05 ***\n",
      "product_mrp             -8.172e-02  7.154e-02  -1.142  0.27992    \n",
      "units                    3.850e-02  1.122e-02   3.430  0.00643 ** \n",
      "sla                     -1.345e-02  2.366e-02  -0.568  0.58234    \n",
      "promotional_offer       -4.133e-02  2.342e-01  -0.176  0.86348    \n",
      "number                   9.747e-03  1.184e-02   0.823  0.42963    \n",
      "Total.Investment        -2.221e+00  7.221e-01  -3.076  0.01172 *  \n",
      "TV                       8.249e-01  2.610e-01   3.160  0.01015 *  \n",
      "Digital                 -8.108e-01  4.064e-01  -1.995  0.07400 .  \n",
      "Sponsorship              5.884e-01  2.349e-01   2.505  0.03115 *  \n",
      "Content.Marketing        1.151e+00  4.173e-01   2.758  0.02019 *  \n",
      "Online.marketing         1.265e+00  4.391e-01   2.880  0.01639 *  \n",
      "Affiliates              -1.526e+00  4.955e-01  -3.080  0.01164 *  \n",
      "SEM                      5.621e-01  3.521e-01   1.596  0.14151    \n",
      "product_procurement_sla -1.512e-02  1.086e-02  -1.392  0.19417    \n",
      "per_order                5.045e-02  2.993e-02   1.686  0.12271    \n",
      "NPS                     -4.898e-01  1.514e-01  -3.236  0.00893 ** \n",
      "Middle_p                -1.478e-02  1.023e-02  -1.446  0.17891    \n",
      "Premium_p               -2.963e-03  8.351e-03  -0.355  0.73014    \n",
      "Mass_p                   2.950e-02  1.556e-02   1.896  0.08716 .  \n",
      "inc_LP_MA1              -6.014e-01  2.990e-01  -2.012  0.07198 .  \n",
      "inc_LP_MA2               9.122e-01  5.482e-01   1.664  0.12705    \n",
      "inc_LP_MA3              -7.145e-01  3.802e-01  -1.879  0.08961 .  \n",
      "inc_PO_MA1               1.087e-01  1.663e-01   0.654  0.52787    \n",
      "inc_PO_MA2              -3.591e-02  3.556e-01  -0.101  0.92156    \n",
      "inc_PO_MA3               1.516e-02  3.575e-01   0.042  0.96700    \n",
      "list_price.1            -3.501e-01  1.780e-01  -1.967  0.07755 .  \n",
      "list_price.2             2.166e-01  1.658e-01   1.306  0.22067    \n",
      "list_price.3            -2.124e-01  1.110e-01  -1.914  0.08469 .  \n",
      "promotional_offer.1      8.066e-02  1.242e-01   0.649  0.53074    \n",
      "promotional_offer.2     -2.916e-02  1.162e-01  -0.251  0.80694    \n",
      "promotional_offer.3     -9.367e-03  1.368e-01  -0.068  0.94675    \n",
      "NPS.1                   -1.667e-02  2.378e-02  -0.701  0.49929    \n",
      "NPS.2                   -1.607e-02  2.092e-02  -0.768  0.46024    \n",
      "NPS.3                    4.267e-02  1.607e-02   2.655  0.02409 *  \n",
      "---\n",
      "Signif. codes:  0 ‘***’ 0.001 ‘**’ 0.01 ‘*’ 0.05 ‘.’ 0.1 ‘ ’ 1\n",
      "\n",
      "Residual standard error: 0.02967 on 10 degrees of freedom\n",
      "Multiple R-squared:  0.9998,\tAdjusted R-squared:  0.9991 \n",
      "F-statistic:  1452 on 36 and 10 DF,  p-value: 6.732e-15\n",
      "\n"
     ]
    }
   ],
   "source": [
    "# Building the Baisc Linear regression Model\n",
    "Linear_model <-data\n",
    "Linear_model <- scale(Linear_model)\n",
    "Linear_model <-data.frame(Linear_model)\n",
    "model_1 <- lm(gmv~.,Linear_model)\n",
    "print(summary(model_1))"
   ]
  },
  {
   "cell_type": "markdown",
   "metadata": {},
   "source": [
    "Model Selection"
   ]
  },
  {
   "cell_type": "code",
   "execution_count": 3,
   "metadata": {},
   "outputs": [
    {
     "name": "stdout",
     "output_type": "stream",
     "text": [
      "\n",
      "Call:\n",
      "lm(formula = myForm, data = Linear_model)\n",
      "\n",
      "Residuals:\n",
      "     Min       1Q   Median       3Q      Max \n",
      "-1.80895 -0.45457 -0.02355  0.44193  1.38645 \n",
      "\n",
      "Coefficients:\n",
      "                          Estimate Std. Error t value Pr(>|t|)   \n",
      "(Intercept)              1.543e-15  1.144e-01   0.000  1.00000   \n",
      "week_year                1.213e-02  1.414e-01   0.086  0.93215   \n",
      "units                    2.046e-01  1.455e-01   1.406  0.16942   \n",
      "sla                     -2.806e-01  1.395e-01  -2.011  0.05279 . \n",
      "number                   1.717e-01  1.360e-01   1.262  0.21593   \n",
      "TV                      -2.792e-01  1.409e-01  -1.981  0.05619 . \n",
      "product_procurement_sla -2.396e-02  1.471e-01  -0.163  0.87166   \n",
      "Middle_p                -1.813e-01  1.344e-01  -1.348  0.18701   \n",
      "Premium_p                6.469e-02  1.294e-01   0.500  0.62054   \n",
      "inc_PO_MA3               2.299e-01  1.412e-01   1.628  0.11341   \n",
      "list_price.1             4.120e-01  1.471e-01   2.801  0.00858 **\n",
      "list_price.2             2.840e-02  1.578e-01   0.180  0.85831   \n",
      "list_price.3            -2.556e-01  1.428e-01  -1.791  0.08283 . \n",
      "promotional_offer.1     -1.669e-01  1.443e-01  -1.157  0.25597   \n",
      "NPS.3                   -1.279e-01  1.549e-01  -0.825  0.41533   \n",
      "---\n",
      "Signif. codes:  0 ‘***’ 0.001 ‘**’ 0.01 ‘*’ 0.05 ‘.’ 0.1 ‘ ’ 1\n",
      "\n",
      "Residual standard error: 0.7846 on 32 degrees of freedom\n",
      "Multiple R-squared:  0.5718,\tAdjusted R-squared:  0.3844 \n",
      "F-statistic: 3.052 on 14 and 32 DF,  p-value: 0.00443\n",
      "\n"
     ]
    }
   ],
   "source": [
    "library(car)\n",
    "library(MASS)\n",
    "\n",
    "all_vifs <- vif(model_1)\n",
    "\n",
    " signif_all <- names(all_vifs)\n",
    "\n",
    " while(any(all_vifs > 2)){\n",
    "  var_with_max_vif <- names(which(all_vifs == max(all_vifs)))    # get the var with max vif\n",
    "  signif_all <- signif_all[!(signif_all) %in% var_with_max_vif]  # remove\n",
    "  myForm <- as.formula(paste(\"gmv ~ \", paste (signif_all, collapse=\" + \"), sep=\"\"))  # new formula\n",
    "  selectedMod <- lm(myForm, data=Linear_model)  # re-build model with new formula\n",
    "  all_vifs <- vif(selectedMod)\n",
    "}\n",
    "\n",
    "##Final Model \n",
    "Linear_Final_model <- selectedMod\n",
    "print(summary(Linear_Final_model))  \n",
    "\n"
   ]
  },
  {
   "cell_type": "markdown",
   "metadata": {},
   "source": [
    "k-fold Cross Validation"
   ]
  },
  {
   "cell_type": "code",
   "execution_count": 4,
   "metadata": {},
   "outputs": [
    {
     "name": "stderr",
     "output_type": "stream",
     "text": [
      "Loading required package: lattice\n",
      "Loading required package: ggplot2\n"
     ]
    },
    {
     "name": "stdout",
     "output_type": "stream",
     "text": [
      "Linear Regression \n",
      "\n",
      "47 samples\n",
      "14 predictors\n",
      "\n",
      "No pre-processing\n",
      "Resampling: Cross-Validated (10 fold) \n",
      "Summary of sample sizes: 43, 42, 42, 41, 43, 41, ... \n",
      "Resampling results:\n",
      "\n",
      "  RMSE       Rsquared   MAE      \n",
      "  0.9904016  0.4858062  0.8663987\n",
      "\n",
      "Tuning parameter 'intercept' was held constant at a value of TRUE\n"
     ]
    }
   ],
   "source": [
    "library(caret)\n",
    "# Define training control\n",
    "set.seed(123)\n",
    "train.control <- trainControl(method = \"cv\", number = 10)\n",
    "# Train the model\n",
    "cross_val <- train(myForm, data = Linear_model, method = \"lm\",\n",
    "               trControl = train.control)\n",
    "# Summarize the results\n",
    "print(cross_val)\n"
   ]
  },
  {
   "cell_type": "markdown",
   "metadata": {},
   "source": [
    "#### Elasticity Analysis"
   ]
  },
  {
   "cell_type": "code",
   "execution_count": 5,
   "metadata": {},
   "outputs": [
    {
     "name": "stdout",
     "output_type": "stream",
     "text": [
      "                  Variable    Elasticity direction\n",
      "1                week_year -0.0003074780  Negative\n",
      "2                    units -0.6549548879  Negative\n",
      "3                      sla -0.0429855861  Negative\n",
      "4                   number -0.0023967968  Negative\n",
      "5                       TV  0.0126219243  Positive\n",
      "6  product_procurement_sla -0.0013846831  Negative\n",
      "7                 Middle_p -0.0051657254  Negative\n",
      "8                Premium_p  0.0005273171  Positive\n",
      "9               inc_PO_MA3 -0.0007062990  Negative\n",
      "10            list_price.1  0.5072719497  Positive\n",
      "11            list_price.2 -0.0052922455  Negative\n",
      "12            list_price.3  0.1594818854  Positive\n",
      "13     promotional_offer.1  0.0132247483  Positive\n",
      "14                   NPS.3 -0.0065917924  Negative\n"
     ]
    },
    {
     "data": {
      "image/png": "[encoded data removed]",
      "text/plain": [
       "plot without title"
      ]
     },
     "metadata": {},
     "output_type": "display_data"
    }
   ],
   "source": [
    "# Elasticity Analysis\n",
    "train <- Linear_model\n",
    "hrlm<-Linear_Final_model\n",
    "# estimating the elasticity coefficients\n",
    "elasticity <- function(var){\n",
    "  \n",
    "  elax1 <-as.numeric(hrlm$coefficients[var]*mean(train[,var])/mean(train$gmv))\n",
    "  \n",
    "  return(elax1)\n",
    "} \n",
    "var_list <- list()\n",
    "\n",
    "for(i in 2:length(hrlm$coefficients)){\n",
    "  \n",
    "  var_list[i-1] <-elasticity(names(hrlm$coefficients)[i])\n",
    "  \n",
    "}\n",
    "\n",
    "elasticity.outputs <- data.frame(names(hrlm$coefficients[2:length(hrlm$coefficients)]))\n",
    "elasticity.outputs <- cbind(elasticity.outputs,do.call(rbind.data.frame, var_list))\n",
    "colnames(elasticity.outputs) <- c(\"Variable\",\"Elasticity\")\n",
    "\n",
    "elasticity.outputs$direction <- ifelse(elasticity.outputs$Elasticity > 0, \"Positive\", \"Negative\")\n",
    "print(elasticity.outputs)\n",
    "\n",
    "\n",
    "print(ggplot(data=elasticity.outputs, aes(x=reorder(Variable,Elasticity),y=Elasticity)) +\n",
    "  geom_bar(position=\"dodge\",stat=\"identity\") + \n",
    "  coord_flip() +\n",
    "  ggtitle(\"Home Audio - Linear Model\") +xlab(\"Variables\"))\n"
   ]
  },
  {
   "cell_type": "markdown",
   "metadata": {},
   "source": [
    "### Multiplicative Model"
   ]
  },
  {
   "cell_type": "code",
   "execution_count": 6,
   "metadata": {
    "scrolled": true
   },
   "outputs": [
    {
     "name": "stdout",
     "output_type": "stream",
     "text": [
      "\n",
      "Call:\n",
      "lm(formula = gmv ~ ., data = multi)\n",
      "\n",
      "Residuals:\n",
      "       Min         1Q     Median         3Q        Max \n",
      "-0.0026707 -0.0008484  0.0001297  0.0007391  0.0028228 \n",
      "\n",
      "Coefficients:\n",
      "                          Estimate Std. Error t value Pr(>|t|)    \n",
      "(Intercept)              8.305e-01  5.546e-01   1.497 0.150698    \n",
      "week_year               -6.778e-03  4.366e-03  -1.553 0.137005    \n",
      "list_price               9.949e-01  3.251e-02  30.601  < 2e-16 ***\n",
      "product_mrp             -4.183e-03  3.607e-02  -0.116 0.908885    \n",
      "units                    9.115e-01  2.172e-01   4.197 0.000489 ***\n",
      "sla                     -1.121e-02  8.754e-03  -1.280 0.215840    \n",
      "promotional_offer        2.164e-03  2.700e-02   0.080 0.936968    \n",
      "number                   6.256e-05  1.731e-04   0.361 0.721741    \n",
      "Total.Investment        -2.477e-02  1.642e-02  -1.508 0.147983    \n",
      "TV                       5.783e-03  5.361e-03   1.079 0.294237    \n",
      "Digital                 -3.667e-03  4.472e-03  -0.820 0.422428    \n",
      "Sponsorship              6.362e-03  5.761e-03   1.104 0.283299    \n",
      "Content.Marketing        1.865e-03  9.556e-04   1.952 0.065828 .  \n",
      "Online.marketing        -2.544e-02  5.005e-02  -0.508 0.617126    \n",
      "Affiliates               1.723e-02  5.252e-02   0.328 0.746533    \n",
      "SEM                      7.267e-03  8.080e-03   0.899 0.379732    \n",
      "product_procurement_sla -4.365e-03  6.037e-03  -0.723 0.478400    \n",
      "per_order                4.995e-03  2.627e-03   1.901 0.072562 .  \n",
      "NPS                     -1.615e-01  9.465e-02  -1.706 0.104245    \n",
      "list_price.1             3.107e-03  1.126e-02   0.276 0.785523    \n",
      "list_price.2            -9.625e-04  1.151e-02  -0.084 0.934217    \n",
      "list_price.3             1.841e-03  9.995e-03   0.184 0.855803    \n",
      "promotional_offer.1     -1.093e-03  5.832e-03  -0.187 0.853381    \n",
      "promotional_offer.2     -2.667e-03  5.113e-03  -0.522 0.607989    \n",
      "promotional_offer.3     -5.746e-03  5.476e-03  -1.049 0.307238    \n",
      "NPS.1                   -1.381e-02  1.795e-02  -0.769 0.451134    \n",
      "NPS.2                   -9.047e-03  1.938e-02  -0.467 0.645922    \n",
      "NPS.3                    2.087e-02  1.584e-02   1.318 0.203119    \n",
      "---\n",
      "Signif. codes:  0 ‘***’ 0.001 ‘**’ 0.01 ‘*’ 0.05 ‘.’ 0.1 ‘ ’ 1\n",
      "\n",
      "Residual standard error: 0.001825 on 19 degrees of freedom\n",
      "Multiple R-squared:  0.9996,\tAdjusted R-squared:  0.999 \n",
      "F-statistic:  1679 on 27 and 19 DF,  p-value: < 2.2e-16\n",
      "\n"
     ]
    }
   ],
   "source": [
    "multi <-data\n",
    "multi <- multi[,-c(20:28)]\n",
    "multi$number[which(multi$number==0)] <- 0.01\n",
    "multi$Content.Marketing[which(multi$Content.Marketing==0)] <- 0.01\n",
    "multi$per_order[which(multi$per_order==0)] <- 0.01\n",
    "multi$TV[which(multi$TV==0)] <- 0.01\n",
    "multi <- log(multi)\n",
    "## First model ##\n",
    "multi_model <- lm(gmv~.,multi)\n",
    "print(summary(multi_model))"
   ]
  },
  {
   "cell_type": "markdown",
   "metadata": {},
   "source": [
    "Model Selection"
   ]
  },
  {
   "cell_type": "code",
   "execution_count": 7,
   "metadata": {},
   "outputs": [
    {
     "name": "stdout",
     "output_type": "stream",
     "text": [
      "\n",
      "Call:\n",
      "lm(formula = myForm, data = multi)\n",
      "\n",
      "Residuals:\n",
      "      Min        1Q    Median        3Q       Max \n",
      "-0.104427 -0.027566  0.003787  0.025118  0.132148 \n",
      "\n",
      "Coefficients:\n",
      "              Estimate Std. Error t value Pr(>|t|)    \n",
      "(Intercept)   5.763481   1.335025   4.317 9.76e-05 ***\n",
      "week_year     0.005623   0.010883   0.517  0.60816    \n",
      "units         3.910018   2.614020   1.496  0.14237    \n",
      "number        0.006735   0.002987   2.255  0.02956 *  \n",
      "list_price.1  0.433591   0.134386   3.226  0.00246 ** \n",
      "list_price.3 -0.188238   0.132965  -1.416  0.16441    \n",
      "---\n",
      "Signif. codes:  0 ‘***’ 0.001 ‘**’ 0.01 ‘*’ 0.05 ‘.’ 0.1 ‘ ’ 1\n",
      "\n",
      "Residual standard error: 0.04966 on 41 degrees of freedom\n",
      "Multiple R-squared:  0.3302,\tAdjusted R-squared:  0.2485 \n",
      "F-statistic: 4.042 on 5 and 41 DF,  p-value: 0.004492\n",
      "\n"
     ]
    }
   ],
   "source": [
    "library(car)\n",
    "library(MASS)\n",
    "\n",
    "all_vifs <- vif(multi_model)\n",
    "\n",
    " signif_all <- names(all_vifs)\n",
    "\n",
    " while(any(all_vifs > 1.1)){\n",
    "  var_with_max_vif <- names(which(all_vifs == max(all_vifs)))    # get the var with max vif\n",
    "  signif_all <- signif_all[!(signif_all) %in% var_with_max_vif]  # remove\n",
    "  myForm <- as.formula(paste(\"gmv ~ \", paste (signif_all, collapse=\" + \"), sep=\"\"))  # new formula\n",
    "  selectedMod <- lm(myForm, data=multi)  # re-build model with new formula\n",
    "  all_vifs <- vif(selectedMod)\n",
    "}\n",
    "\n",
    "Multi_Final_model <- selectedMod\n",
    "print(summary(Multi_Final_model))\n"
   ]
  },
  {
   "cell_type": "markdown",
   "metadata": {},
   "source": [
    "k-fold Cross Validation"
   ]
  },
  {
   "cell_type": "code",
   "execution_count": 8,
   "metadata": {
    "scrolled": true
   },
   "outputs": [
    {
     "name": "stdout",
     "output_type": "stream",
     "text": [
      "Linear Regression \n",
      "\n",
      "47 samples\n",
      " 5 predictor\n",
      "\n",
      "No pre-processing\n",
      "Resampling: Cross-Validated (10 fold) \n",
      "Summary of sample sizes: 43, 42, 42, 41, 43, 41, ... \n",
      "Resampling results:\n",
      "\n",
      "  RMSE        Rsquared   MAE       \n",
      "  0.04600287  0.4989106  0.03779395\n",
      "\n",
      "Tuning parameter 'intercept' was held constant at a value of TRUE\n"
     ]
    }
   ],
   "source": [
    "library(caret)\n",
    "# Define training control\n",
    "set.seed(123)\n",
    "train.control <- trainControl(method = \"cv\", number = 10)\n",
    "# Train the model\n",
    "cross_val1 <- train(myForm, data = multi, method = \"lm\",\n",
    "               trControl = train.control)\n",
    "# Summarize t1he results\n",
    "print(cross_val1)"
   ]
  },
  {
   "cell_type": "markdown",
   "metadata": {},
   "source": [
    "#### Elasticity Analysis"
   ]
  },
  {
   "cell_type": "code",
   "execution_count": 9,
   "metadata": {
    "scrolled": true
   },
   "outputs": [
    {
     "name": "stdout",
     "output_type": "stream",
     "text": [
      "      Variable   Elasticity direction\n",
      "1    week_year  0.002309590  Positive\n",
      "2        units  0.003562152  Positive\n",
      "3       number -0.002628086  Negative\n",
      "4 list_price.1  0.433272069  Positive\n",
      "5 list_price.3 -0.188052892  Negative\n"
     ]
    },
    {
     "data": {},
     "metadata": {},
     "output_type": "display_data"
    },
    {
     "data": {
      "image/png": "[encoded data removed]",
      "text/plain": [
       "plot without title"
      ]
     },
     "metadata": {},
     "output_type": "display_data"
    }
   ],
   "source": [
    "# Elasticity Analysis\n",
    "train1 <- multi\n",
    "hrlm1<-Multi_Final_model\n",
    "# estimating the elasticity coefficients\n",
    "elasticity1 <- function(var){\n",
    "  \n",
    "  elax2 <-as.numeric(hrlm1$coefficients[var]*mean(train1[,var])/mean(train1$gmv))\n",
    "  \n",
    "  return(elax2)\n",
    "} \n",
    "var_list <- list()\n",
    "\n",
    "for(i in 2:length(hrlm1$coefficients)){\n",
    "  \n",
    "  var_list[i-1] <-elasticity1(names(hrlm1$coefficients)[i])\n",
    "  \n",
    "}\n",
    "\n",
    "elasticity.outputs1 <- data.frame(names(hrlm1$coefficients[2:length(hrlm1$coefficients)]))\n",
    "elasticity.outputs1 <- cbind(elasticity.outputs1,do.call(rbind.data.frame, var_list))\n",
    "colnames(elasticity.outputs1) <- c(\"Variable\",\"Elasticity\")\n",
    "\n",
    "elasticity.outputs1$direction <- ifelse(elasticity.outputs1$Elasticity > 0, \"Positive\", \"Negative\")\n",
    "print(elasticity.outputs1)\n",
    "\n",
    "\n",
    "ggplot(data=elasticity.outputs1, aes(x=reorder(Variable,Elasticity),y=Elasticity)) +\n",
    "  geom_bar(position=\"dodge\",stat=\"identity\") + \n",
    "  coord_flip() +\n",
    "  ggtitle(\"Home Audio Multiplicative Model\") +xlab(\"Variables\")\n"
   ]
  },
  {
   "cell_type": "markdown",
   "metadata": {},
   "source": [
    "### Kyock Model"
   ]
  },
  {
   "cell_type": "code",
   "execution_count": 10,
   "metadata": {},
   "outputs": [
    {
     "name": "stderr",
     "output_type": "stream",
     "text": [
      "\n",
      "Remember to put Home_koyck in time order before running.\n",
      "\n",
      "Lagging gmv by 1 time units.\n",
      "\n"
     ]
    },
    {
     "name": "stdout",
     "output_type": "stream",
     "text": [
      "\n",
      "Call:\n",
      "lm(formula = gmv ~ ., data = Home_koyck)\n",
      "\n",
      "Residuals:\n",
      "    Min      1Q  Median      3Q     Max \n",
      "-4.5272 -1.1002  0.1961  1.2865  3.4456 \n",
      "\n",
      "Coefficients:\n",
      "                          Estimate Std. Error t value Pr(>|t|)    \n",
      "(Intercept)             -2.887e+02  6.326e+02  -0.456  0.65790    \n",
      "week_year               -1.563e+00  6.372e-01  -2.453  0.03405 *  \n",
      "list_price               1.379e+00  2.060e-01   6.695  5.4e-05 ***\n",
      "product_mrp             -2.495e-02  2.184e-02  -1.142  0.27992    \n",
      "units                    1.628e+03  4.745e+02   3.430  0.00643 ** \n",
      "sla                     -2.294e+00  4.036e+00  -0.568  0.58234    \n",
      "promotional_offer       -1.334e+02  7.562e+02  -0.176  0.86348    \n",
      "number                   8.915e-01  1.083e+00   0.823  0.42963    \n",
      "Total.Investment        -6.832e+00  2.221e+00  -3.076  0.01172 *  \n",
      "TV                       4.113e+01  1.301e+01   3.160  0.01015 *  \n",
      "Digital                 -3.115e+01  1.561e+01  -1.995  0.07400 .  \n",
      "Sponsorship              3.052e+00  1.218e+00   2.505  0.03115 *  \n",
      "Content.Marketing        1.542e+02  5.592e+01   2.758  0.02019 *  \n",
      "Online.marketing         2.226e+01  7.730e+00   2.880  0.01639 *  \n",
      "Affiliates              -9.067e+01  2.944e+01  -3.080  0.01164 *  \n",
      "SEM                      8.937e+00  5.599e+00   1.596  0.14151    \n",
      "product_procurement_sla -9.602e+00  6.899e+00  -1.392  0.19417    \n",
      "per_order                3.289e+01  1.951e+01   1.686  0.12271    \n",
      "NPS                     -2.048e+01  6.328e+00  -3.236  0.00893 ** \n",
      "Middle_p                -4.419e-01  3.057e-01  -1.446  0.17891    \n",
      "Premium_p               -1.125e+00  3.172e+00  -0.355  0.73014    \n",
      "Mass_p                   3.070e-03  1.619e-03   1.896  0.08716 .  \n",
      "inc_LP_MA1              -2.407e+03  1.197e+03  -2.012  0.07198 .  \n",
      "inc_LP_MA2               2.744e+03  1.649e+03   1.664  0.12705    \n",
      "inc_LP_MA3              -1.826e+03  9.717e+02  -1.879  0.08961 .  \n",
      "inc_PO_MA1               2.496e+02  3.817e+02   0.654  0.52787    \n",
      "inc_PO_MA2              -6.737e+01  6.671e+02  -0.101  0.92156    \n",
      "inc_PO_MA3               2.697e+01  6.358e+02   0.042  0.96700    \n",
      "list_price.1            -3.537e-01  1.798e-01  -1.967  0.07755 .  \n",
      "list_price.2             2.201e-01  1.685e-01   1.306  0.22067    \n",
      "list_price.3            -2.197e-01  1.148e-01  -1.914  0.08469 .  \n",
      "promotional_offer.1      2.583e+02  3.978e+02   0.649  0.53074    \n",
      "promotional_offer.2     -9.070e+01  3.614e+02  -0.251  0.80694    \n",
      "promotional_offer.3     -3.010e+01  4.395e+02  -0.068  0.94675    \n",
      "NPS.1                   -7.021e-01  1.002e+00  -0.701  0.49929    \n",
      "NPS.2                   -6.818e-01  8.877e-01  -0.768  0.46024    \n",
      "NPS.3                    1.825e+00  6.873e-01   2.655  0.02409 *  \n",
      "---\n",
      "Signif. codes:  0 ‘***’ 0.001 ‘**’ 0.01 ‘*’ 0.05 ‘.’ 0.1 ‘ ’ 1\n",
      "\n",
      "Residual standard error: 3.643 on 10 degrees of freedom\n",
      "Multiple R-squared:  0.9998,\tAdjusted R-squared:  0.9991 \n",
      "F-statistic:  1452 on 36 and 10 DF,  p-value: 6.732e-15\n",
      "\n"
     ]
    }
   ],
   "source": [
    "library(DataCombine)\n",
    "Home_koyck<-data\n",
    "#gmv Lag 1\n",
    "Home_Koyck<-slide(Home_koyck,Var=\"gmv\",slideBy =-1)\n",
    "Home_Koyck<-na.omit(Home_koyck)\n",
    "Home_Koyck<-scale(Home_koyck)\n",
    "Home_Koyck<-data.frame(Home_koyck)\n",
    "\n",
    "# Build Kyock model\n",
    "Koy_model <- lm(gmv~.,Home_koyck)\n",
    "print(summary(Koy_model))\n",
    "\n"
   ]
  },
  {
   "cell_type": "code",
   "execution_count": 11,
   "metadata": {
    "scrolled": true
   },
   "outputs": [
    {
     "data": {
      "text/plain": [
       "\n",
       "Call:\n",
       "lm(formula = myForm, data = Home_koyck)\n",
       "\n",
       "Residuals:\n",
       "     Min       1Q   Median       3Q      Max \n",
       "-222.147  -55.823   -2.892   54.271  170.262 \n",
       "\n",
       "Coefficients:\n",
       "                          Estimate Std. Error t value Pr(>|t|)   \n",
       "(Intercept)             -6.108e+03  6.372e+03  -0.959  0.34490   \n",
       "week_year                9.934e-02  1.158e+00   0.086  0.93215   \n",
       "units                    8.647e+03  6.151e+03   1.406  0.16942   \n",
       "sla                     -4.788e+01  2.380e+01  -2.011  0.05279 . \n",
       "number                   1.571e+01  1.244e+01   1.262  0.21593   \n",
       "TV                      -1.392e+01  7.024e+00  -1.981  0.05619 . \n",
       "product_procurement_sla -1.522e+01  9.346e+01  -0.163  0.87166   \n",
       "Middle_p                -5.418e+00  4.018e+00  -1.348  0.18701   \n",
       "Premium_p                2.457e+01  4.915e+01   0.500  0.62054   \n",
       "inc_PO_MA3               4.088e+02  2.512e+02   1.628  0.11341   \n",
       "list_price.1             4.161e-01  1.486e-01   2.801  0.00858 **\n",
       "list_price.2             2.887e-02  1.604e-01   0.180  0.85831   \n",
       "list_price.3            -2.645e-01  1.477e-01  -1.791  0.08283 . \n",
       "promotional_offer.1     -5.345e+02  4.621e+02  -1.157  0.25597   \n",
       "NPS.3                   -5.469e+00  6.627e+00  -0.825  0.41533   \n",
       "---\n",
       "Signif. codes:  0 ‘***’ 0.001 ‘**’ 0.01 ‘*’ 0.05 ‘.’ 0.1 ‘ ’ 1\n",
       "\n",
       "Residual standard error: 96.35 on 32 degrees of freedom\n",
       "Multiple R-squared:  0.5718,\tAdjusted R-squared:  0.3844 \n",
       "F-statistic: 3.052 on 14 and 32 DF,  p-value: 0.00443\n"
      ]
     },
     "metadata": {},
     "output_type": "display_data"
    }
   ],
   "source": [
    "all_vifs <- vif(Koy_model)\n",
    " signif_all <- names(all_vifs)\n",
    "\n",
    " while(any(all_vifs > 2)){\n",
    "  var_with_max_vif <- names(which(all_vifs == max(all_vifs)))    # get the var with max vif\n",
    "  signif_all <- signif_all[!(signif_all) %in% var_with_max_vif]  # remove\n",
    "  myForm <- as.formula(paste(\"gmv ~ \", paste (signif_all, collapse=\" + \"), sep=\"\"))  # new formula\n",
    "  selectedMod <- lm(myForm, data=Home_koyck)  # re-build model with new formula\n",
    "  all_vifs <- vif(selectedMod)\n",
    "}\n",
    "\n",
    "kyock_Final_model <- selectedMod\n",
    "summary(kyock_Final_model)"
   ]
  },
  {
   "cell_type": "markdown",
   "metadata": {},
   "source": [
    "k-fold Cross Validation"
   ]
  },
  {
   "cell_type": "code",
   "execution_count": 12,
   "metadata": {
    "scrolled": true
   },
   "outputs": [
    {
     "name": "stdout",
     "output_type": "stream",
     "text": [
      "Linear Regression \n",
      "\n",
      "47 samples\n",
      "14 predictors\n",
      "\n",
      "No pre-processing\n",
      "Resampling: Cross-Validated (10 fold) \n",
      "Summary of sample sizes: 43, 42, 42, 41, 43, 41, ... \n",
      "Resampling results:\n",
      "\n",
      "  RMSE      Rsquared   MAE     \n",
      "  121.6255  0.4858062  106.3974\n",
      "\n",
      "Tuning parameter 'intercept' was held constant at a value of TRUE\n"
     ]
    }
   ],
   "source": [
    "library(caret)\n",
    "# Define training control\n",
    "set.seed(123)\n",
    "train.control <- trainControl(method = \"cv\", number = 10)\n",
    "# Train the model\n",
    "cross_val2 <- train(myForm, data = Home_koyck, method = \"lm\",\n",
    "               trControl = train.control)\n",
    "# Summarize t1he results\n",
    "print(cross_val2)"
   ]
  },
  {
   "cell_type": "markdown",
   "metadata": {},
   "source": [
    "#### Elasticity Analysis"
   ]
  },
  {
   "cell_type": "code",
   "execution_count": 13,
   "metadata": {},
   "outputs": [
    {
     "data": {},
     "metadata": {},
     "output_type": "display_data"
    },
    {
     "data": {
      "image/png": "[encoded data removed]",
      "text/plain": [
       "plot without title"
      ]
     },
     "metadata": {},
     "output_type": "display_data"
    }
   ],
   "source": [
    "# Elasticity Analysis\n",
    "train2 <- Home_koyck\n",
    "hrlm2<-kyock_Final_model\n",
    "# estimating the elasticity coefficients\n",
    "elasticity2 <- function(var){\n",
    "  \n",
    "  elax2 <-as.numeric(hrlm2$coefficients[var]*mean(train2[,var])/mean(train2$gmv))\n",
    "\n",
    "  return(elax2)\n",
    "} \n",
    "var_list <- list()\n",
    "\n",
    "for(i in 2:length(hrlm2$coefficients)){\n",
    "  \n",
    "  var_list[i-1] <-elasticity2(names(hrlm2$coefficients)[i])\n",
    "  \n",
    "}\n",
    "\n",
    "elasticity.outputs <- data.frame(names(hrlm2$coefficients[2:length(hrlm2$coefficients)]))\n",
    "elasticity.outputs <- cbind(elasticity.outputs,do.call(rbind.data.frame, var_list))\n",
    "colnames(elasticity.outputs) <- c(\"Variable\",\"Elasticity\")\n",
    "\n",
    "elasticity.outputs$direction <- ifelse(elasticity.outputs$Elasticity > 0, \"Positive\", \"Negative\")\n",
    "\n",
    "\n",
    "\n",
    "ggplot(data=elasticity.outputs, aes(x=reorder(Variable,Elasticity),y=Elasticity)) +\n",
    "  geom_bar(position=\"dodge\",stat=\"identity\") + \n",
    "  coord_flip() +\n",
    "  ggtitle(\"Home Audio - Koyck Model\") +xlab(\"Variables\")"
   ]
  },
  {
   "cell_type": "markdown",
   "metadata": {},
   "source": [
    "### Distributed Lag Model"
   ]
  },
  {
   "cell_type": "code",
   "execution_count": 14,
   "metadata": {},
   "outputs": [
    {
     "name": "stderr",
     "output_type": "stream",
     "text": [
      "\n",
      "Remember to put Dis_Model in time order before running.\n",
      "\n",
      "Lagging gmv by 1 time units.\n",
      "\n",
      "\n",
      "Remember to put Dis_model in time order before running.\n",
      "\n",
      "Lagging gmv by 2 time units.\n",
      "\n",
      "\n",
      "Remember to put Dis_model in time order before running.\n",
      "\n",
      "Lagging gmv by 3 time units.\n",
      "\n"
     ]
    },
    {
     "name": "stdout",
     "output_type": "stream",
     "text": [
      "\n",
      "Call:\n",
      "lm(formula = gmv ~ ., data = Dis_model)\n",
      "\n",
      "Residuals:\n",
      "         4          5          6          7          8          9         10 \n",
      "-0.0089849 -0.0015846  0.0185239  0.0102426 -0.0130899 -0.0131749  0.0078968 \n",
      "        11         12         13         14         15         16         17 \n",
      "-0.0003634 -0.0093205  0.0045058  0.0047465  0.0022559  0.0011768 -0.0120317 \n",
      "        18         19         20         21         22         23         24 \n",
      " 0.0030175  0.0084449  0.0024325  0.0021930 -0.0014463 -0.0072724  0.0029550 \n",
      "        25         26         27         28         29         30         31 \n",
      " 0.0031023 -0.0081524  0.0074060 -0.0045866 -0.0016512  0.0007583  0.0026583 \n",
      "        32         33         34         35         36         37         38 \n",
      "-0.0029588  0.0027181  0.0049439  0.0007269 -0.0030764 -0.0026232  0.0004783 \n",
      "        39         40         41         42         43         44         45 \n",
      " 0.0023170  0.0009344 -0.0024233 -0.0001881  0.0005448 -0.0074003  0.0003299 \n",
      "        46         47 \n",
      "-0.0010286  0.0060480 \n",
      "\n",
      "Coefficients:\n",
      "                          Estimate Std. Error t value Pr(>|t|)   \n",
      "(Intercept)             -6.573e-15  3.107e-03   0.000  1.00000   \n",
      "week_year               -1.330e-01  6.216e-02  -2.139  0.09922 . \n",
      "list_price               1.271e+00  1.867e-01   6.808  0.00243 **\n",
      "product_mrp             -8.323e-02  6.393e-02  -1.302  0.26286   \n",
      "units                    6.479e-02  1.572e-02   4.121  0.01461 * \n",
      "sla                     -5.475e-02  3.130e-02  -1.749  0.15514   \n",
      "promotional_offer        4.992e-02  2.365e-01   0.211  0.84314   \n",
      "number                   2.236e-03  1.198e-02   0.187  0.86097   \n",
      "Total.Investment         1.912e+00  1.664e+00   1.149  0.31452   \n",
      "TV                       4.063e+00  1.464e+00   2.776  0.05002 . \n",
      "Digital                 -4.520e+01  1.880e+01  -2.405  0.07399 . \n",
      "Sponsorship             -7.649e+00  3.427e+00  -2.232  0.08941 . \n",
      "Content.Marketing        3.649e+01  1.503e+01   2.428  0.07213 . \n",
      "Online.marketing        -5.070e+01  2.178e+01  -2.328  0.08041 . \n",
      "Affiliates               3.337e+01  1.454e+01   2.295  0.08341 . \n",
      "SEM                      2.192e+01  9.056e+00   2.420  0.07274 . \n",
      "product_procurement_sla  1.152e-03  1.073e-02   0.107  0.91970   \n",
      "per_order               -1.908e-02  3.172e-02  -0.601  0.57997   \n",
      "NPS                     -1.016e+00  3.223e-01  -3.154  0.03437 * \n",
      "Middle_p                -6.273e-03  8.846e-03  -0.709  0.51736   \n",
      "Premium_p               -1.519e-02  8.280e-03  -1.835  0.14045   \n",
      "Mass_p                   1.557e-02  1.447e-02   1.076  0.34254   \n",
      "inc_LP_MA1              -4.915e-01  2.570e-01  -1.912  0.12840   \n",
      "inc_LP_MA2               6.502e-01  4.325e-01   1.503  0.20716   \n",
      "inc_LP_MA3              -4.713e-01  3.293e-01  -1.431  0.22564   \n",
      "inc_PO_MA1              -5.692e-03  1.589e-01  -0.036  0.97314   \n",
      "inc_PO_MA2               3.746e-02  3.223e-01   0.116  0.91306   \n",
      "inc_PO_MA3              -2.844e-02  2.940e-01  -0.097  0.92760   \n",
      "list_price.1            -3.458e-01  3.384e-01  -1.022  0.36461   \n",
      "list_price.2             3.972e-01  2.392e-01   1.661  0.17205   \n",
      "list_price.3            -2.135e-01  2.111e-01  -1.011  0.36899   \n",
      "promotional_offer.1      5.576e-03  1.138e-01   0.049  0.96328   \n",
      "promotional_offer.2      1.405e-02  1.245e-01   0.113  0.91560   \n",
      "promotional_offer.3     -2.982e-02  1.076e-01  -0.277  0.79538   \n",
      "NPS.1                   -7.682e-02  3.719e-02  -2.065  0.10779   \n",
      "NPS.2                    3.019e-02  2.904e-02   1.040  0.35724   \n",
      "NPS.3                   -3.039e-03  2.182e-02  -0.139  0.89593   \n",
      "gmv.1                    6.710e-02  2.132e-01   0.315  0.76872   \n",
      "gmv.2                   -2.666e-01  2.154e-01  -1.238  0.28347   \n",
      "gmv.3                    6.877e-02  1.583e-01   0.434  0.68637   \n",
      "---\n",
      "Signif. codes:  0 ‘***’ 0.001 ‘**’ 0.01 ‘*’ 0.05 ‘.’ 0.1 ‘ ’ 1\n",
      "\n",
      "Residual standard error: 0.02061 on 4 degrees of freedom\n",
      "Multiple R-squared:      1,\tAdjusted R-squared:  0.9996 \n",
      "F-statistic:  2595 on 39 and 4 DF,  p-value: 3.121e-07\n",
      "\n"
     ]
    }
   ],
   "source": [
    "Dis_Model <- data\n",
    "Dis_model <- slide(Dis_Model, Var = \"gmv\",slideBy = -1)\n",
    "Dis_model <- slide(Dis_model, Var = \"gmv\",slideBy = -2)\n",
    "Dis_model <- slide(Dis_model, Var = \"gmv\",slideBy = -3)\n",
    "Dis_model <- na.omit(Dis_model)\n",
    "Dis_model <- scale(Dis_model)\n",
    "Dis_model <- data.frame(Dis_model)\n",
    "\n",
    "dist_model <- lm(gmv~.,Dis_model)\n",
    "print(summary(dist_model))\n"
   ]
  },
  {
   "cell_type": "markdown",
   "metadata": {},
   "source": [
    "Model Selection"
   ]
  },
  {
   "cell_type": "code",
   "execution_count": 15,
   "metadata": {},
   "outputs": [
    {
     "name": "stdout",
     "output_type": "stream",
     "text": [
      "\n",
      "Call:\n",
      "lm(formula = myForm, data = Dis_model)\n",
      "\n",
      "Residuals:\n",
      "    Min      1Q  Median      3Q     Max \n",
      "-1.5503 -0.4852  0.0352  0.5152  1.0770 \n",
      "\n",
      "Coefficients:\n",
      "                          Estimate Std. Error t value Pr(>|t|)   \n",
      "(Intercept)              1.058e-14  1.149e-01   0.000  1.00000   \n",
      "week_year               -1.426e-02  1.457e-01  -0.098  0.92270   \n",
      "units                    2.128e-01  1.536e-01   1.386  0.17633   \n",
      "sla                     -3.360e-01  1.468e-01  -2.290  0.02949 * \n",
      "number                   1.099e-01  1.340e-01   0.820  0.41868   \n",
      "TV                      -3.375e-01  1.504e-01  -2.243  0.03270 * \n",
      "product_procurement_sla -1.688e-02  1.572e-01  -0.107  0.91524   \n",
      "Middle_p                -2.669e-01  1.551e-01  -1.721  0.09594 . \n",
      "Premium_p                6.510e-02  1.254e-01   0.519  0.60754   \n",
      "Mass_p                   1.593e-01  1.605e-01   0.993  0.32907   \n",
      "inc_PO_MA1               2.017e-01  1.497e-01   1.348  0.18825   \n",
      "list_price.3            -2.699e-01  1.331e-01  -2.028  0.05182 . \n",
      "promotional_offer.2     -2.107e-01  1.569e-01  -1.343  0.18957   \n",
      "NPS.3                   -1.207e-01  1.563e-01  -0.773  0.44599   \n",
      "gmv.1                    4.354e-01  1.427e-01   3.051  0.00484 **\n",
      "---\n",
      "Signif. codes:  0 ‘***’ 0.001 ‘**’ 0.01 ‘*’ 0.05 ‘.’ 0.1 ‘ ’ 1\n",
      "\n",
      "Residual standard error: 0.762 on 29 degrees of freedom\n",
      "Multiple R-squared:  0.6084,\tAdjusted R-squared:  0.4194 \n",
      "F-statistic: 3.218 on 14 and 29 DF,  p-value: 0.003798\n",
      "\n"
     ]
    }
   ],
   "source": [
    "all_vif <- vif(dist_model)\n",
    "signif_all <- names(all_vif)\n",
    "\n",
    " while(any(all_vif > 2)){\n",
    "  var_with_max_vif <- names(which(all_vif == max(all_vif)))    # get the var with max vif\n",
    "  signif_all <- signif_all[!(signif_all) %in% var_with_max_vif]  # remove\n",
    "  myForm <- as.formula(paste(\"gmv ~ \", paste (signif_all, collapse=\" + \"), sep=\"\"))  # new formula\n",
    "  selectedMod <- lm(myForm, data=Dis_model)  # re-build model with new formula\n",
    "  all_vif <- vif(selectedMod)\n",
    "}\n",
    "\n",
    "Distributed_Final_model <- selectedMod\n",
    "print(summary(Distributed_Final_model))\n"
   ]
  },
  {
   "cell_type": "markdown",
   "metadata": {},
   "source": [
    "K-FOLD CROSS VALIDATION"
   ]
  },
  {
   "cell_type": "code",
   "execution_count": 16,
   "metadata": {},
   "outputs": [
    {
     "name": "stdout",
     "output_type": "stream",
     "text": [
      "Linear Regression \n",
      "\n",
      "44 samples\n",
      "14 predictors\n",
      "\n",
      "No pre-processing\n",
      "Resampling: Cross-Validated (10 fold) \n",
      "Summary of sample sizes: 40, 39, 39, 40, 40, 39, ... \n",
      "Resampling results:\n",
      "\n",
      "  RMSE       Rsquared   MAE     \n",
      "  0.9826056  0.3308059  0.833344\n",
      "\n",
      "Tuning parameter 'intercept' was held constant at a value of TRUE\n"
     ]
    }
   ],
   "source": [
    "library(caret)\n",
    "# Define training control\n",
    "set.seed(123)\n",
    "train.control <- trainControl(method = \"cv\", number = 10)\n",
    "# Train the model\n",
    "cross_val <- train(myForm, data =Dis_model , method = \"lm\",\n",
    "               trControl = train.control)\n",
    "# Summarize t1he results\n",
    "print(cross_val)"
   ]
  },
  {
   "cell_type": "markdown",
   "metadata": {},
   "source": [
    "#### Elasticity Analysis"
   ]
  },
  {
   "cell_type": "code",
   "execution_count": 17,
   "metadata": {},
   "outputs": [
    {
     "data": {},
     "metadata": {},
     "output_type": "display_data"
    },
    {
     "data": {
      "image/png": "[encoded data removed]",
      "text/plain": [
       "plot without title"
      ]
     },
     "metadata": {},
     "output_type": "display_data"
    }
   ],
   "source": [
    "# Elasticity Analysis\n",
    "train <- Dis_model\n",
    "hrlm<-Distributed_Final_model\n",
    "# estimating the elasticity coefficients\n",
    "elasticity <- function(var){\n",
    "  elax1 <-as.numeric(hrlm$coefficients[var]*mean(train[,var])/mean(train$gmv))\n",
    "  return(elax1)\n",
    "} \n",
    "var_list <- list()\n",
    "\n",
    "for(i in 2:length(hrlm$coefficients)){\n",
    "  \n",
    "  var_list[i-1] <- elasticity(names(hrlm$coefficients)[i])\n",
    "  \n",
    "}\n",
    "\n",
    "elasticity.outputs <- data.frame(names(hrlm$coefficients[2:length(hrlm$coefficients)]))\n",
    "elasticity.outputs <- cbind(elasticity.outputs,do.call(rbind.data.frame, var_list))\n",
    "colnames(elasticity.outputs) <- c(\"Variable\",\"Elasticity\")\n",
    "\n",
    "elasticity.outputs$direction <- ifelse(elasticity.outputs$Elasticity > 0, \"Positive\", \"Negative\")\n",
    "\n",
    "\n",
    "\n",
    "ggplot(data=elasticity.outputs, aes(x=reorder(Variable,Elasticity),y=Elasticity)) +\n",
    "  geom_bar(position=\"dodge\",stat=\"identity\") + \n",
    "  coord_flip() +\n",
    "  ggtitle(\"Home Audio- Distributed_lag Model\") +xlab(\"Variables\")"
   ]
  },
  {
   "cell_type": "markdown",
   "metadata": {},
   "source": [
    "### Multiplicative + distributed model:"
   ]
  },
  {
   "cell_type": "code",
   "execution_count": 18,
   "metadata": {},
   "outputs": [
    {
     "name": "stderr",
     "output_type": "stream",
     "text": [
      "\n",
      "Remember to put Multi_dist in time order before running.\n",
      "\n",
      "Lagging gmv by 1 time units.\n",
      "\n",
      "\n",
      "Remember to put Multi_Dis_model_1 in time order before running.\n",
      "\n",
      "Lagging gmv by 2 time units.\n",
      "\n",
      "\n",
      "Remember to put Multi_Dis_model_1 in time order before running.\n",
      "\n",
      "Lagging gmv by 3 time units.\n",
      "\n"
     ]
    },
    {
     "name": "stdout",
     "output_type": "stream",
     "text": [
      "\n",
      "Call:\n",
      "lm(formula = gmv ~ ., data = Multi_dist)\n",
      "\n",
      "Residuals:\n",
      "       Min         1Q     Median         3Q        Max \n",
      "-1.956e-03 -5.626e-04  2.682e-05  6.345e-04  1.564e-03 \n",
      "\n",
      "Coefficients:\n",
      "                          Estimate Std. Error t value Pr(>|t|)    \n",
      "(Intercept)              0.7059763  0.6619319   1.067  0.30559    \n",
      "week_year               -0.0083718  0.0059704  -1.402  0.18427    \n",
      "list_price               1.0031507  0.0322337  31.121 1.36e-13 ***\n",
      "product_mrp             -0.0150032  0.0324400  -0.462  0.65138    \n",
      "units                    1.0062954  0.3270518   3.077  0.00883 ** \n",
      "sla                     -0.0124429  0.0087452  -1.423  0.17834    \n",
      "promotional_offer        0.0104628  0.0235585   0.444  0.66426    \n",
      "number                   0.0000462  0.0001881   0.246  0.80988    \n",
      "Total.Investment        -0.0395854  0.0234697  -1.687  0.11550    \n",
      "TV                       0.0131862  0.0083233   1.584  0.13715    \n",
      "Digital                 -0.0037763  0.0042792  -0.882  0.39355    \n",
      "Sponsorship              0.0097158  0.0131626   0.738  0.47354    \n",
      "Content.Marketing       -0.0048936  0.0043350  -1.129  0.27936    \n",
      "Online.marketing         0.0629053  0.0609298   1.032  0.32070    \n",
      "Affiliates              -0.0789011  0.0715540  -1.103  0.29016    \n",
      "SEM                      0.0161300  0.0095435   1.690  0.11482    \n",
      "product_procurement_sla  0.0019770  0.0059318   0.333  0.74423    \n",
      "per_order                0.0036260  0.0038849   0.933  0.36765    \n",
      "NPS                     -0.1310191  0.1398000  -0.937  0.36575    \n",
      "list_price.1             0.4304616  0.1642899   2.620  0.02118 *  \n",
      "list_price.2             0.3264062  0.1990056   1.640  0.12493    \n",
      "list_price.3             0.0260666  0.1371330   0.190  0.85218    \n",
      "promotional_offer.1     -0.0009601  0.0067837  -0.142  0.88962    \n",
      "promotional_offer.2      0.0056976  0.0050516   1.128  0.27976    \n",
      "promotional_offer.3      0.0008232  0.0074463   0.111  0.91366    \n",
      "NPS.1                   -0.0347248  0.0242942  -1.429  0.17649    \n",
      "NPS.2                    0.0196715  0.0255185   0.771  0.45457    \n",
      "NPS.3                    0.0083350  0.0195100   0.427  0.67621    \n",
      "`gmv-1`                 -0.4097293  0.1662523  -2.465  0.02843 *  \n",
      "`gmv-2`                 -0.3441528  0.2052685  -1.677  0.11749    \n",
      "`gmv-3`                 -0.0235915  0.1374636  -0.172  0.86638    \n",
      "---\n",
      "Signif. codes:  0 ‘***’ 0.001 ‘**’ 0.01 ‘*’ 0.05 ‘.’ 0.1 ‘ ’ 1\n",
      "\n",
      "Residual standard error: 0.00156 on 13 degrees of freedom\n",
      "Multiple R-squared:  0.9998,\tAdjusted R-squared:  0.9993 \n",
      "F-statistic:  2041 on 30 and 13 DF,  p-value: < 2.2e-16\n",
      "\n"
     ]
    }
   ],
   "source": [
    "Multi_dist <-data[,-c(20:28)]\n",
    "Multi_Dis_model_1 <- slide(Multi_dist, Var = \"gmv\",slideBy = -1)\n",
    "Multi_Dis_model_1 <- slide(Multi_Dis_model_1, Var = \"gmv\",slideBy = -2)\n",
    "Multi_Dis_model_1 <- slide(Multi_Dis_model_1, Var = \"gmv\",slideBy = -3)\n",
    "Multi_dist <- na.omit(Multi_Dis_model_1)\n",
    "\n",
    "Multi_dist$Content.Marketing[which(Multi_dist$Content.Marketing==0)] <-1\n",
    "Multi_dist$per_order[which(Multi_dist$per_order==0)] <-0.01\n",
    "Multi_dist$number[which(Multi_dist$number==0)] <-0.01\n",
    "Multi_dist$TV[which(Multi_dist$TV==0)] <-0.01\n",
    "Multi_dist <- log(Multi_dist)\n",
    "\n",
    "distMulti <- lm(gmv~., Multi_dist)\n",
    "print(summary(distMulti))\n"
   ]
  },
  {
   "cell_type": "code",
   "execution_count": 19,
   "metadata": {},
   "outputs": [
    {
     "data": {
      "text/plain": [
       "\n",
       "Call:\n",
       "lm(formula = myForm, data = Multi_dist)\n",
       "\n",
       "Residuals:\n",
       "      Min        1Q    Median        3Q       Max \n",
       "-0.103730 -0.033682  0.001658  0.029143  0.112019 \n",
       "\n",
       "Coefficients:\n",
       "                         Estimate Std. Error t value Pr(>|t|)    \n",
       "(Intercept)              4.500776   1.041846   4.320 0.000112 ***\n",
       "number                   0.006984   0.003131   2.231 0.031848 *  \n",
       "Digital                  0.014501   0.010866   1.334 0.190208    \n",
       "product_procurement_sla -0.136387   0.088525  -1.541 0.131911    \n",
       "per_order                0.011273   0.019274   0.585 0.562178    \n",
       "list_price.1             0.410136   0.134050   3.060 0.004109 ** \n",
       "promotional_offer.1     -0.171544   0.079890  -2.147 0.038393 *  \n",
       "---\n",
       "Signif. codes:  0 ‘***’ 0.001 ‘**’ 0.01 ‘*’ 0.05 ‘.’ 0.1 ‘ ’ 1\n",
       "\n",
       "Residual standard error: 0.0498 on 37 degrees of freedom\n",
       "Multiple R-squared:  0.3846,\tAdjusted R-squared:  0.2848 \n",
       "F-statistic: 3.853 on 6 and 37 DF,  p-value: 0.004379\n"
      ]
     },
     "metadata": {},
     "output_type": "display_data"
    }
   ],
   "source": [
    "all_vif <- vif(distMulti )\n",
    "signif_all <- names(all_vif)\n",
    "\n",
    " while(any(all_vif > 1.2)){\n",
    "  var_with_max_vif <- names(which(all_vif == max(all_vif)))    # get the var with max vif\n",
    "  signif_all <- signif_all[!(signif_all) %in% var_with_max_vif]  # remove\n",
    "  myForm <- as.formula(paste(\"gmv ~ \", paste (signif_all, collapse=\" + \"), sep=\"\"))  # new formula\n",
    "  selectedMod <- lm(myForm, data=Multi_dist)  # re-build model with new formula\n",
    "  all_vif <- vif(selectedMod)\n",
    "}\n",
    "\n",
    "DistributedMulti_Final_model <- selectedMod\n",
    "summary(DistributedMulti_Final_model)"
   ]
  },
  {
   "cell_type": "markdown",
   "metadata": {},
   "source": [
    "k-fold CROSS VALIDATION"
   ]
  },
  {
   "cell_type": "code",
   "execution_count": 20,
   "metadata": {
    "scrolled": true
   },
   "outputs": [
    {
     "name": "stdout",
     "output_type": "stream",
     "text": [
      "Linear Regression \n",
      "\n",
      "44 samples\n",
      " 6 predictor\n",
      "\n",
      "No pre-processing\n",
      "Resampling: Cross-Validated (10 fold) \n",
      "Summary of sample sizes: 40, 39, 39, 40, 40, 39, ... \n",
      "Resampling results:\n",
      "\n",
      "  RMSE        Rsquared   MAE       \n",
      "  0.05547827  0.3324297  0.04667767\n",
      "\n",
      "Tuning parameter 'intercept' was held constant at a value of TRUE\n"
     ]
    }
   ],
   "source": [
    "library(caret)\n",
    "# Define training control\n",
    "set.seed(123)\n",
    "train.control <- trainControl(method = \"cv\", number = 10)\n",
    "# Train the model\n",
    "cross_val <- train(myForm, data =Multi_dist , method = \"lm\",\n",
    "               trControl = train.control)\n",
    "# Summarize t1he results\n",
    "print(cross_val)"
   ]
  },
  {
   "cell_type": "markdown",
   "metadata": {},
   "source": [
    "#### ELASTICITY ANALYSIS"
   ]
  },
  {
   "cell_type": "code",
   "execution_count": 21,
   "metadata": {},
   "outputs": [
    {
     "data": {},
     "metadata": {},
     "output_type": "display_data"
    },
    {
     "data": {
      "image/png": "[encoded data removed]",
      "text/plain": [
       "plot without title"
      ]
     },
     "metadata": {},
     "output_type": "display_data"
    }
   ],
   "source": [
    "# estimating the elasticity coefficients\n",
    "train <- Multi_dist\n",
    "\n",
    "grlm <-DistributedMulti_Final_model \n",
    "elasticity <- function(var){\n",
    "  \n",
    "  elax1 <-as.numeric(grlm$coefficients[var]*mean(train[,var])/mean(train$gmv))\n",
    "  \n",
    "  return(elax1)\n",
    "} \n",
    "\n",
    "var_list <- list()\n",
    "\n",
    "for(i in 2:length(grlm$coefficients)){\n",
    "  \n",
    "  var_list[i-1] <-elasticity(names(grlm$coefficients)[i])\n",
    "  \n",
    "}\n",
    "\n",
    "elasticity.outputs <- data.frame(names(grlm$coefficients[2:length(grlm$coefficients)]))\n",
    "elasticity.outputs <- cbind(elasticity.outputs,do.call(rbind.data.frame, var_list))\n",
    "colnames(elasticity.outputs) <- c(\"Variable\",\"Elasticity\")\n",
    "\n",
    "elasticity.outputs$direction <- ifelse(elasticity.outputs$Elasticity > 0, \"Positive\", \"Negative\")\n",
    "\n",
    "\n",
    "\n",
    "ggplot(data=elasticity.outputs, aes(x=reorder(Variable,Elasticity),y=Elasticity)) +\n",
    "  geom_bar(position=\"dodge\",stat=\"identity\") + \n",
    "  coord_flip() +\n",
    "  ggtitle(\"Home Audio - Multi. & DL model\") +xlab(\"Variables\")\n"
   ]
  },
  {
   "cell_type": "code",
   "execution_count": null,
   "metadata": {},
   "outputs": [],
   "source": []
  },
  {
   "cell_type": "code",
   "execution_count": null,
   "metadata": {},
   "outputs": [],
   "source": []
  },
  {
   "cell_type": "code",
   "execution_count": null,
   "metadata": {},
   "outputs": [],
   "source": []
  }
 ],
 "metadata": {
  "kernelspec": {
   "display_name": "R",
   "language": "R",
   "name": "ir"
  },
  "language_info": {
   "codemirror_mode": "r",
   "file_extension": ".r",
   "mimetype": "text/x-r-source",
   "name": "R",
   "pygments_lexer": "r",
   "version": "3.4.3"
  }
 },
 "nbformat": 4,
 "nbformat_minor": 2
}
