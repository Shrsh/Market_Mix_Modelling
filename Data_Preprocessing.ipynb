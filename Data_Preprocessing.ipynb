{
 "cells": [
  {
   "cell_type": "code",
   "execution_count": 1,
   "metadata": {},
   "outputs": [
    {
     "name": "stderr",
     "output_type": "stream",
     "text": [
      "\n",
      "Attaching package: ‘dplyr’\n",
      "\n",
      "The following objects are masked from ‘package:plyr’:\n",
      "\n",
      "    arrange, count, desc, failwith, id, mutate, rename, summarise,\n",
      "    summarize\n",
      "\n",
      "The following objects are masked from ‘package:stats’:\n",
      "\n",
      "    filter, lag\n",
      "\n",
      "The following objects are masked from ‘package:base’:\n",
      "\n",
      "    intersect, setdiff, setequal, union\n",
      "\n",
      "Loading required package: lattice\n",
      "Loading required package: survival\n",
      "Loading required package: Formula\n",
      "\n",
      "Attaching package: ‘Hmisc’\n",
      "\n",
      "The following objects are masked from ‘package:dplyr’:\n",
      "\n",
      "    combine, src, summarize\n",
      "\n",
      "The following objects are masked from ‘package:plyr’:\n",
      "\n",
      "    is.discrete, summarize\n",
      "\n",
      "The following objects are masked from ‘package:base’:\n",
      "\n",
      "    format.pval, round.POSIXt, trunc.POSIXt, units\n",
      "\n",
      "Loading required package: zoo\n",
      "\n",
      "Attaching package: ‘zoo’\n",
      "\n",
      "The following objects are masked from ‘package:base’:\n",
      "\n",
      "    as.Date, as.Date.numeric\n",
      "\n",
      "\n",
      "Attaching package: ‘xts’\n",
      "\n",
      "The following objects are masked from ‘package:dplyr’:\n",
      "\n",
      "    first, last\n",
      "\n",
      "\n",
      "Attaching package: ‘lubridate’\n",
      "\n",
      "The following object is masked from ‘package:plyr’:\n",
      "\n",
      "    here\n",
      "\n",
      "The following object is masked from ‘package:base’:\n",
      "\n",
      "    date\n",
      "\n"
     ]
    }
   ],
   "source": [
    "library(ggplot2);\n",
    "library(plyr);\n",
    "library(dplyr);\n",
    "library(Hmisc);\n",
    "library(broom);\n",
    "library(xts);\n",
    "library(lubridate)\n",
    "library(cluster)\n",
    "options(warn=-1)"
   ]
  },
  {
   "cell_type": "code",
   "execution_count": 2,
   "metadata": {},
   "outputs": [],
   "source": [
    "data <- read.csv('consumer_data.csv')"
   ]
  },
  {
   "cell_type": "code",
   "execution_count": 3,
   "metadata": {},
   "outputs": [
    {
     "name": "stdout",
     "output_type": "stream",
     "text": [
      "'data.frame':\t1648824 obs. of  20 variables:\n",
      " $ fsn_id                         : Factor w/ 21219 levels \"ACCCX3S58G7B5F6P\",..: 1 1 3 3 3 6 6 6 6 6 ...\n",
      " $ order_date                     : Factor w/ 1155192 levels \"2015-05-19 13:42:09\",..: 261290 272488 276287 200433 266471 258475 241221 218942 219916 291196 ...\n",
      " $ Year                           : int  2015 2015 2015 2015 2015 2015 2015 2015 2015 2015 ...\n",
      " $ Month                          : int  10 10 10 10 10 10 10 10 10 10 ...\n",
      " $ order_id                       : num  3.42e+15 1.42e+15 2.42e+15 4.42e+15 4.42e+15 ...\n",
      " $ order_item_id                  : num  3.42e+15 1.42e+15 2.42e+15 4.42e+15 4.42e+15 ...\n",
      " $ gmv                            : num  6400 6900 1990 1690 1618 ...\n",
      " $ units                          : int  1 1 1 1 1 1 1 1 1 1 ...\n",
      " $ deliverybdays                  : Factor w/ 143 levels \"-10\",\"-12\",\"-13\",..: 24 24 24 24 24 24 24 24 24 24 ...\n",
      " $ deliverycdays                  : Factor w/ 171 levels \"-11\",\"-115\",\"-14\",..: 37 37 37 37 37 37 37 37 37 37 ...\n",
      " $ s1_fact.order_payment_type     : Factor w/ 2 levels \"COD\",\"Prepaid\": 1 1 1 2 2 2 2 1 2 1 ...\n",
      " $ sla                            : int  5 7 10 4 6 5 6 5 9 7 ...\n",
      " $ cust_id                        : num  -1.01e+18 -8.99e+18 -1.04e+18 -7.60e+18 2.89e+18 ...\n",
      " $ pincode                        : num  -7.79e+18 7.34e+18 -7.48e+18 -5.84e+18 5.35e+17 ...\n",
      " $ product_analytic_super_category: Factor w/ 1 level \"CE\": 1 1 1 1 1 1 1 1 1 1 ...\n",
      " $ product_analytic_category      : Factor w/ 5 levels \"Camera\",\"CameraAccessory\",..: 2 2 2 2 2 2 2 2 2 2 ...\n",
      " $ product_analytic_sub_category  : Factor w/ 14 levels \"AmplifierReceiver\",..: 5 5 5 5 5 5 5 5 5 5 ...\n",
      " $ product_analytic_vertical      : Factor w/ 74 levels \"\\\\N\",\"AmplifierReceiver\",..: 20 20 20 20 20 20 20 20 20 20 ...\n",
      " $ product_mrp                    : int  7190 7190 2099 2099 2099 4044 4044 4044 4044 4044 ...\n",
      " $ product_procurement_sla        : int  0 0 3 3 3 5 5 5 5 5 ...\n"
     ]
    }
   ],
   "source": [
    "str(data)"
   ]
  },
  {
   "cell_type": "markdown",
   "metadata": {},
   "source": [
    "\n",
    "#### Creating a Week Column"
   ]
  },
  {
   "cell_type": "code",
   "execution_count": 4,
   "metadata": {},
   "outputs": [],
   "source": [
    "data$order_date <- date(data$order_date)"
   ]
  },
  {
   "cell_type": "code",
   "execution_count": 5,
   "metadata": {},
   "outputs": [
    {
     "data": {
      "text/html": [
       "<table>\n",
       "<thead><tr><th scope=col>fsn_id</th><th scope=col>order_date</th><th scope=col>Year</th><th scope=col>Month</th><th scope=col>order_id</th><th scope=col>order_item_id</th><th scope=col>gmv</th><th scope=col>units</th><th scope=col>deliverybdays</th><th scope=col>deliverycdays</th><th scope=col>s1_fact.order_payment_type</th><th scope=col>sla</th><th scope=col>cust_id</th><th scope=col>pincode</th><th scope=col>product_analytic_super_category</th><th scope=col>product_analytic_category</th><th scope=col>product_analytic_sub_category</th><th scope=col>product_analytic_vertical</th><th scope=col>product_mrp</th><th scope=col>product_procurement_sla</th></tr></thead>\n",
       "<tbody>\n",
       "\t<tr><td>ACCCX3S58G7B5F6P</td><td>2015-10-17      </td><td>2015            </td><td>10              </td><td>3.419301e+15    </td><td>3.419301e+15    </td><td>6400            </td><td>1               </td><td>\\N             </td><td>\\N             </td><td>COD             </td><td> 5              </td><td>-1.012991e+18   </td><td>-7.791756e+18   </td><td>CE              </td><td>CameraAccessory </td><td>CameraAccessory </td><td>CameraTripod    </td><td>7190            </td><td>0               </td></tr>\n",
       "\t<tr><td>ACCCX3S58G7B5F6P</td><td>2015-10-19      </td><td>2015            </td><td>10              </td><td>1.420831e+15    </td><td>1.420831e+15    </td><td>6900            </td><td>1               </td><td>\\N             </td><td>\\N             </td><td>COD             </td><td> 7              </td><td>-8.990325e+18   </td><td> 7.335411e+18   </td><td>CE              </td><td>CameraAccessory </td><td>CameraAccessory </td><td>CameraTripod    </td><td>7190            </td><td>0               </td></tr>\n",
       "\t<tr><td>ACCCX3S5AHMF55FV</td><td>2015-10-20      </td><td>2015            </td><td>10              </td><td>2.421913e+15    </td><td>2.421913e+15    </td><td>1990            </td><td>1               </td><td>\\N             </td><td>\\N             </td><td>COD             </td><td>10              </td><td>-1.040443e+18   </td><td>-7.477688e+18   </td><td>CE              </td><td>CameraAccessory </td><td>CameraAccessory </td><td>CameraTripod    </td><td>2099            </td><td>3               </td></tr>\n",
       "\t<tr><td>ACCCX3S5AHMF55FV</td><td>2015-10-14      </td><td>2015            </td><td>10              </td><td>4.416592e+15    </td><td>4.416592e+15    </td><td>1690            </td><td>1               </td><td>\\N             </td><td>\\N             </td><td>Prepaid         </td><td> 4              </td><td>-7.604961e+18   </td><td>-5.835932e+18   </td><td>CE              </td><td>CameraAccessory </td><td>CameraAccessory </td><td>CameraTripod    </td><td>2099            </td><td>3               </td></tr>\n",
       "\t<tr><td>ACCCX3S5AHMF55FV</td><td>2015-10-17      </td><td>2015            </td><td>10              </td><td>4.419525e+15    </td><td>4.419525e+15    </td><td>1618            </td><td>1               </td><td>\\N             </td><td>\\N             </td><td>Prepaid         </td><td> 6              </td><td> 2.894557e+18   </td><td> 5.347354e+17   </td><td>CE              </td><td>CameraAccessory </td><td>CameraAccessory </td><td>CameraTripod    </td><td>2099            </td><td>3               </td></tr>\n",
       "\t<tr><td>ACCCX3S5JGAJETYR</td><td>2015-10-17      </td><td>2015            </td><td>10              </td><td>3.419189e+15    </td><td>3.419189e+15    </td><td>3324            </td><td>1               </td><td>\\N             </td><td>\\N             </td><td>Prepaid         </td><td> 5              </td><td>-7.641546e+18   </td><td>-1.919053e+18   </td><td>CE              </td><td>CameraAccessory </td><td>CameraAccessory </td><td>CameraTripod    </td><td>4044            </td><td>5               </td></tr>\n",
       "</tbody>\n",
       "</table>\n"
      ],
      "text/latex": [
       "\\begin{tabular}{r|llllllllllllllllllll}\n",
       " fsn\\_id & order\\_date & Year & Month & order\\_id & order\\_item\\_id & gmv & units & deliverybdays & deliverycdays & s1\\_fact.order\\_payment\\_type & sla & cust\\_id & pincode & product\\_analytic\\_super\\_category & product\\_analytic\\_category & product\\_analytic\\_sub\\_category & product\\_analytic\\_vertical & product\\_mrp & product\\_procurement\\_sla\\\\\n",
       "\\hline\n",
       "\t ACCCX3S58G7B5F6P   & 2015-10-17         & 2015               & 10                 & 3.419301e+15       & 3.419301e+15       & 6400               & 1                  & \\textbackslash{}N & \\textbackslash{}N & COD                &  5                 & -1.012991e+18      & -7.791756e+18      & CE                 & CameraAccessory    & CameraAccessory    & CameraTripod       & 7190               & 0                 \\\\\n",
       "\t ACCCX3S58G7B5F6P   & 2015-10-19         & 2015               & 10                 & 1.420831e+15       & 1.420831e+15       & 6900               & 1                  & \\textbackslash{}N & \\textbackslash{}N & COD                &  7                 & -8.990325e+18      &  7.335411e+18      & CE                 & CameraAccessory    & CameraAccessory    & CameraTripod       & 7190               & 0                 \\\\\n",
       "\t ACCCX3S5AHMF55FV   & 2015-10-20         & 2015               & 10                 & 2.421913e+15       & 2.421913e+15       & 1990               & 1                  & \\textbackslash{}N & \\textbackslash{}N & COD                & 10                 & -1.040443e+18      & -7.477688e+18      & CE                 & CameraAccessory    & CameraAccessory    & CameraTripod       & 2099               & 3                 \\\\\n",
       "\t ACCCX3S5AHMF55FV   & 2015-10-14         & 2015               & 10                 & 4.416592e+15       & 4.416592e+15       & 1690               & 1                  & \\textbackslash{}N & \\textbackslash{}N & Prepaid            &  4                 & -7.604961e+18      & -5.835932e+18      & CE                 & CameraAccessory    & CameraAccessory    & CameraTripod       & 2099               & 3                 \\\\\n",
       "\t ACCCX3S5AHMF55FV   & 2015-10-17         & 2015               & 10                 & 4.419525e+15       & 4.419525e+15       & 1618               & 1                  & \\textbackslash{}N & \\textbackslash{}N & Prepaid            &  6                 &  2.894557e+18      &  5.347354e+17      & CE                 & CameraAccessory    & CameraAccessory    & CameraTripod       & 2099               & 3                 \\\\\n",
       "\t ACCCX3S5JGAJETYR   & 2015-10-17         & 2015               & 10                 & 3.419189e+15       & 3.419189e+15       & 3324               & 1                  & \\textbackslash{}N & \\textbackslash{}N & Prepaid            &  5                 & -7.641546e+18      & -1.919053e+18      & CE                 & CameraAccessory    & CameraAccessory    & CameraTripod       & 4044               & 5                 \\\\\n",
       "\\end{tabular}\n"
      ],
      "text/markdown": [
       "\n",
       "fsn_id | order_date | Year | Month | order_id | order_item_id | gmv | units | deliverybdays | deliverycdays | s1_fact.order_payment_type | sla | cust_id | pincode | product_analytic_super_category | product_analytic_category | product_analytic_sub_category | product_analytic_vertical | product_mrp | product_procurement_sla | \n",
       "|---|---|---|---|---|---|\n",
       "| ACCCX3S58G7B5F6P | 2015-10-17       | 2015             | 10               | 3.419301e+15     | 3.419301e+15     | 6400             | 1                | \\N              | \\N              | COD              |  5               | -1.012991e+18    | -7.791756e+18    | CE               | CameraAccessory  | CameraAccessory  | CameraTripod     | 7190             | 0                | \n",
       "| ACCCX3S58G7B5F6P | 2015-10-19       | 2015             | 10               | 1.420831e+15     | 1.420831e+15     | 6900             | 1                | \\N              | \\N              | COD              |  7               | -8.990325e+18    |  7.335411e+18    | CE               | CameraAccessory  | CameraAccessory  | CameraTripod     | 7190             | 0                | \n",
       "| ACCCX3S5AHMF55FV | 2015-10-20       | 2015             | 10               | 2.421913e+15     | 2.421913e+15     | 1990             | 1                | \\N              | \\N              | COD              | 10               | -1.040443e+18    | -7.477688e+18    | CE               | CameraAccessory  | CameraAccessory  | CameraTripod     | 2099             | 3                | \n",
       "| ACCCX3S5AHMF55FV | 2015-10-14       | 2015             | 10               | 4.416592e+15     | 4.416592e+15     | 1690             | 1                | \\N              | \\N              | Prepaid          |  4               | -7.604961e+18    | -5.835932e+18    | CE               | CameraAccessory  | CameraAccessory  | CameraTripod     | 2099             | 3                | \n",
       "| ACCCX3S5AHMF55FV | 2015-10-17       | 2015             | 10               | 4.419525e+15     | 4.419525e+15     | 1618             | 1                | \\N              | \\N              | Prepaid          |  6               |  2.894557e+18    |  5.347354e+17    | CE               | CameraAccessory  | CameraAccessory  | CameraTripod     | 2099             | 3                | \n",
       "| ACCCX3S5JGAJETYR | 2015-10-17       | 2015             | 10               | 3.419189e+15     | 3.419189e+15     | 3324             | 1                | \\N              | \\N              | Prepaid          |  5               | -7.641546e+18    | -1.919053e+18    | CE               | CameraAccessory  | CameraAccessory  | CameraTripod     | 4044             | 5                | \n",
       "\n",
       "\n"
      ],
      "text/plain": [
       "  fsn_id           order_date Year Month order_id     order_item_id gmv  units\n",
       "1 ACCCX3S58G7B5F6P 2015-10-17 2015 10    3.419301e+15 3.419301e+15  6400 1    \n",
       "2 ACCCX3S58G7B5F6P 2015-10-19 2015 10    1.420831e+15 1.420831e+15  6900 1    \n",
       "3 ACCCX3S5AHMF55FV 2015-10-20 2015 10    2.421913e+15 2.421913e+15  1990 1    \n",
       "4 ACCCX3S5AHMF55FV 2015-10-14 2015 10    4.416592e+15 4.416592e+15  1690 1    \n",
       "5 ACCCX3S5AHMF55FV 2015-10-17 2015 10    4.419525e+15 4.419525e+15  1618 1    \n",
       "6 ACCCX3S5JGAJETYR 2015-10-17 2015 10    3.419189e+15 3.419189e+15  3324 1    \n",
       "  deliverybdays deliverycdays s1_fact.order_payment_type sla cust_id      \n",
       "1 \\\\N           \\\\N           COD                         5  -1.012991e+18\n",
       "2 \\\\N           \\\\N           COD                         7  -8.990325e+18\n",
       "3 \\\\N           \\\\N           COD                        10  -1.040443e+18\n",
       "4 \\\\N           \\\\N           Prepaid                     4  -7.604961e+18\n",
       "5 \\\\N           \\\\N           Prepaid                     6   2.894557e+18\n",
       "6 \\\\N           \\\\N           Prepaid                     5  -7.641546e+18\n",
       "  pincode       product_analytic_super_category product_analytic_category\n",
       "1 -7.791756e+18 CE                              CameraAccessory          \n",
       "2  7.335411e+18 CE                              CameraAccessory          \n",
       "3 -7.477688e+18 CE                              CameraAccessory          \n",
       "4 -5.835932e+18 CE                              CameraAccessory          \n",
       "5  5.347354e+17 CE                              CameraAccessory          \n",
       "6 -1.919053e+18 CE                              CameraAccessory          \n",
       "  product_analytic_sub_category product_analytic_vertical product_mrp\n",
       "1 CameraAccessory               CameraTripod              7190       \n",
       "2 CameraAccessory               CameraTripod              7190       \n",
       "3 CameraAccessory               CameraTripod              2099       \n",
       "4 CameraAccessory               CameraTripod              2099       \n",
       "5 CameraAccessory               CameraTripod              2099       \n",
       "6 CameraAccessory               CameraTripod              4044       \n",
       "  product_procurement_sla\n",
       "1 0                      \n",
       "2 0                      \n",
       "3 3                      \n",
       "4 3                      \n",
       "5 3                      \n",
       "6 5                      "
      ]
     },
     "metadata": {},
     "output_type": "display_data"
    }
   ],
   "source": [
    "head(data)"
   ]
  },
  {
   "cell_type": "code",
   "execution_count": 6,
   "metadata": {},
   "outputs": [],
   "source": [
    "data$week_year <- week(data$order_date)\n"
   ]
  },
  {
   "cell_type": "code",
   "execution_count": 7,
   "metadata": {},
   "outputs": [
    {
     "data": {
      "text/html": [
       "<table>\n",
       "<thead><tr><th scope=col>fsn_id</th><th scope=col>order_date</th><th scope=col>Year</th><th scope=col>Month</th><th scope=col>order_id</th><th scope=col>order_item_id</th><th scope=col>gmv</th><th scope=col>units</th><th scope=col>deliverybdays</th><th scope=col>deliverycdays</th><th scope=col>⋯</th><th scope=col>sla</th><th scope=col>cust_id</th><th scope=col>pincode</th><th scope=col>product_analytic_super_category</th><th scope=col>product_analytic_category</th><th scope=col>product_analytic_sub_category</th><th scope=col>product_analytic_vertical</th><th scope=col>product_mrp</th><th scope=col>product_procurement_sla</th><th scope=col>week_year</th></tr></thead>\n",
       "<tbody>\n",
       "\t<tr><td>ACCCX3S58G7B5F6P</td><td>2015-10-17      </td><td>2015            </td><td>10              </td><td>3.419301e+15    </td><td>3.419301e+15    </td><td>6400            </td><td>1               </td><td>\\N             </td><td>\\N             </td><td>⋯               </td><td> 5              </td><td>-1.012991e+18   </td><td>-7.791756e+18   </td><td>CE              </td><td>CameraAccessory </td><td>CameraAccessory </td><td>CameraTripod    </td><td>7190            </td><td>0               </td><td>42              </td></tr>\n",
       "\t<tr><td>ACCCX3S58G7B5F6P</td><td>2015-10-19      </td><td>2015            </td><td>10              </td><td>1.420831e+15    </td><td>1.420831e+15    </td><td>6900            </td><td>1               </td><td>\\N             </td><td>\\N             </td><td>⋯               </td><td> 7              </td><td>-8.990325e+18   </td><td> 7.335411e+18   </td><td>CE              </td><td>CameraAccessory </td><td>CameraAccessory </td><td>CameraTripod    </td><td>7190            </td><td>0               </td><td>42              </td></tr>\n",
       "\t<tr><td>ACCCX3S5AHMF55FV</td><td>2015-10-20      </td><td>2015            </td><td>10              </td><td>2.421913e+15    </td><td>2.421913e+15    </td><td>1990            </td><td>1               </td><td>\\N             </td><td>\\N             </td><td>⋯               </td><td>10              </td><td>-1.040443e+18   </td><td>-7.477688e+18   </td><td>CE              </td><td>CameraAccessory </td><td>CameraAccessory </td><td>CameraTripod    </td><td>2099            </td><td>3               </td><td>42              </td></tr>\n",
       "\t<tr><td>ACCCX3S5AHMF55FV</td><td>2015-10-14      </td><td>2015            </td><td>10              </td><td>4.416592e+15    </td><td>4.416592e+15    </td><td>1690            </td><td>1               </td><td>\\N             </td><td>\\N             </td><td>⋯               </td><td> 4              </td><td>-7.604961e+18   </td><td>-5.835932e+18   </td><td>CE              </td><td>CameraAccessory </td><td>CameraAccessory </td><td>CameraTripod    </td><td>2099            </td><td>3               </td><td>41              </td></tr>\n",
       "\t<tr><td>ACCCX3S5AHMF55FV</td><td>2015-10-17      </td><td>2015            </td><td>10              </td><td>4.419525e+15    </td><td>4.419525e+15    </td><td>1618            </td><td>1               </td><td>\\N             </td><td>\\N             </td><td>⋯               </td><td> 6              </td><td> 2.894557e+18   </td><td> 5.347354e+17   </td><td>CE              </td><td>CameraAccessory </td><td>CameraAccessory </td><td>CameraTripod    </td><td>2099            </td><td>3               </td><td>42              </td></tr>\n",
       "\t<tr><td>ACCCX3S5JGAJETYR</td><td>2015-10-17      </td><td>2015            </td><td>10              </td><td>3.419189e+15    </td><td>3.419189e+15    </td><td>3324            </td><td>1               </td><td>\\N             </td><td>\\N             </td><td>⋯               </td><td> 5              </td><td>-7.641546e+18   </td><td>-1.919053e+18   </td><td>CE              </td><td>CameraAccessory </td><td>CameraAccessory </td><td>CameraTripod    </td><td>4044            </td><td>5               </td><td>42              </td></tr>\n",
       "</tbody>\n",
       "</table>\n"
      ],
      "text/latex": [
       "\\begin{tabular}{r|lllllllllllllllllllll}\n",
       " fsn\\_id & order\\_date & Year & Month & order\\_id & order\\_item\\_id & gmv & units & deliverybdays & deliverycdays & ⋯ & sla & cust\\_id & pincode & product\\_analytic\\_super\\_category & product\\_analytic\\_category & product\\_analytic\\_sub\\_category & product\\_analytic\\_vertical & product\\_mrp & product\\_procurement\\_sla & week\\_year\\\\\n",
       "\\hline\n",
       "\t ACCCX3S58G7B5F6P   & 2015-10-17         & 2015               & 10                 & 3.419301e+15       & 3.419301e+15       & 6400               & 1                  & \\textbackslash{}N & \\textbackslash{}N & ⋯                  &  5                 & -1.012991e+18      & -7.791756e+18      & CE                 & CameraAccessory    & CameraAccessory    & CameraTripod       & 7190               & 0                  & 42                \\\\\n",
       "\t ACCCX3S58G7B5F6P   & 2015-10-19         & 2015               & 10                 & 1.420831e+15       & 1.420831e+15       & 6900               & 1                  & \\textbackslash{}N & \\textbackslash{}N & ⋯                  &  7                 & -8.990325e+18      &  7.335411e+18      & CE                 & CameraAccessory    & CameraAccessory    & CameraTripod       & 7190               & 0                  & 42                \\\\\n",
       "\t ACCCX3S5AHMF55FV   & 2015-10-20         & 2015               & 10                 & 2.421913e+15       & 2.421913e+15       & 1990               & 1                  & \\textbackslash{}N & \\textbackslash{}N & ⋯                  & 10                 & -1.040443e+18      & -7.477688e+18      & CE                 & CameraAccessory    & CameraAccessory    & CameraTripod       & 2099               & 3                  & 42                \\\\\n",
       "\t ACCCX3S5AHMF55FV   & 2015-10-14         & 2015               & 10                 & 4.416592e+15       & 4.416592e+15       & 1690               & 1                  & \\textbackslash{}N & \\textbackslash{}N & ⋯                  &  4                 & -7.604961e+18      & -5.835932e+18      & CE                 & CameraAccessory    & CameraAccessory    & CameraTripod       & 2099               & 3                  & 41                \\\\\n",
       "\t ACCCX3S5AHMF55FV   & 2015-10-17         & 2015               & 10                 & 4.419525e+15       & 4.419525e+15       & 1618               & 1                  & \\textbackslash{}N & \\textbackslash{}N & ⋯                  &  6                 &  2.894557e+18      &  5.347354e+17      & CE                 & CameraAccessory    & CameraAccessory    & CameraTripod       & 2099               & 3                  & 42                \\\\\n",
       "\t ACCCX3S5JGAJETYR   & 2015-10-17         & 2015               & 10                 & 3.419189e+15       & 3.419189e+15       & 3324               & 1                  & \\textbackslash{}N & \\textbackslash{}N & ⋯                  &  5                 & -7.641546e+18      & -1.919053e+18      & CE                 & CameraAccessory    & CameraAccessory    & CameraTripod       & 4044               & 5                  & 42                \\\\\n",
       "\\end{tabular}\n"
      ],
      "text/markdown": [
       "\n",
       "fsn_id | order_date | Year | Month | order_id | order_item_id | gmv | units | deliverybdays | deliverycdays | ⋯ | sla | cust_id | pincode | product_analytic_super_category | product_analytic_category | product_analytic_sub_category | product_analytic_vertical | product_mrp | product_procurement_sla | week_year | \n",
       "|---|---|---|---|---|---|\n",
       "| ACCCX3S58G7B5F6P | 2015-10-17       | 2015             | 10               | 3.419301e+15     | 3.419301e+15     | 6400             | 1                | \\N              | \\N              | ⋯                |  5               | -1.012991e+18    | -7.791756e+18    | CE               | CameraAccessory  | CameraAccessory  | CameraTripod     | 7190             | 0                | 42               | \n",
       "| ACCCX3S58G7B5F6P | 2015-10-19       | 2015             | 10               | 1.420831e+15     | 1.420831e+15     | 6900             | 1                | \\N              | \\N              | ⋯                |  7               | -8.990325e+18    |  7.335411e+18    | CE               | CameraAccessory  | CameraAccessory  | CameraTripod     | 7190             | 0                | 42               | \n",
       "| ACCCX3S5AHMF55FV | 2015-10-20       | 2015             | 10               | 2.421913e+15     | 2.421913e+15     | 1990             | 1                | \\N              | \\N              | ⋯                | 10               | -1.040443e+18    | -7.477688e+18    | CE               | CameraAccessory  | CameraAccessory  | CameraTripod     | 2099             | 3                | 42               | \n",
       "| ACCCX3S5AHMF55FV | 2015-10-14       | 2015             | 10               | 4.416592e+15     | 4.416592e+15     | 1690             | 1                | \\N              | \\N              | ⋯                |  4               | -7.604961e+18    | -5.835932e+18    | CE               | CameraAccessory  | CameraAccessory  | CameraTripod     | 2099             | 3                | 41               | \n",
       "| ACCCX3S5AHMF55FV | 2015-10-17       | 2015             | 10               | 4.419525e+15     | 4.419525e+15     | 1618             | 1                | \\N              | \\N              | ⋯                |  6               |  2.894557e+18    |  5.347354e+17    | CE               | CameraAccessory  | CameraAccessory  | CameraTripod     | 2099             | 3                | 42               | \n",
       "| ACCCX3S5JGAJETYR | 2015-10-17       | 2015             | 10               | 3.419189e+15     | 3.419189e+15     | 3324             | 1                | \\N              | \\N              | ⋯                |  5               | -7.641546e+18    | -1.919053e+18    | CE               | CameraAccessory  | CameraAccessory  | CameraTripod     | 4044             | 5                | 42               | \n",
       "\n",
       "\n"
      ],
      "text/plain": [
       "  fsn_id           order_date Year Month order_id     order_item_id gmv  units\n",
       "1 ACCCX3S58G7B5F6P 2015-10-17 2015 10    3.419301e+15 3.419301e+15  6400 1    \n",
       "2 ACCCX3S58G7B5F6P 2015-10-19 2015 10    1.420831e+15 1.420831e+15  6900 1    \n",
       "3 ACCCX3S5AHMF55FV 2015-10-20 2015 10    2.421913e+15 2.421913e+15  1990 1    \n",
       "4 ACCCX3S5AHMF55FV 2015-10-14 2015 10    4.416592e+15 4.416592e+15  1690 1    \n",
       "5 ACCCX3S5AHMF55FV 2015-10-17 2015 10    4.419525e+15 4.419525e+15  1618 1    \n",
       "6 ACCCX3S5JGAJETYR 2015-10-17 2015 10    3.419189e+15 3.419189e+15  3324 1    \n",
       "  deliverybdays deliverycdays ⋯ sla cust_id       pincode      \n",
       "1 \\\\N           \\\\N           ⋯  5  -1.012991e+18 -7.791756e+18\n",
       "2 \\\\N           \\\\N           ⋯  7  -8.990325e+18  7.335411e+18\n",
       "3 \\\\N           \\\\N           ⋯ 10  -1.040443e+18 -7.477688e+18\n",
       "4 \\\\N           \\\\N           ⋯  4  -7.604961e+18 -5.835932e+18\n",
       "5 \\\\N           \\\\N           ⋯  6   2.894557e+18  5.347354e+17\n",
       "6 \\\\N           \\\\N           ⋯  5  -7.641546e+18 -1.919053e+18\n",
       "  product_analytic_super_category product_analytic_category\n",
       "1 CE                              CameraAccessory          \n",
       "2 CE                              CameraAccessory          \n",
       "3 CE                              CameraAccessory          \n",
       "4 CE                              CameraAccessory          \n",
       "5 CE                              CameraAccessory          \n",
       "6 CE                              CameraAccessory          \n",
       "  product_analytic_sub_category product_analytic_vertical product_mrp\n",
       "1 CameraAccessory               CameraTripod              7190       \n",
       "2 CameraAccessory               CameraTripod              7190       \n",
       "3 CameraAccessory               CameraTripod              2099       \n",
       "4 CameraAccessory               CameraTripod              2099       \n",
       "5 CameraAccessory               CameraTripod              2099       \n",
       "6 CameraAccessory               CameraTripod              4044       \n",
       "  product_procurement_sla week_year\n",
       "1 0                       42       \n",
       "2 0                       42       \n",
       "3 3                       42       \n",
       "4 3                       41       \n",
       "5 3                       42       \n",
       "6 5                       42       "
      ]
     },
     "metadata": {},
     "output_type": "display_data"
    }
   ],
   "source": [
    "head(data)"
   ]
  },
  {
   "cell_type": "code",
   "execution_count": 8,
   "metadata": {},
   "outputs": [],
   "source": [
    "data$week_month <- (ceiling(as.numeric(format(data$order_date,\"%d\"))/7))"
   ]
  },
  {
   "cell_type": "code",
   "execution_count": 9,
   "metadata": {},
   "outputs": [],
   "source": [
    "data$date <- as.Date(data$order_date)"
   ]
  },
  {
   "cell_type": "code",
   "execution_count": 10,
   "metadata": {},
   "outputs": [
    {
     "data": {
      "text/html": [
       "<table>\n",
       "<thead><tr><th scope=col>fsn_id</th><th scope=col>order_date</th><th scope=col>Year</th><th scope=col>Month</th><th scope=col>order_id</th><th scope=col>order_item_id</th><th scope=col>gmv</th><th scope=col>units</th><th scope=col>deliverybdays</th><th scope=col>deliverycdays</th><th scope=col>⋯</th><th scope=col>pincode</th><th scope=col>product_analytic_super_category</th><th scope=col>product_analytic_category</th><th scope=col>product_analytic_sub_category</th><th scope=col>product_analytic_vertical</th><th scope=col>product_mrp</th><th scope=col>product_procurement_sla</th><th scope=col>week_year</th><th scope=col>week_month</th><th scope=col>date</th></tr></thead>\n",
       "<tbody>\n",
       "\t<tr><td>ACCCX3S58G7B5F6P</td><td>2015-10-17      </td><td>2015            </td><td>10              </td><td>3.419301e+15    </td><td>3.419301e+15    </td><td>6400            </td><td>1               </td><td>\\N             </td><td>\\N             </td><td>⋯               </td><td>-7.791756e+18   </td><td>CE              </td><td>CameraAccessory </td><td>CameraAccessory </td><td>CameraTripod    </td><td>7190            </td><td>0               </td><td>42              </td><td>3               </td><td>2015-10-17      </td></tr>\n",
       "\t<tr><td>ACCCX3S58G7B5F6P</td><td>2015-10-19      </td><td>2015            </td><td>10              </td><td>1.420831e+15    </td><td>1.420831e+15    </td><td>6900            </td><td>1               </td><td>\\N             </td><td>\\N             </td><td>⋯               </td><td> 7.335411e+18   </td><td>CE              </td><td>CameraAccessory </td><td>CameraAccessory </td><td>CameraTripod    </td><td>7190            </td><td>0               </td><td>42              </td><td>3               </td><td>2015-10-19      </td></tr>\n",
       "\t<tr><td>ACCCX3S5AHMF55FV</td><td>2015-10-20      </td><td>2015            </td><td>10              </td><td>2.421913e+15    </td><td>2.421913e+15    </td><td>1990            </td><td>1               </td><td>\\N             </td><td>\\N             </td><td>⋯               </td><td>-7.477688e+18   </td><td>CE              </td><td>CameraAccessory </td><td>CameraAccessory </td><td>CameraTripod    </td><td>2099            </td><td>3               </td><td>42              </td><td>3               </td><td>2015-10-20      </td></tr>\n",
       "\t<tr><td>ACCCX3S5AHMF55FV</td><td>2015-10-14      </td><td>2015            </td><td>10              </td><td>4.416592e+15    </td><td>4.416592e+15    </td><td>1690            </td><td>1               </td><td>\\N             </td><td>\\N             </td><td>⋯               </td><td>-5.835932e+18   </td><td>CE              </td><td>CameraAccessory </td><td>CameraAccessory </td><td>CameraTripod    </td><td>2099            </td><td>3               </td><td>41              </td><td>2               </td><td>2015-10-14      </td></tr>\n",
       "\t<tr><td>ACCCX3S5AHMF55FV</td><td>2015-10-17      </td><td>2015            </td><td>10              </td><td>4.419525e+15    </td><td>4.419525e+15    </td><td>1618            </td><td>1               </td><td>\\N             </td><td>\\N             </td><td>⋯               </td><td> 5.347354e+17   </td><td>CE              </td><td>CameraAccessory </td><td>CameraAccessory </td><td>CameraTripod    </td><td>2099            </td><td>3               </td><td>42              </td><td>3               </td><td>2015-10-17      </td></tr>\n",
       "\t<tr><td>ACCCX3S5JGAJETYR</td><td>2015-10-17      </td><td>2015            </td><td>10              </td><td>3.419189e+15    </td><td>3.419189e+15    </td><td>3324            </td><td>1               </td><td>\\N             </td><td>\\N             </td><td>⋯               </td><td>-1.919053e+18   </td><td>CE              </td><td>CameraAccessory </td><td>CameraAccessory </td><td>CameraTripod    </td><td>4044            </td><td>5               </td><td>42              </td><td>3               </td><td>2015-10-17      </td></tr>\n",
       "</tbody>\n",
       "</table>\n"
      ],
      "text/latex": [
       "\\begin{tabular}{r|lllllllllllllllllllllll}\n",
       " fsn\\_id & order\\_date & Year & Month & order\\_id & order\\_item\\_id & gmv & units & deliverybdays & deliverycdays & ⋯ & pincode & product\\_analytic\\_super\\_category & product\\_analytic\\_category & product\\_analytic\\_sub\\_category & product\\_analytic\\_vertical & product\\_mrp & product\\_procurement\\_sla & week\\_year & week\\_month & date\\\\\n",
       "\\hline\n",
       "\t ACCCX3S58G7B5F6P   & 2015-10-17         & 2015               & 10                 & 3.419301e+15       & 3.419301e+15       & 6400               & 1                  & \\textbackslash{}N & \\textbackslash{}N & ⋯                  & -7.791756e+18      & CE                 & CameraAccessory    & CameraAccessory    & CameraTripod       & 7190               & 0                  & 42                 & 3                  & 2015-10-17        \\\\\n",
       "\t ACCCX3S58G7B5F6P   & 2015-10-19         & 2015               & 10                 & 1.420831e+15       & 1.420831e+15       & 6900               & 1                  & \\textbackslash{}N & \\textbackslash{}N & ⋯                  &  7.335411e+18      & CE                 & CameraAccessory    & CameraAccessory    & CameraTripod       & 7190               & 0                  & 42                 & 3                  & 2015-10-19        \\\\\n",
       "\t ACCCX3S5AHMF55FV   & 2015-10-20         & 2015               & 10                 & 2.421913e+15       & 2.421913e+15       & 1990               & 1                  & \\textbackslash{}N & \\textbackslash{}N & ⋯                  & -7.477688e+18      & CE                 & CameraAccessory    & CameraAccessory    & CameraTripod       & 2099               & 3                  & 42                 & 3                  & 2015-10-20        \\\\\n",
       "\t ACCCX3S5AHMF55FV   & 2015-10-14         & 2015               & 10                 & 4.416592e+15       & 4.416592e+15       & 1690               & 1                  & \\textbackslash{}N & \\textbackslash{}N & ⋯                  & -5.835932e+18      & CE                 & CameraAccessory    & CameraAccessory    & CameraTripod       & 2099               & 3                  & 41                 & 2                  & 2015-10-14        \\\\\n",
       "\t ACCCX3S5AHMF55FV   & 2015-10-17         & 2015               & 10                 & 4.419525e+15       & 4.419525e+15       & 1618               & 1                  & \\textbackslash{}N & \\textbackslash{}N & ⋯                  &  5.347354e+17      & CE                 & CameraAccessory    & CameraAccessory    & CameraTripod       & 2099               & 3                  & 42                 & 3                  & 2015-10-17        \\\\\n",
       "\t ACCCX3S5JGAJETYR   & 2015-10-17         & 2015               & 10                 & 3.419189e+15       & 3.419189e+15       & 3324               & 1                  & \\textbackslash{}N & \\textbackslash{}N & ⋯                  & -1.919053e+18      & CE                 & CameraAccessory    & CameraAccessory    & CameraTripod       & 4044               & 5                  & 42                 & 3                  & 2015-10-17        \\\\\n",
       "\\end{tabular}\n"
      ],
      "text/markdown": [
       "\n",
       "fsn_id | order_date | Year | Month | order_id | order_item_id | gmv | units | deliverybdays | deliverycdays | ⋯ | pincode | product_analytic_super_category | product_analytic_category | product_analytic_sub_category | product_analytic_vertical | product_mrp | product_procurement_sla | week_year | week_month | date | \n",
       "|---|---|---|---|---|---|\n",
       "| ACCCX3S58G7B5F6P | 2015-10-17       | 2015             | 10               | 3.419301e+15     | 3.419301e+15     | 6400             | 1                | \\N              | \\N              | ⋯                | -7.791756e+18    | CE               | CameraAccessory  | CameraAccessory  | CameraTripod     | 7190             | 0                | 42               | 3                | 2015-10-17       | \n",
       "| ACCCX3S58G7B5F6P | 2015-10-19       | 2015             | 10               | 1.420831e+15     | 1.420831e+15     | 6900             | 1                | \\N              | \\N              | ⋯                |  7.335411e+18    | CE               | CameraAccessory  | CameraAccessory  | CameraTripod     | 7190             | 0                | 42               | 3                | 2015-10-19       | \n",
       "| ACCCX3S5AHMF55FV | 2015-10-20       | 2015             | 10               | 2.421913e+15     | 2.421913e+15     | 1990             | 1                | \\N              | \\N              | ⋯                | -7.477688e+18    | CE               | CameraAccessory  | CameraAccessory  | CameraTripod     | 2099             | 3                | 42               | 3                | 2015-10-20       | \n",
       "| ACCCX3S5AHMF55FV | 2015-10-14       | 2015             | 10               | 4.416592e+15     | 4.416592e+15     | 1690             | 1                | \\N              | \\N              | ⋯                | -5.835932e+18    | CE               | CameraAccessory  | CameraAccessory  | CameraTripod     | 2099             | 3                | 41               | 2                | 2015-10-14       | \n",
       "| ACCCX3S5AHMF55FV | 2015-10-17       | 2015             | 10               | 4.419525e+15     | 4.419525e+15     | 1618             | 1                | \\N              | \\N              | ⋯                |  5.347354e+17    | CE               | CameraAccessory  | CameraAccessory  | CameraTripod     | 2099             | 3                | 42               | 3                | 2015-10-17       | \n",
       "| ACCCX3S5JGAJETYR | 2015-10-17       | 2015             | 10               | 3.419189e+15     | 3.419189e+15     | 3324             | 1                | \\N              | \\N              | ⋯                | -1.919053e+18    | CE               | CameraAccessory  | CameraAccessory  | CameraTripod     | 4044             | 5                | 42               | 3                | 2015-10-17       | \n",
       "\n",
       "\n"
      ],
      "text/plain": [
       "  fsn_id           order_date Year Month order_id     order_item_id gmv  units\n",
       "1 ACCCX3S58G7B5F6P 2015-10-17 2015 10    3.419301e+15 3.419301e+15  6400 1    \n",
       "2 ACCCX3S58G7B5F6P 2015-10-19 2015 10    1.420831e+15 1.420831e+15  6900 1    \n",
       "3 ACCCX3S5AHMF55FV 2015-10-20 2015 10    2.421913e+15 2.421913e+15  1990 1    \n",
       "4 ACCCX3S5AHMF55FV 2015-10-14 2015 10    4.416592e+15 4.416592e+15  1690 1    \n",
       "5 ACCCX3S5AHMF55FV 2015-10-17 2015 10    4.419525e+15 4.419525e+15  1618 1    \n",
       "6 ACCCX3S5JGAJETYR 2015-10-17 2015 10    3.419189e+15 3.419189e+15  3324 1    \n",
       "  deliverybdays deliverycdays ⋯ pincode       product_analytic_super_category\n",
       "1 \\\\N           \\\\N           ⋯ -7.791756e+18 CE                             \n",
       "2 \\\\N           \\\\N           ⋯  7.335411e+18 CE                             \n",
       "3 \\\\N           \\\\N           ⋯ -7.477688e+18 CE                             \n",
       "4 \\\\N           \\\\N           ⋯ -5.835932e+18 CE                             \n",
       "5 \\\\N           \\\\N           ⋯  5.347354e+17 CE                             \n",
       "6 \\\\N           \\\\N           ⋯ -1.919053e+18 CE                             \n",
       "  product_analytic_category product_analytic_sub_category\n",
       "1 CameraAccessory           CameraAccessory              \n",
       "2 CameraAccessory           CameraAccessory              \n",
       "3 CameraAccessory           CameraAccessory              \n",
       "4 CameraAccessory           CameraAccessory              \n",
       "5 CameraAccessory           CameraAccessory              \n",
       "6 CameraAccessory           CameraAccessory              \n",
       "  product_analytic_vertical product_mrp product_procurement_sla week_year\n",
       "1 CameraTripod              7190        0                       42       \n",
       "2 CameraTripod              7190        0                       42       \n",
       "3 CameraTripod              2099        3                       42       \n",
       "4 CameraTripod              2099        3                       41       \n",
       "5 CameraTripod              2099        3                       42       \n",
       "6 CameraTripod              4044        5                       42       \n",
       "  week_month date      \n",
       "1 3          2015-10-17\n",
       "2 3          2015-10-19\n",
       "3 3          2015-10-20\n",
       "4 2          2015-10-14\n",
       "5 3          2015-10-17\n",
       "6 3          2015-10-17"
      ]
     },
     "metadata": {},
     "output_type": "display_data"
    }
   ],
   "source": [
    "head(data)"
   ]
  },
  {
   "cell_type": "markdown",
   "metadata": {},
   "source": [
    "#### Missing Value Imputation for GMV "
   ]
  },
  {
   "cell_type": "code",
   "execution_count": 11,
   "metadata": {},
   "outputs": [
    {
     "data": {
      "text/plain": [
       "              fsn_id          order_date              Year     \n",
       " ACCE6VGHYKYFX4WB:  37622   Min.   :2015-05-19   Min.   :2015  \n",
       " SELDXMC3JNMTQMGV:  17859   1st Qu.:2015-10-16   1st Qu.:2015  \n",
       " CAMDA6RJERF8HS4G:  16741   Median :2016-01-07   Median :2016  \n",
       " ACCDXEGXG8HJUCSK:  14281   Mean   :2016-01-09   Mean   :2016  \n",
       " ACCECYHH4QDNZXEX:  13640   3rd Qu.:2016-04-01   3rd Qu.:2016  \n",
       " ACCE9C3WYBMPJ98R:  13281   Max.   :2016-07-25   Max.   :2016  \n",
       " (Other)         :1535400                                      \n",
       "     Month           order_id         order_item_id            gmv        \n",
       " Min.   : 1.000   Min.   :7.633e+07   Min.   :1.080e+08   Min.   :     0  \n",
       " 1st Qu.: 3.000   1st Qu.:1.603e+15   1st Qu.:1.607e+15   1st Qu.:   340  \n",
       " Median : 6.000   Median :2.612e+15   Median :2.619e+15   Median :   750  \n",
       " Mean   : 6.586   Mean   :2.842e+15   Mean   :1.376e+16   Mean   :  2461  \n",
       " 3rd Qu.:10.000   3rd Qu.:3.611e+15   3rd Qu.:4.398e+15   3rd Qu.:  1999  \n",
       " Max.   :12.000   Max.   :5.395e+15   Max.   :3.000e+17   Max.   :226947  \n",
       "                                                          NA's   :4904    \n",
       "     units        deliverybdays     deliverycdays    \n",
       " Min.   : 1.000   \\\\N    :1312972   \\\\N    :1312971  \n",
       " 1st Qu.: 1.000   4      :  62062   5      :  56417  \n",
       " Median : 1.000   5      :  60594   6      :  51930  \n",
       " Mean   : 1.022   3      :  53701   4      :  50627  \n",
       " 3rd Qu.: 1.000   6      :  48655   3      :  40504  \n",
       " Max.   :50.000   2      :  37513   7      :  38456  \n",
       "                  (Other):  73327   (Other):  97919  \n",
       " s1_fact.order_payment_type      sla              cust_id          \n",
       " COD    :1191443            Min.   :   0.000   Min.   :-9.223e+18  \n",
       " Prepaid: 457381            1st Qu.:   4.000   1st Qu.:-4.617e+18  \n",
       "                            Median :   6.000   Median :-1.738e+16  \n",
       "                            Mean   :   5.688   Mean   :-7.058e+15  \n",
       "                            3rd Qu.:   7.000   3rd Qu.: 4.604e+18  \n",
       "                            Max.   :1006.000   Max.   : 9.223e+18  \n",
       "                                               NA's   :4904        \n",
       "    pincode           product_analytic_super_category\n",
       " Min.   :-9.222e+18   CE:1648824                     \n",
       " 1st Qu.:-4.415e+18                                  \n",
       " Median : 1.241e+17                                  \n",
       " Mean   : 1.002e+17                                  \n",
       " 3rd Qu.: 4.787e+18                                  \n",
       " Max.   : 9.223e+18                                  \n",
       " NA's   :4904                                        \n",
       "      product_analytic_category product_analytic_sub_category\n",
       " Camera            :101172      Speaker        :543928       \n",
       " CameraAccessory   :257493      CameraAccessory:239508       \n",
       " EntertainmentSmall:944698      GamingAccessory:201899       \n",
       " GameCDDVD         :114503      TVVideoSmall   :142995       \n",
       " GamingHardware    :230958      HomeAudio      :124860       \n",
       "                                Game           :114406       \n",
       "                                (Other)        :281228       \n",
       "    product_analytic_vertical  product_mrp     product_procurement_sla\n",
       " LaptopSpeaker   :287850      Min.   :     0   Min.   :  -1.000       \n",
       " MobileSpeaker   :250250      1st Qu.:   799   1st Qu.:   1.000       \n",
       " AudioMP3Player  :112892      Median :  1599   Median :   2.000       \n",
       " PhysicalGame    :105061      Mean   :  4108   Mean   :   5.404       \n",
       " HomeAudioSpeaker: 85607      3rd Qu.:  3499   3rd Qu.:   3.000       \n",
       " GamingHeadset   : 62311      Max.   :299999   Max.   :1000.000       \n",
       " (Other)         :744853                                              \n",
       "   week_year      week_month         date           \n",
       " Min.   : 1.0   Min.   :1.000   Min.   :2015-05-19  \n",
       " 1st Qu.:13.0   1st Qu.:2.000   1st Qu.:2015-10-16  \n",
       " Median :25.0   Median :3.000   Median :2016-01-07  \n",
       " Mean   :26.9   Mean   :2.719   Mean   :2016-01-09  \n",
       " 3rd Qu.:42.0   3rd Qu.:4.000   3rd Qu.:2016-04-01  \n",
       " Max.   :53.0   Max.   :5.000   Max.   :2016-07-25  \n",
       "                                                    "
      ]
     },
     "metadata": {},
     "output_type": "display_data"
    }
   ],
   "source": [
    "summary(data)"
   ]
  },
  {
   "cell_type": "code",
   "execution_count": 12,
   "metadata": {},
   "outputs": [],
   "source": [
    "data <- na.omit(data)"
   ]
  },
  {
   "cell_type": "code",
   "execution_count": 13,
   "metadata": {},
   "outputs": [],
   "source": [
    "data <- subset(data, product_mrp!=0)"
   ]
  },
  {
   "cell_type": "code",
   "execution_count": 14,
   "metadata": {},
   "outputs": [],
   "source": [
    "data$deliverybdays[data$deliverybdays == \"\\\\N\"] <- 0\n",
    "data$deliverycdays[data$deliverycdays == \"\\\\N\"] <- 0"
   ]
  },
  {
   "cell_type": "markdown",
   "metadata": {},
   "source": [
    "#### Outliers"
   ]
  },
  {
   "cell_type": "markdown",
   "metadata": {},
   "source": [
    "We remove the rows with SLA > 17"
   ]
  },
  {
   "cell_type": "code",
   "execution_count": 15,
   "metadata": {},
   "outputs": [],
   "source": [
    "data <- data[data$sla < 17,]"
   ]
  },
  {
   "cell_type": "code",
   "execution_count": 16,
   "metadata": {},
   "outputs": [],
   "source": [
    "data <- data[data$product_procurement_sla < 15,]"
   ]
  },
  {
   "cell_type": "code",
   "execution_count": 17,
   "metadata": {},
   "outputs": [],
   "source": [
    "data <- data[data$units < 4, ]"
   ]
  },
  {
   "cell_type": "markdown",
   "metadata": {},
   "source": [
    "#### Dividing the Data into Sub Categories "
   ]
  },
  {
   "cell_type": "code",
   "execution_count": 18,
   "metadata": {},
   "outputs": [
    {
     "data": {
      "text/plain": [
       "\n",
       "  AmplifierReceiver      AudioAccessory      AudioMP3Player              Camera \n",
       "               4035               11589              112230               98908 \n",
       "    CameraAccessory       CameraStorage                Game GameMembershipCards \n",
       "             234420               17782              108530                  97 \n",
       "    GamingAccessory       GamingConsole           HomeAudio         HomeTheatre \n",
       "             200441               28714              124120                4245 \n",
       "            Speaker        TVVideoSmall \n",
       "             535778              141944 "
      ]
     },
     "metadata": {},
     "output_type": "display_data"
    }
   ],
   "source": [
    "table(data$product_analytic_sub_category) "
   ]
  },
  {
   "cell_type": "code",
   "execution_count": 19,
   "metadata": {},
   "outputs": [],
   "source": [
    "gaming_accessory <- data[data$product_analytic_sub_category == \"GamingAccessory\",]\n",
    "write.csv(gaming_accessory, \"gaming_accesory\", row.names=F)"
   ]
  },
  {
   "cell_type": "code",
   "execution_count": 20,
   "metadata": {},
   "outputs": [],
   "source": [
    "camera_accessory <- data[data$product_analytic_sub_category == \"CameraAccessory\",]\n",
    "write.csv(camera_accessory, \"CameraAccessory\", row.names=F)"
   ]
  },
  {
   "cell_type": "code",
   "execution_count": 21,
   "metadata": {},
   "outputs": [],
   "source": [
    "home_audio <- data[data$product_analytic_sub_category == \"HomeAudio\",]\n",
    "write.csv(home_audio, \"home_audio\", row.names=F)"
   ]
  },
  {
   "cell_type": "code",
   "execution_count": null,
   "metadata": {},
   "outputs": [],
   "source": []
  }
 ],
 "metadata": {
  "kernelspec": {
   "display_name": "R",
   "language": "R",
   "name": "ir"
  },
  "language_info": {
   "codemirror_mode": "r",
   "file_extension": ".r",
   "mimetype": "text/x-r-source",
   "name": "R",
   "pygments_lexer": "r",
   "version": "3.4.3"
  }
 },
 "nbformat": 4,
 "nbformat_minor": 2
}
