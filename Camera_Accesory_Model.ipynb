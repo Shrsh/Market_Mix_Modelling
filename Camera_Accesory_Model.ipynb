{
 "cells": [
  {
   "cell_type": "code",
   "execution_count": 1,
   "metadata": {},
   "outputs": [
    {
     "data": {
      "text/plain": [
       "   week_year       list_price    product_mrp          gmv           units      \n",
       " Min.   : 4.00   Min.   : 299   Min.   : 829.6   Min.   : 299   Min.   :1.000  \n",
       " 1st Qu.:16.00   1st Qu.:1062   1st Qu.:1990.0   1st Qu.:1073   1st Qu.:1.016  \n",
       " Median :28.00   Median :1217   Median :2259.6   Median :1225   Median :1.020  \n",
       " Mean   :28.39   Mean   :1200   Mean   :2211.4   Mean   :1210   Mean   :1.020  \n",
       " 3rd Qu.:41.00   3rd Qu.:1350   3rd Qu.:2462.7   3rd Qu.:1369   3rd Qu.:1.024  \n",
       " Max.   :53.00   Max.   :1652   Max.   :2780.2   Max.   :1660   Max.   :1.034  \n",
       "      sla        promotional_offer     number       Total.Investment\n",
       " Min.   :5.393   Min.   :0.03354   Min.   :0.0000   Min.   :  5.10  \n",
       " 1st Qu.:5.834   1st Qu.:0.43886   1st Qu.:0.0000   1st Qu.: 48.10  \n",
       " Median :6.130   Median :0.47063   Median :0.0000   Median : 70.02  \n",
       " Mean   :6.187   Mean   :0.47757   Mean   :0.7755   Mean   : 74.20  \n",
       " 3rd Qu.:6.373   3rd Qu.:0.52292   3rd Qu.:2.0000   3rd Qu.:100.00  \n",
       " Max.   :8.400   Max.   :0.84975   Max.   :6.0000   Max.   :170.20  \n",
       "       TV           Digital        Sponsorship    Content.Marketing\n",
       " Min.   :0.000   Min.   : 0.500   Min.   : 1.10   Min.   :0.0000   \n",
       " 1st Qu.:1.700   1st Qu.: 1.300   1st Qu.:14.20   1st Qu.:0.0000   \n",
       " Median :3.900   Median : 1.439   Median :27.64   Median :0.5897   \n",
       " Mean   :3.831   Mean   : 2.683   Mean   :34.32   Mean   :0.6917   \n",
       " 3rd Qu.:5.400   3rd Qu.: 2.500   3rd Qu.:56.70   3rd Qu.:0.8000   \n",
       " Max.   :9.300   Max.   :12.600   Max.   :84.70   Max.   :3.4000   \n",
       " Online.marketing   Affiliates         SEM         product_procurement_sla\n",
       " Min.   : 0.10    Min.   :0.100   Min.   : 2.500   Min.   :1.000          \n",
       " 1st Qu.:16.40    1st Qu.:5.000   1st Qu.: 4.900   1st Qu.:2.452          \n",
       " Median :19.27    Median :6.200   Median : 5.200   Median :2.656          \n",
       " Mean   :16.46    Mean   :5.192   Mean   : 8.126   Mean   :2.617          \n",
       " 3rd Qu.:22.50    3rd Qu.:6.800   3rd Qu.: 6.900   3rd Qu.:2.764          \n",
       " Max.   :24.40    Max.   :7.400   Max.   :31.900   Max.   :4.000          \n",
       "   per_order           NPS           Middle_p           Mass_p     \n",
       " Min.   :0.0000   Min.   :44.40   Min.   :0.00000   Min.   :    2  \n",
       " 1st Qu.:0.2205   1st Qu.:46.90   1st Qu.:0.00000   1st Qu.: 3524  \n",
       " Median :0.2395   Median :48.43   Median :0.00000   Median : 4706  \n",
       " Mean   :0.3050   Mean   :49.15   Mean   :0.06122   Mean   : 4486  \n",
       " 3rd Qu.:0.3039   3rd Qu.:50.50   3rd Qu.:0.00000   3rd Qu.: 5555  \n",
       " Max.   :0.9687   Max.   :60.00   Max.   :2.00000   Max.   :10229  \n",
       "   Premium_p         inc_LP_MA1          inc_LP_MA2          inc_LP_MA3      \n",
       " Min.   :0.00000   Min.   :-0.399491   Min.   :-0.597522   Min.   :-0.67376  \n",
       " 1st Qu.:0.00000   1st Qu.:-0.035890   1st Qu.:-0.069809   1st Qu.:-0.08309  \n",
       " Median :0.00000   Median : 0.005111   Median : 0.013843   Median : 0.01655  \n",
       " Mean   :0.02041   Mean   : 0.001638   Mean   : 0.007514   Mean   : 0.01136  \n",
       " 3rd Qu.:0.00000   3rd Qu.: 0.041485   3rd Qu.: 0.069085   3rd Qu.: 0.07033  \n",
       " Max.   :1.00000   Max.   : 0.624365   Max.   : 0.786389   Max.   : 0.52884  \n",
       "   inc_PO_MA1          inc_PO_MA2          inc_PO_MA3         list_price.1 \n",
       " Min.   :-0.853774   Min.   :-0.885862   Min.   :-0.897546   Min.   : 299  \n",
       " 1st Qu.:-0.025323   1st Qu.:-0.034833   1st Qu.:-0.039608   1st Qu.:1062  \n",
       " Median :-0.003833   Median :-0.001454   Median :-0.007017   Median :1200  \n",
       " Mean   :-0.006744   Mean   :-0.006466   Mean   :-0.006144   Mean   :1191  \n",
       " 3rd Qu.: 0.015579   3rd Qu.: 0.028319   3rd Qu.: 0.021949   3rd Qu.:1343  \n",
       " Max.   : 0.924065   Max.   : 0.948313   Max.   : 0.963366   Max.   :1652  \n",
       "  list_price.2   list_price.3  promotional_offer.1 promotional_offer.2\n",
       " Min.   : 299   Min.   : 299   Min.   :0.03354     Min.   :0.03354    \n",
       " 1st Qu.:1062   1st Qu.:1037   1st Qu.:0.43937     1st Qu.:0.43959    \n",
       " Median :1187   Median :1185   Median :0.47600     Median :0.47600    \n",
       " Mean   :1189   Mean   :1177   Mean   :0.47883     Mean   :0.47924    \n",
       " 3rd Qu.:1343   3rd Qu.:1334   3rd Qu.:0.52292     3rd Qu.:0.52292    \n",
       " Max.   :1652   Max.   :1652   Max.   :0.84975     Max.   :0.84975    \n",
       " promotional_offer.3     NPS.1           NPS.2           NPS.3      \n",
       " Min.   :0.03354     Min.   :44.40   Min.   :44.40   Min.   :44.40  \n",
       " 1st Qu.:0.43959     1st Qu.:46.90   1st Qu.:46.90   1st Qu.:47.00  \n",
       " Median :0.48042     Median :48.43   Median :48.43   Median :48.43  \n",
       " Mean   :0.47949     Mean   :49.18   Mean   :49.20   Mean   :49.23  \n",
       " 3rd Qu.:0.52292     3rd Qu.:50.50   3rd Qu.:50.50   3rd Qu.:50.50  \n",
       " Max.   :0.84975     Max.   :60.00   Max.   :60.00   Max.   :60.00  "
      ]
     },
     "metadata": {},
     "output_type": "display_data"
    }
   ],
   "source": [
    "data<-read.csv(\"camera_accesory_final\")\n",
    "summary(data)"
   ]
  },
  {
   "cell_type": "markdown",
   "metadata": {},
   "source": [
    "### Basic Linear Model"
   ]
  },
  {
   "cell_type": "code",
   "execution_count": 2,
   "metadata": {},
   "outputs": [
    {
     "name": "stdout",
     "output_type": "stream",
     "text": [
      "\n",
      "Call:\n",
      "lm(formula = gmv ~ ., data = Linear_model)\n",
      "\n",
      "Residuals:\n",
      "      Min        1Q    Median        3Q       Max \n",
      "-0.008114 -0.003469  0.000000  0.001794  0.011060 \n",
      "\n",
      "Coefficients:\n",
      "                          Estimate Std. Error t value Pr(>|t|)    \n",
      "(Intercept)              2.009e-17  1.248e-03   0.000   1.0000    \n",
      "week_year                4.066e-03  2.404e-02   0.169   0.8685    \n",
      "list_price               1.011e+00  5.529e-02  18.289 3.95e-10 ***\n",
      "product_mrp              5.203e-03  1.178e-02   0.442   0.6665    \n",
      "units                    1.508e-02  6.203e-03   2.431   0.0317 *  \n",
      "sla                     -5.199e-03  5.575e-03  -0.933   0.3694    \n",
      "promotional_offer       -7.752e-02  6.766e-02  -1.146   0.2743    \n",
      "number                   7.539e-04  4.342e-03   0.174   0.8651    \n",
      "Total.Investment         1.073e-01  1.796e-01   0.597   0.5614    \n",
      "TV                      -4.232e-02  6.594e-02  -0.642   0.5330    \n",
      "Digital                  1.205e-02  9.894e-02   0.122   0.9051    \n",
      "Sponsorship             -3.580e-02  5.209e-02  -0.687   0.5049    \n",
      "Content.Marketing       -5.613e-02  8.415e-02  -0.667   0.5174    \n",
      "Online.marketing        -1.309e-01  1.308e-01  -1.001   0.3368    \n",
      "Affiliates               1.353e-01  1.495e-01   0.905   0.3832    \n",
      "SEM                      1.395e-02  1.085e-01   0.129   0.8998    \n",
      "product_procurement_sla -4.051e-03  1.297e-02  -0.312   0.7602    \n",
      "per_order               -1.290e-04  6.391e-03  -0.020   0.9842    \n",
      "NPS                      4.867e-03  5.164e-02   0.094   0.9265    \n",
      "Middle_p                 1.266e-03  3.220e-03   0.393   0.7011    \n",
      "Mass_p                   1.946e-03  6.441e-03   0.302   0.7677    \n",
      "Premium_p                1.903e-04  3.651e-03   0.052   0.9593    \n",
      "inc_LP_MA1              -2.281e-02  3.966e-02  -0.575   0.5758    \n",
      "inc_LP_MA2               5.230e-02  6.832e-02   0.766   0.4587    \n",
      "inc_LP_MA3              -6.027e-02  8.786e-02  -0.686   0.5058    \n",
      "inc_PO_MA1              -5.116e-02  1.091e-01  -0.469   0.6475    \n",
      "inc_PO_MA2              -5.755e-02  2.318e-01  -0.248   0.8081    \n",
      "inc_PO_MA3               1.677e-01  2.430e-01   0.690   0.5030    \n",
      "list_price.1            -9.210e-03  2.567e-02  -0.359   0.7260    \n",
      "list_price.2             5.900e-03  1.861e-02   0.317   0.7566    \n",
      "list_price.3            -1.308e-02  2.481e-02  -0.527   0.6076    \n",
      "promotional_offer.1     -2.362e-03  2.738e-02  -0.086   0.9327    \n",
      "promotional_offer.2      2.524e-02  4.121e-02   0.612   0.5517    \n",
      "promotional_offer.3      3.906e-02  5.328e-02   0.733   0.4775    \n",
      "NPS.1                    8.952e-03  1.008e-02   0.888   0.3921    \n",
      "NPS.2                   -3.904e-03  1.234e-02  -0.316   0.7572    \n",
      "NPS.3                    1.110e-02  9.291e-03   1.194   0.2554    \n",
      "---\n",
      "Signif. codes:  0 ‘***’ 0.001 ‘**’ 0.01 ‘*’ 0.05 ‘.’ 0.1 ‘ ’ 1\n",
      "\n",
      "Residual standard error: 0.008734 on 12 degrees of freedom\n",
      "Multiple R-squared:      1,\tAdjusted R-squared:  0.9999 \n",
      "F-statistic: 1.748e+04 on 36 and 12 DF,  p-value: < 2.2e-16\n",
      "\n"
     ]
    }
   ],
   "source": [
    "# Building the Baisc Linear regression Model\n",
    "Linear_model <-data\n",
    "Linear_model <- scale(Linear_model)\n",
    "Linear_model <-data.frame(Linear_model)\n",
    "model_1 <- lm(gmv~.,Linear_model)\n",
    "print(summary(model_1))"
   ]
  },
  {
   "cell_type": "markdown",
   "metadata": {},
   "source": [
    "Model Selection"
   ]
  },
  {
   "cell_type": "code",
   "execution_count": 3,
   "metadata": {},
   "outputs": [
    {
     "name": "stdout",
     "output_type": "stream",
     "text": [
      "\n",
      "Call:\n",
      "lm(formula = myForm, data = Linear_model)\n",
      "\n",
      "Residuals:\n",
      "     Min       1Q   Median       3Q      Max \n",
      "-1.43777 -0.44631 -0.05914  0.37874  2.18697 \n",
      "\n",
      "Coefficients:\n",
      "                      Estimate Std. Error t value Pr(>|t|)    \n",
      "(Intercept)         -7.187e-15  1.090e-01   0.000 1.000000    \n",
      "week_year            3.393e-01  1.380e-01   2.458 0.018920 *  \n",
      "units                5.716e-01  1.312e-01   4.357 0.000105 ***\n",
      "sla                  1.883e-01  1.288e-01   1.462 0.152343    \n",
      "number              -5.584e-02  1.202e-01  -0.465 0.644923    \n",
      "Digital             -1.628e-01  1.280e-01  -1.272 0.211460    \n",
      "per_order            8.583e-03  1.216e-01   0.071 0.944135    \n",
      "Middle_p            -2.114e-02  1.157e-01  -0.183 0.856062    \n",
      "Mass_p               9.914e-02  1.242e-01   0.798 0.429940    \n",
      "Premium_p            2.472e-01  1.171e-01   2.111 0.041792 *  \n",
      "promotional_offer.1 -2.503e-03  1.314e-01  -0.019 0.984908    \n",
      "promotional_offer.3  9.297e-02  1.162e-01   0.800 0.428886    \n",
      "NPS.3               -2.409e-01  1.248e-01  -1.931 0.061402 .  \n",
      "---\n",
      "Signif. codes:  0 ‘***’ 0.001 ‘**’ 0.01 ‘*’ 0.05 ‘.’ 0.1 ‘ ’ 1\n",
      "\n",
      "Residual standard error: 0.7629 on 36 degrees of freedom\n",
      "Multiple R-squared:  0.5634,\tAdjusted R-squared:  0.4179 \n",
      "F-statistic: 3.872 on 12 and 36 DF,  p-value: 0.0007855\n",
      "\n"
     ]
    }
   ],
   "source": [
    "library(car)\n",
    "library(MASS)\n",
    "\n",
    "all_vifs <- vif(model_1)\n",
    "\n",
    " signif_all <- names(all_vifs)\n",
    "\n",
    " while(any(all_vifs > 2)){\n",
    "  var_with_max_vif <- names(which(all_vifs == max(all_vifs)))    # get the var with max vif\n",
    "  signif_all <- signif_all[!(signif_all) %in% var_with_max_vif]  # remove\n",
    "  myForm <- as.formula(paste(\"gmv ~ \", paste (signif_all, collapse=\" + \"), sep=\"\"))  # new formula\n",
    "  selectedMod <- lm(myForm, data=Linear_model)  # re-build model with new formula\n",
    "  all_vifs <- vif(selectedMod)\n",
    "}\n",
    "\n",
    "##Final Model \n",
    "Linear_Final_model <- selectedMod\n",
    "print(summary(Linear_Final_model))  \n",
    "\n"
   ]
  },
  {
   "cell_type": "markdown",
   "metadata": {},
   "source": [
    "k-fold Cross Validation"
   ]
  },
  {
   "cell_type": "code",
   "execution_count": 4,
   "metadata": {},
   "outputs": [
    {
     "name": "stderr",
     "output_type": "stream",
     "text": [
      "Loading required package: lattice\n",
      "Loading required package: ggplot2\n",
      "Warning message in predict.lm(modelFit, newdata):\n",
      "“prediction from a rank-deficient fit may be misleading”"
     ]
    },
    {
     "name": "stdout",
     "output_type": "stream",
     "text": [
      "Linear Regression \n",
      "\n",
      "49 samples\n",
      "12 predictors\n",
      "\n",
      "No pre-processing\n",
      "Resampling: Cross-Validated (10 fold) \n",
      "Summary of sample sizes: 43, 45, 46, 43, 43, 45, ... \n",
      "Resampling results:\n",
      "\n",
      "  RMSE       Rsquared   MAE      \n",
      "  0.9233115  0.4580761  0.7304581\n",
      "\n",
      "Tuning parameter 'intercept' was held constant at a value of TRUE\n"
     ]
    }
   ],
   "source": [
    "library(caret)\n",
    "# Define training control\n",
    "set.seed(123)\n",
    "train.control <- trainControl(method = \"cv\", number = 10)\n",
    "# Train the model\n",
    "cross_val <- train(myForm, data = Linear_model, method = \"lm\",\n",
    "               trControl = train.control)\n",
    "# Summarize the results\n",
    "print(cross_val)\n"
   ]
  },
  {
   "cell_type": "markdown",
   "metadata": {},
   "source": [
    "#### Elasticity Analysis"
   ]
  },
  {
   "cell_type": "code",
   "execution_count": 5,
   "metadata": {},
   "outputs": [
    {
     "name": "stdout",
     "output_type": "stream",
     "text": [
      "              Variable    Elasticity direction\n",
      "1            week_year -0.0495853269  Negative\n",
      "2                units 24.9064552952  Positive\n",
      "3                  sla -0.4304381214  Negative\n",
      "4               number -0.0093415869  Negative\n",
      "5              Digital -0.0011914448  Negative\n",
      "6            per_order  0.0012832305  Positive\n",
      "7             Middle_p -0.0005525464  Negative\n",
      "8               Mass_p  0.0338460754  Positive\n",
      "9            Premium_p  0.0146571285  Positive\n",
      "10 promotional_offer.1 -0.0013794161  Negative\n",
      "11 promotional_offer.3  0.0633376994  Positive\n",
      "12               NPS.3 -0.0319654647  Negative\n"
     ]
    },
    {
     "data": {
      "image/png": "[encoded data removed]",
      "text/plain": [
       "plot without title"
      ]
     },
     "metadata": {},
     "output_type": "display_data"
    }
   ],
   "source": [
    "# Elasticity Analysis\n",
    "train <- Linear_model\n",
    "hrlm<-Linear_Final_model\n",
    "# estimating the elasticity coefficients\n",
    "elasticity <- function(var){\n",
    "  \n",
    "  elax1 <-as.numeric(hrlm$coefficients[var]*mean(train[,var])/mean(train$gmv))\n",
    "  \n",
    "  return(elax1)\n",
    "} \n",
    "var_list <- list()\n",
    "\n",
    "for(i in 2:length(hrlm$coefficients)){\n",
    "  \n",
    "  var_list[i-1] <-elasticity(names(hrlm$coefficients)[i])\n",
    "  \n",
    "}\n",
    "\n",
    "elasticity.outputs <- data.frame(names(hrlm$coefficients[2:length(hrlm$coefficients)]))\n",
    "elasticity.outputs <- cbind(elasticity.outputs,do.call(rbind.data.frame, var_list))\n",
    "colnames(elasticity.outputs) <- c(\"Variable\",\"Elasticity\")\n",
    "\n",
    "elasticity.outputs$direction <- ifelse(elasticity.outputs$Elasticity > 0, \"Positive\", \"Negative\")\n",
    "print(elasticity.outputs)\n",
    "\n",
    "\n",
    "print(ggplot(data=elasticity.outputs, aes(x=reorder(Variable,Elasticity),y=Elasticity)) +\n",
    "  geom_bar(position=\"dodge\",stat=\"identity\") + \n",
    "  coord_flip() +\n",
    "  ggtitle(\"Camera Accesory - Linear Model\") +xlab(\"Variables\"))\n"
   ]
  },
  {
   "cell_type": "markdown",
   "metadata": {},
   "source": [
    "### Multiplicative Model"
   ]
  },
  {
   "cell_type": "code",
   "execution_count": 6,
   "metadata": {
    "scrolled": true
   },
   "outputs": [
    {
     "name": "stdout",
     "output_type": "stream",
     "text": [
      "\n",
      "Call:\n",
      "lm(formula = gmv ~ ., data = multi)\n",
      "\n",
      "Residuals:\n",
      "       Min         1Q     Median         3Q        Max \n",
      "-2.607e-03 -7.143e-04  4.245e-05  7.794e-04  2.493e-03 \n",
      "\n",
      "Coefficients:\n",
      "                          Estimate Std. Error t value Pr(>|t|)    \n",
      "(Intercept)             -3.962e-01  4.047e-01  -0.979  0.33871    \n",
      "week_year                4.279e-03  4.099e-03   1.044  0.30833    \n",
      "list_price               9.803e-01  1.084e-02  90.410  < 2e-16 ***\n",
      "product_mrp              1.372e-02  1.317e-02   1.042  0.30923    \n",
      "units                    5.014e-01  1.131e-01   4.435  0.00023 ***\n",
      "sla                     -1.058e-02  9.197e-03  -1.150  0.26311    \n",
      "promotional_offer       -1.286e-02  1.022e-02  -1.259  0.22196    \n",
      "number                  -7.779e-05  1.399e-04  -0.556  0.58395    \n",
      "Total.Investment         1.470e-02  1.500e-02   0.980  0.33817    \n",
      "TV                      -8.080e-04  3.446e-03  -0.234  0.81692    \n",
      "Digital                  4.425e-03  3.904e-03   1.134  0.26973    \n",
      "Sponsorship             -7.876e-03  5.511e-03  -1.429  0.16769    \n",
      "Content.Marketing       -1.203e-03  7.563e-04  -1.591  0.12663    \n",
      "Online.marketing         3.362e-02  2.632e-02   1.277  0.21543    \n",
      "Affiliates              -3.157e-02  2.688e-02  -1.174  0.25337    \n",
      "SEM                     -6.523e-03  7.036e-03  -0.927  0.36442    \n",
      "product_procurement_sla -2.533e-03  8.408e-03  -0.301  0.76620    \n",
      "per_order               -1.640e-03  2.655e-03  -0.618  0.54347    \n",
      "NPS                      5.203e-02  8.970e-02   0.580  0.56804    \n",
      "list_price.1             1.605e-03  2.692e-03   0.596  0.55744    \n",
      "list_price.2             4.582e-04  2.095e-03   0.219  0.82898    \n",
      "list_price.3             1.982e-03  1.983e-03   1.000  0.32876    \n",
      "promotional_offer.1     -1.221e-03  5.390e-03  -0.226  0.82302    \n",
      "promotional_offer.2      1.263e-03  1.712e-03   0.737  0.46898    \n",
      "promotional_offer.3      1.540e-03  1.719e-03   0.896  0.38034    \n",
      "NPS.1                    1.411e-02  1.986e-02   0.711  0.48507    \n",
      "NPS.2                   -9.097e-03  2.035e-02  -0.447  0.65946    \n",
      "NPS.3                    2.787e-02  1.318e-02   2.115  0.04658 *  \n",
      "---\n",
      "Signif. codes:  0 ‘***’ 0.001 ‘**’ 0.01 ‘*’ 0.05 ‘.’ 0.1 ‘ ’ 1\n",
      "\n",
      "Residual standard error: 0.001689 on 21 degrees of freedom\n",
      "Multiple R-squared:      1,\tAdjusted R-squared:      1 \n",
      "F-statistic: 5.068e+04 on 27 and 21 DF,  p-value: < 2.2e-16\n",
      "\n"
     ]
    }
   ],
   "source": [
    "multi <-data\n",
    "multi <- multi[,-c(20:28)]\n",
    "multi$number[which(multi$number==0)] <- 0.01\n",
    "multi$Content.Marketing[which(multi$Content.Marketing==0)] <- 0.01\n",
    "multi$per_order[which(multi$per_order==0)] <- 0.01\n",
    "multi$TV[which(multi$TV==0)] <- 0.01\n",
    "multi <- log(multi)\n",
    "## First model ##\n",
    "multi_model <- lm(gmv~.,multi)\n",
    "print(summary(multi_model))"
   ]
  },
  {
   "cell_type": "markdown",
   "metadata": {},
   "source": [
    "Model Selection"
   ]
  },
  {
   "cell_type": "code",
   "execution_count": 7,
   "metadata": {},
   "outputs": [
    {
     "name": "stdout",
     "output_type": "stream",
     "text": [
      "\n",
      "Call:\n",
      "lm(formula = myForm, data = multi)\n",
      "\n",
      "Residuals:\n",
      "     Min       1Q   Median       3Q      Max \n",
      "-1.01624 -0.10997  0.01767  0.14218  0.51446 \n",
      "\n",
      "Coefficients:\n",
      "                    Estimate Std. Error t value Pr(>|t|)    \n",
      "(Intercept)          5.54956    1.38307   4.013 0.000236 ***\n",
      "week_year            0.05783    0.05740   1.007 0.319339    \n",
      "Content.Marketing    0.03712    0.01827   2.032 0.048373 *  \n",
      "list_price.1         0.32905    0.13731   2.396 0.020977 *  \n",
      "list_price.3        -0.13019    0.13845  -0.940 0.352314    \n",
      "promotional_offer.3  0.01281    0.09582   0.134 0.894239    \n",
      "---\n",
      "Signif. codes:  0 ‘***’ 0.001 ‘**’ 0.01 ‘*’ 0.05 ‘.’ 0.1 ‘ ’ 1\n",
      "\n",
      "Residual standard error: 0.2613 on 43 degrees of freedom\n",
      "Multiple R-squared:  0.2475,\tAdjusted R-squared:   0.16 \n",
      "F-statistic: 2.828 on 5 and 43 DF,  p-value: 0.02704\n",
      "\n"
     ]
    }
   ],
   "source": [
    "library(car)\n",
    "library(MASS)\n",
    "\n",
    "all_vifs <- vif(multi_model)\n",
    "\n",
    " signif_all <- names(all_vifs)\n",
    "\n",
    " while(any(all_vifs > 1.1)){\n",
    "  var_with_max_vif <- names(which(all_vifs == max(all_vifs)))    # get the var with max vif\n",
    "  signif_all <- signif_all[!(signif_all) %in% var_with_max_vif]  # remove\n",
    "  myForm <- as.formula(paste(\"gmv ~ \", paste (signif_all, collapse=\" + \"), sep=\"\"))  # new formula\n",
    "  selectedMod <- lm(myForm, data=multi)  # re-build model with new formula\n",
    "  all_vifs <- vif(selectedMod)\n",
    "}\n",
    "\n",
    "Multi_Final_model <- selectedMod\n",
    "print(summary(Multi_Final_model))\n"
   ]
  },
  {
   "cell_type": "markdown",
   "metadata": {},
   "source": [
    "k-fold Cross Validation"
   ]
  },
  {
   "cell_type": "code",
   "execution_count": 8,
   "metadata": {
    "scrolled": true
   },
   "outputs": [
    {
     "name": "stdout",
     "output_type": "stream",
     "text": [
      "Linear Regression \n",
      "\n",
      "49 samples\n",
      " 5 predictor\n",
      "\n",
      "No pre-processing\n",
      "Resampling: Cross-Validated (10 fold) \n",
      "Summary of sample sizes: 43, 45, 46, 43, 43, 45, ... \n",
      "Resampling results:\n",
      "\n",
      "  RMSE       Rsquared   MAE      \n",
      "  0.2924558  0.2562356  0.2160782\n",
      "\n",
      "Tuning parameter 'intercept' was held constant at a value of TRUE\n"
     ]
    }
   ],
   "source": [
    "library(caret)\n",
    "# Define training control\n",
    "set.seed(123)\n",
    "train.control <- trainControl(method = \"cv\", number = 10)\n",
    "# Train the model\n",
    "cross_val1 <- train(myForm, data = multi, method = \"lm\",\n",
    "               trControl = train.control)\n",
    "# Summarize t1he results\n",
    "print(cross_val1)"
   ]
  },
  {
   "cell_type": "markdown",
   "metadata": {},
   "source": [
    "#### Elasticity Analysis"
   ]
  },
  {
   "cell_type": "code",
   "execution_count": 9,
   "metadata": {
    "scrolled": true
   },
   "outputs": [
    {
     "name": "stdout",
     "output_type": "stream",
     "text": [
      "             Variable   Elasticity direction\n",
      "1           week_year  0.025891341  Positive\n",
      "2   Content.Marketing -0.008510921  Negative\n",
      "3        list_price.1  0.328351261  Positive\n",
      "4        list_price.3 -0.129706844  Negative\n",
      "5 promotional_offer.3 -0.001411497  Negative\n"
     ]
    },
    {
     "data": {},
     "metadata": {},
     "output_type": "display_data"
    },
    {
     "data": {
      "image/png": "[encoded data removed]",
      "text/plain": [
       "plot without title"
      ]
     },
     "metadata": {},
     "output_type": "display_data"
    }
   ],
   "source": [
    "# Elasticity Analysis\n",
    "train1 <- multi\n",
    "hrlm1<-Multi_Final_model\n",
    "# estimating the elasticity coefficients\n",
    "elasticity1 <- function(var){\n",
    "  \n",
    "  elax2 <-as.numeric(hrlm1$coefficients[var]*mean(train1[,var])/mean(train1$gmv))\n",
    "  \n",
    "  return(elax2)\n",
    "} \n",
    "var_list <- list()\n",
    "\n",
    "for(i in 2:length(hrlm1$coefficients)){\n",
    "  \n",
    "  var_list[i-1] <-elasticity1(names(hrlm1$coefficients)[i])\n",
    "  \n",
    "}\n",
    "\n",
    "elasticity.outputs1 <- data.frame(names(hrlm1$coefficients[2:length(hrlm1$coefficients)]))\n",
    "elasticity.outputs1 <- cbind(elasticity.outputs1,do.call(rbind.data.frame, var_list))\n",
    "colnames(elasticity.outputs1) <- c(\"Variable\",\"Elasticity\")\n",
    "\n",
    "elasticity.outputs1$direction <- ifelse(elasticity.outputs1$Elasticity > 0, \"Positive\", \"Negative\")\n",
    "print(elasticity.outputs1)\n",
    "\n",
    "\n",
    "ggplot(data=elasticity.outputs1, aes(x=reorder(Variable,Elasticity),y=Elasticity)) +\n",
    "  geom_bar(position=\"dodge\",stat=\"identity\") + \n",
    "  coord_flip() +\n",
    "  ggtitle(\"Camera Accesory- Multiplicative Model\") +xlab(\"Variables\")\n"
   ]
  },
  {
   "cell_type": "markdown",
   "metadata": {},
   "source": [
    "### Kyock Model"
   ]
  },
  {
   "cell_type": "code",
   "execution_count": 10,
   "metadata": {},
   "outputs": [
    {
     "name": "stderr",
     "output_type": "stream",
     "text": [
      "\n",
      "Remember to put Home_koyck in time order before running.\n",
      "\n",
      "Lagging gmv by 1 time units.\n",
      "\n"
     ]
    },
    {
     "name": "stdout",
     "output_type": "stream",
     "text": [
      "\n",
      "Call:\n",
      "lm(formula = gmv ~ ., data = Home_koyck)\n",
      "\n",
      "Residuals:\n",
      "    Min      1Q  Median      3Q     Max \n",
      "-2.1690 -0.9274  0.0000  0.4795  2.9565 \n",
      "\n",
      "Coefficients:\n",
      "                          Estimate Std. Error t value Pr(>|t|)    \n",
      "(Intercept)             -6.606e+02  4.163e+02  -1.587   0.1385    \n",
      "week_year                7.391e-02  4.369e-01   0.169   0.8685    \n",
      "list_price               1.021e+00  5.580e-02  18.289 3.95e-10 ***\n",
      "product_mrp              3.945e-03  8.930e-03   0.442   0.6665    \n",
      "units                    5.909e+02  2.431e+02   2.431   0.0317 *  \n",
      "sla                     -2.823e+00  3.027e+00  -0.933   0.3694    \n",
      "promotional_offer       -2.193e+02  1.914e+02  -1.146   0.2743    \n",
      "number                   1.484e-01  8.547e-01   0.174   0.8651    \n",
      "Total.Investment         6.893e-01  1.154e+00   0.597   0.5614    \n",
      "TV                      -4.458e+00  6.945e+00  -0.642   0.5330    \n",
      "Digital                  1.027e+00  8.432e+00   0.122   0.9051    \n",
      "Sponsorship             -3.958e-01  5.758e-01  -0.687   0.5049    \n",
      "Content.Marketing       -1.654e+01  2.480e+01  -0.667   0.5174    \n",
      "Online.marketing        -4.584e+00  4.582e+00  -1.001   0.3368    \n",
      "Affiliates               1.583e+01  1.749e+01   0.905   0.3832    \n",
      "SEM                      4.882e-01  3.797e+00   0.129   0.8998    \n",
      "product_procurement_sla -3.051e+00  9.772e+00  -0.312   0.7602    \n",
      "per_order               -1.864e-01  9.237e+00  -0.020   0.9842    \n",
      "NPS                      3.558e-01  3.775e+00   0.094   0.9265    \n",
      "Middle_p                 1.069e+00  2.717e+00   0.393   0.7011    \n",
      "Mass_p                   2.545e-04  8.423e-04   0.302   0.7677    \n",
      "Premium_p                3.560e-01  6.831e+00   0.052   0.9593    \n",
      "inc_LP_MA1              -4.230e+01  7.353e+01  -0.575   0.5758    \n",
      "inc_LP_MA2               7.094e+01  9.266e+01   0.766   0.4587    \n",
      "inc_LP_MA3              -7.953e+01  1.159e+02  -0.686   0.5058    \n",
      "inc_PO_MA1              -7.140e+01  1.523e+02  -0.469   0.6475    \n",
      "inc_PO_MA2              -7.836e+01  3.156e+02  -0.248   0.8081    \n",
      "inc_PO_MA3               2.259e+02  3.272e+02   0.690   0.5030    \n",
      "list_price.1            -9.492e-03  2.646e-02  -0.359   0.7260    \n",
      "list_price.2             6.092e-03  1.922e-02   0.317   0.7566    \n",
      "list_price.3            -1.378e-02  2.614e-02  -0.527   0.6076    \n",
      "promotional_offer.1     -6.698e+00  7.764e+01  -0.086   0.9327    \n",
      "promotional_offer.2      7.167e+01  1.170e+02   0.612   0.5517    \n",
      "promotional_offer.3      1.109e+02  1.513e+02   0.733   0.4775    \n",
      "NPS.1                    6.580e-01  7.411e-01   0.888   0.3921    \n",
      "NPS.2                   -2.886e-01  9.124e-01  -0.316   0.7572    \n",
      "NPS.3                    8.250e-01  6.908e-01   1.194   0.2554    \n",
      "---\n",
      "Signif. codes:  0 ‘***’ 0.001 ‘**’ 0.01 ‘*’ 0.05 ‘.’ 0.1 ‘ ’ 1\n",
      "\n",
      "Residual standard error: 2.335 on 12 degrees of freedom\n",
      "Multiple R-squared:      1,\tAdjusted R-squared:  0.9999 \n",
      "F-statistic: 1.748e+04 on 36 and 12 DF,  p-value: < 2.2e-16\n",
      "\n"
     ]
    }
   ],
   "source": [
    "library(DataCombine)\n",
    "Home_koyck<-data\n",
    "#gmv Lag 1\n",
    "Home_Koyck<-slide(Home_koyck,Var=\"gmv\",slideBy =-1)\n",
    "Home_Koyck<-na.omit(Home_koyck)\n",
    "Home_Koyck<-scale(Home_koyck)\n",
    "Home_Koyck<-data.frame(Home_koyck)\n",
    "\n",
    "# Build Kyock model\n",
    "Koy_model <- lm(gmv~.,Home_koyck)\n",
    "print(summary(Koy_model))\n",
    "\n"
   ]
  },
  {
   "cell_type": "code",
   "execution_count": 11,
   "metadata": {
    "scrolled": true
   },
   "outputs": [
    {
     "data": {
      "text/plain": [
       "\n",
       "Call:\n",
       "lm(formula = myForm, data = Home_koyck)\n",
       "\n",
       "Residuals:\n",
       "    Min      1Q  Median      3Q     Max \n",
       "-384.35 -119.31  -15.81  101.24  584.62 \n",
       "\n",
       "Coefficients:\n",
       "                      Estimate Std. Error t value Pr(>|t|)    \n",
       "(Intercept)         -2.171e+04  5.142e+03  -4.222 0.000157 ***\n",
       "week_year            6.167e+00  2.509e+00   2.458 0.018920 *  \n",
       "units                2.240e+04  5.141e+03   4.357 0.000105 ***\n",
       "sla                  1.023e+02  6.993e+01   1.462 0.152343    \n",
       "number              -1.099e+01  2.365e+01  -0.465 0.644923    \n",
       "Digital             -1.388e+01  1.091e+01  -1.272 0.211460    \n",
       "per_order            1.240e+01  1.758e+02   0.071 0.944135    \n",
       "Middle_p            -1.784e+01  9.766e+01  -0.183 0.856062    \n",
       "Mass_p               1.296e-02  1.624e-02   0.798 0.429940    \n",
       "Premium_p            4.625e+02  2.191e+02   2.111 0.041792 *  \n",
       "promotional_offer.1 -7.099e+00  3.727e+02  -0.019 0.984908    \n",
       "promotional_offer.3  2.641e+02  3.300e+02   0.800 0.428886    \n",
       "NPS.3               -1.791e+01  9.276e+00  -1.931 0.061402 .  \n",
       "---\n",
       "Signif. codes:  0 ‘***’ 0.001 ‘**’ 0.01 ‘*’ 0.05 ‘.’ 0.1 ‘ ’ 1\n",
       "\n",
       "Residual standard error: 203.9 on 36 degrees of freedom\n",
       "Multiple R-squared:  0.5634,\tAdjusted R-squared:  0.4179 \n",
       "F-statistic: 3.872 on 12 and 36 DF,  p-value: 0.0007855\n"
      ]
     },
     "metadata": {},
     "output_type": "display_data"
    }
   ],
   "source": [
    "all_vifs <- vif(Koy_model)\n",
    " signif_all <- names(all_vifs)\n",
    "\n",
    " while(any(all_vifs > 2)){\n",
    "  var_with_max_vif <- names(which(all_vifs == max(all_vifs)))    # get the var with max vif\n",
    "  signif_all <- signif_all[!(signif_all) %in% var_with_max_vif]  # remove\n",
    "  myForm <- as.formula(paste(\"gmv ~ \", paste (signif_all, collapse=\" + \"), sep=\"\"))  # new formula\n",
    "  selectedMod <- lm(myForm, data=Home_koyck)  # re-build model with new formula\n",
    "  all_vifs <- vif(selectedMod)\n",
    "}\n",
    "\n",
    "kyock_Final_model <- selectedMod\n",
    "summary(kyock_Final_model)"
   ]
  },
  {
   "cell_type": "markdown",
   "metadata": {},
   "source": [
    "k-fold Cross Validation"
   ]
  },
  {
   "cell_type": "code",
   "execution_count": 12,
   "metadata": {
    "scrolled": true
   },
   "outputs": [
    {
     "name": "stderr",
     "output_type": "stream",
     "text": [
      "Warning message in predict.lm(modelFit, newdata):\n",
      "“prediction from a rank-deficient fit may be misleading”"
     ]
    },
    {
     "name": "stdout",
     "output_type": "stream",
     "text": [
      "Linear Regression \n",
      "\n",
      "49 samples\n",
      "12 predictors\n",
      "\n",
      "No pre-processing\n",
      "Resampling: Cross-Validated (10 fold) \n",
      "Summary of sample sizes: 43, 45, 46, 43, 43, 45, ... \n",
      "Resampling results:\n",
      "\n",
      "  RMSE      Rsquared   MAE     \n",
      "  246.8205  0.4580761  195.2667\n",
      "\n",
      "Tuning parameter 'intercept' was held constant at a value of TRUE\n"
     ]
    }
   ],
   "source": [
    "library(caret)\n",
    "# Define training control\n",
    "set.seed(123)\n",
    "train.control <- trainControl(method = \"cv\", number = 10)\n",
    "# Train the model\n",
    "cross_val2 <- train(myForm, data = Home_koyck, method = \"lm\",\n",
    "               trControl = train.control)\n",
    "# Summarize t1he results\n",
    "print(cross_val2)"
   ]
  },
  {
   "cell_type": "markdown",
   "metadata": {},
   "source": [
    "#### Elasticity Analysis"
   ]
  },
  {
   "cell_type": "code",
   "execution_count": 13,
   "metadata": {},
   "outputs": [
    {
     "data": {},
     "metadata": {},
     "output_type": "display_data"
    },
    {
     "data": {
      "image/png": "[encoded data removed]",
      "text/plain": [
       "plot without title"
      ]
     },
     "metadata": {},
     "output_type": "display_data"
    }
   ],
   "source": [
    "# Elasticity Analysis\n",
    "train2 <- Home_koyck\n",
    "hrlm2<-kyock_Final_model\n",
    "# estimating the elasticity coefficients\n",
    "elasticity2 <- function(var){\n",
    "  \n",
    "  elax2 <-as.numeric(hrlm2$coefficients[var]*mean(train2[,var])/mean(train2$gmv))\n",
    "\n",
    "  return(elax2)\n",
    "} \n",
    "var_list <- list()\n",
    "\n",
    "for(i in 2:length(hrlm2$coefficients)){\n",
    "  \n",
    "  var_list[i-1] <-elasticity2(names(hrlm2$coefficients)[i])\n",
    "  \n",
    "}\n",
    "\n",
    "elasticity.outputs <- data.frame(names(hrlm2$coefficients[2:length(hrlm2$coefficients)]))\n",
    "elasticity.outputs <- cbind(elasticity.outputs,do.call(rbind.data.frame, var_list))\n",
    "colnames(elasticity.outputs) <- c(\"Variable\",\"Elasticity\")\n",
    "\n",
    "elasticity.outputs$direction <- ifelse(elasticity.outputs$Elasticity > 0, \"Positive\", \"Negative\")\n",
    "\n",
    "\n",
    "\n",
    "ggplot(data=elasticity.outputs, aes(x=reorder(Variable,Elasticity),y=Elasticity)) +\n",
    "  geom_bar(position=\"dodge\",stat=\"identity\") + \n",
    "  coord_flip() +\n",
    "  ggtitle(\"Camera Accesory - Koyck Model\") +xlab(\"Variables\")"
   ]
  },
  {
   "cell_type": "markdown",
   "metadata": {},
   "source": [
    "### Distributed Lag Model"
   ]
  },
  {
   "cell_type": "code",
   "execution_count": 14,
   "metadata": {},
   "outputs": [
    {
     "name": "stderr",
     "output_type": "stream",
     "text": [
      "\n",
      "Remember to put Dis_Model in time order before running.\n",
      "\n",
      "Lagging gmv by 1 time units.\n",
      "\n",
      "\n",
      "Remember to put Dis_model in time order before running.\n",
      "\n",
      "Lagging gmv by 2 time units.\n",
      "\n",
      "\n",
      "Remember to put Dis_model in time order before running.\n",
      "\n",
      "Lagging gmv by 3 time units.\n",
      "\n"
     ]
    },
    {
     "name": "stdout",
     "output_type": "stream",
     "text": [
      "\n",
      "Call:\n",
      "lm(formula = gmv ~ ., data = Dis_model)\n",
      "\n",
      "Residuals:\n",
      "       Min         1Q     Median         3Q        Max \n",
      "-0.0066929 -0.0010205 -0.0000631  0.0011146  0.0065563 \n",
      "\n",
      "Coefficients:\n",
      "                          Estimate Std. Error t value Pr(>|t|)    \n",
      "(Intercept)              7.434e-16  1.068e-03   0.000   1.0000    \n",
      "week_year               -7.139e-02  3.315e-02  -2.154   0.0747 .  \n",
      "list_price               1.055e+00  5.987e-02  17.625 2.14e-06 ***\n",
      "product_mrp              1.719e-02  1.226e-02   1.402   0.2104    \n",
      "units                    1.907e-02  8.367e-03   2.280   0.0628 .  \n",
      "sla                     -1.037e-02  6.038e-03  -1.717   0.1368    \n",
      "promotional_offer       -1.112e-01  6.838e-02  -1.626   0.1552    \n",
      "number                   5.980e-03  5.132e-03   1.165   0.2882    \n",
      "Total.Investment        -1.804e-02  2.104e-01  -0.086   0.9344    \n",
      "TV                       1.156e-01  1.088e-01   1.062   0.3290    \n",
      "Digital                 -1.191e+00  5.919e-01  -2.012   0.0909 .  \n",
      "Sponsorship             -1.668e-01  9.183e-02  -1.816   0.1193    \n",
      "Content.Marketing        8.094e-01  4.722e-01   1.714   0.1374    \n",
      "Online.marketing        -1.496e+00  6.801e-01  -2.200   0.0701 .  \n",
      "Affiliates               1.016e+00  4.592e-01   2.213   0.0688 .  \n",
      "SEM                      7.392e-01  3.339e-01   2.214   0.0688 .  \n",
      "product_procurement_sla  4.446e-02  2.356e-02   1.888   0.1080    \n",
      "per_order               -4.658e-03  6.285e-03  -0.741   0.4866    \n",
      "NPS                     -1.166e-01  7.252e-02  -1.607   0.1591    \n",
      "Middle_p                -9.183e-03  4.916e-03  -1.868   0.1110    \n",
      "Mass_p                  -1.500e-02  9.783e-03  -1.533   0.1762    \n",
      "Premium_p               -4.749e-03  3.767e-03  -1.261   0.2541    \n",
      "inc_LP_MA1              -2.716e-02  4.300e-02  -0.632   0.5509    \n",
      "inc_LP_MA2               1.782e-01  9.927e-02   1.795   0.1229    \n",
      "inc_LP_MA3              -2.289e-01  1.122e-01  -2.039   0.0875 .  \n",
      "inc_PO_MA1              -3.329e-02  1.531e-01  -0.217   0.8351    \n",
      "inc_PO_MA2              -1.235e-01  3.630e-01  -0.340   0.7452    \n",
      "inc_PO_MA3               2.919e-01  3.326e-01   0.878   0.4139    \n",
      "list_price.1             4.368e-01  3.000e-01   1.456   0.1957    \n",
      "list_price.2             5.832e-01  3.260e-01   1.789   0.1238    \n",
      "list_price.3            -1.954e-01  2.295e-01  -0.852   0.4272    \n",
      "promotional_offer.1      2.161e-02  4.867e-02   0.444   0.6726    \n",
      "promotional_offer.2      5.509e-02  5.546e-02   0.993   0.3589    \n",
      "promotional_offer.3      5.776e-02  6.982e-02   0.827   0.4398    \n",
      "NPS.1                    2.546e-02  1.482e-02   1.718   0.1365    \n",
      "NPS.2                   -3.254e-02  1.756e-02  -1.853   0.1133    \n",
      "NPS.3                    3.178e-02  1.164e-02   2.729   0.0342 *  \n",
      "gmv.1                   -4.269e-01  2.926e-01  -1.459   0.1948    \n",
      "gmv.2                   -5.737e-01  3.301e-01  -1.738   0.1329    \n",
      "gmv.3                    1.365e-01  2.220e-01   0.615   0.5613    \n",
      "---\n",
      "Signif. codes:  0 ‘***’ 0.001 ‘**’ 0.01 ‘*’ 0.05 ‘.’ 0.1 ‘ ’ 1\n",
      "\n",
      "Residual standard error: 0.007241 on 6 degrees of freedom\n",
      "Multiple R-squared:      1,\tAdjusted R-squared:  0.9999 \n",
      "F-statistic: 2.201e+04 on 39 and 6 DF,  p-value: 4.894e-13\n",
      "\n"
     ]
    }
   ],
   "source": [
    "Dis_Model <- data\n",
    "Dis_model <- slide(Dis_Model, Var = \"gmv\",slideBy = -1)\n",
    "Dis_model <- slide(Dis_model, Var = \"gmv\",slideBy = -2)\n",
    "Dis_model <- slide(Dis_model, Var = \"gmv\",slideBy = -3)\n",
    "Dis_model <- na.omit(Dis_model)\n",
    "Dis_model <- scale(Dis_model)\n",
    "Dis_model <- data.frame(Dis_model)\n",
    "\n",
    "dist_model <- lm(gmv~.,Dis_model)\n",
    "print(summary(dist_model))\n"
   ]
  },
  {
   "cell_type": "markdown",
   "metadata": {},
   "source": [
    "Model Selection"
   ]
  },
  {
   "cell_type": "code",
   "execution_count": 15,
   "metadata": {},
   "outputs": [
    {
     "name": "stdout",
     "output_type": "stream",
     "text": [
      "\n",
      "Call:\n",
      "lm(formula = myForm, data = Dis_model)\n",
      "\n",
      "Residuals:\n",
      "     Min       1Q   Median       3Q      Max \n",
      "-0.78485 -0.17571  0.01666  0.22250  0.44425 \n",
      "\n",
      "Coefficients:\n",
      "                          Estimate Std. Error t value Pr(>|t|)    \n",
      "(Intercept)              8.301e-16  4.876e-02   0.000   1.0000    \n",
      "product_mrp              8.750e-01  5.524e-02  15.840  < 2e-16 ***\n",
      "number                  -6.715e-02  5.697e-02  -1.179   0.2472    \n",
      "Digital                 -9.824e-02  5.594e-02  -1.756   0.0887 .  \n",
      "Affiliates               7.652e-02  6.886e-02   1.111   0.2747    \n",
      "product_procurement_sla  4.242e-01  5.453e-02   7.779 7.16e-09 ***\n",
      "per_order               -6.879e-03  5.631e-02  -0.122   0.9035    \n",
      "Middle_p                -5.156e-03  5.185e-02  -0.099   0.9214    \n",
      "Mass_p                  -1.561e-01  6.531e-02  -2.390   0.0229 *  \n",
      "Premium_p                7.573e-02  5.223e-02   1.450   0.1568    \n",
      "promotional_offer.2      9.224e-02  6.120e-02   1.507   0.1416    \n",
      "promotional_offer.3      8.196e-02  5.582e-02   1.468   0.1518    \n",
      "NPS.3                   -8.716e-02  6.510e-02  -1.339   0.1901    \n",
      "gmv.2                   -1.058e-01  6.477e-02  -1.634   0.1121    \n",
      "---\n",
      "Signif. codes:  0 ‘***’ 0.001 ‘**’ 0.01 ‘*’ 0.05 ‘.’ 0.1 ‘ ’ 1\n",
      "\n",
      "Residual standard error: 0.3307 on 32 degrees of freedom\n",
      "Multiple R-squared:  0.9222,\tAdjusted R-squared:  0.8906 \n",
      "F-statistic: 29.19 on 13 and 32 DF,  p-value: 4.672e-14\n",
      "\n"
     ]
    }
   ],
   "source": [
    "all_vif <- vif(dist_model)\n",
    "signif_all <- names(all_vif)\n",
    "\n",
    " while(any(all_vif > 2)){\n",
    "  var_with_max_vif <- names(which(all_vif == max(all_vif)))    # get the var with max vif\n",
    "  signif_all <- signif_all[!(signif_all) %in% var_with_max_vif]  # remove\n",
    "  myForm <- as.formula(paste(\"gmv ~ \", paste (signif_all, collapse=\" + \"), sep=\"\"))  # new formula\n",
    "  selectedMod <- lm(myForm, data=Dis_model)  # re-build model with new formula\n",
    "  all_vif <- vif(selectedMod)\n",
    "}\n",
    "\n",
    "Distributed_Final_model <- selectedMod\n",
    "print(summary(Distributed_Final_model))\n"
   ]
  },
  {
   "cell_type": "markdown",
   "metadata": {},
   "source": [
    "K-FOLD CROSS VALIDATION"
   ]
  },
  {
   "cell_type": "code",
   "execution_count": 16,
   "metadata": {},
   "outputs": [
    {
     "name": "stderr",
     "output_type": "stream",
     "text": [
      "Warning message in predict.lm(modelFit, newdata):\n",
      "“prediction from a rank-deficient fit may be misleading”"
     ]
    },
    {
     "name": "stdout",
     "output_type": "stream",
     "text": [
      "Linear Regression \n",
      "\n",
      "46 samples\n",
      "13 predictors\n",
      "\n",
      "No pre-processing\n",
      "Resampling: Cross-Validated (10 fold) \n",
      "Summary of sample sizes: 42, 41, 41, 40, 41, 42, ... \n",
      "Resampling results:\n",
      "\n",
      "  RMSE       Rsquared   MAE      \n",
      "  0.5917459  0.7132646  0.4481458\n",
      "\n",
      "Tuning parameter 'intercept' was held constant at a value of TRUE\n"
     ]
    }
   ],
   "source": [
    "library(caret)\n",
    "# Define training control\n",
    "set.seed(123)\n",
    "train.control <- trainControl(method = \"cv\", number = 10)\n",
    "# Train the model\n",
    "cross_val <- train(myForm, data =Dis_model , method = \"lm\",\n",
    "               trControl = train.control)\n",
    "# Summarize t1he results\n",
    "print(cross_val)"
   ]
  },
  {
   "cell_type": "markdown",
   "metadata": {},
   "source": [
    "#### Elasticity Analysis"
   ]
  },
  {
   "cell_type": "code",
   "execution_count": 17,
   "metadata": {},
   "outputs": [
    {
     "data": {},
     "metadata": {},
     "output_type": "display_data"
    },
    {
     "data": {
      "image/png": "[encoded data removed]",
      "text/plain": [
       "plot without title"
      ]
     },
     "metadata": {},
     "output_type": "display_data"
    }
   ],
   "source": [
    "# Elasticity Analysis\n",
    "train <- Dis_model\n",
    "hrlm<-Distributed_Final_model\n",
    "# estimating the elasticity coefficients\n",
    "elasticity <- function(var){\n",
    "  elax1 <-as.numeric(hrlm$coefficients[var]*mean(train[,var])/mean(train$gmv))\n",
    "  return(elax1)\n",
    "} \n",
    "var_list <- list()\n",
    "\n",
    "for(i in 2:length(hrlm$coefficients)){\n",
    "  \n",
    "  var_list[i-1] <- elasticity(names(hrlm$coefficients)[i])\n",
    "  \n",
    "}\n",
    "\n",
    "elasticity.outputs <- data.frame(names(hrlm$coefficients[2:length(hrlm$coefficients)]))\n",
    "elasticity.outputs <- cbind(elasticity.outputs,do.call(rbind.data.frame, var_list))\n",
    "colnames(elasticity.outputs) <- c(\"Variable\",\"Elasticity\")\n",
    "\n",
    "elasticity.outputs$direction <- ifelse(elasticity.outputs$Elasticity > 0, \"Positive\", \"Negative\")\n",
    "\n",
    "\n",
    "\n",
    "ggplot(data=elasticity.outputs, aes(x=reorder(Variable,Elasticity),y=Elasticity)) +\n",
    "  geom_bar(position=\"dodge\",stat=\"identity\") + \n",
    "  coord_flip() +\n",
    "  ggtitle(\"Camera Accesory- Distributed_lag Model\") +xlab(\"Variables\")"
   ]
  },
  {
   "cell_type": "markdown",
   "metadata": {},
   "source": [
    "### Multiplicative + distributed model:"
   ]
  },
  {
   "cell_type": "code",
   "execution_count": 18,
   "metadata": {},
   "outputs": [
    {
     "name": "stderr",
     "output_type": "stream",
     "text": [
      "\n",
      "Remember to put Multi_dist in time order before running.\n",
      "\n",
      "Lagging gmv by 1 time units.\n",
      "\n",
      "\n",
      "Remember to put Multi_Dis_model_1 in time order before running.\n",
      "\n",
      "Lagging gmv by 2 time units.\n",
      "\n",
      "\n",
      "Remember to put Multi_Dis_model_1 in time order before running.\n",
      "\n",
      "Lagging gmv by 3 time units.\n",
      "\n"
     ]
    },
    {
     "name": "stdout",
     "output_type": "stream",
     "text": [
      "\n",
      "Call:\n",
      "lm(formula = gmv ~ ., data = Multi_dist)\n",
      "\n",
      "Residuals:\n",
      "       Min         1Q     Median         3Q        Max \n",
      "-2.117e-03 -8.713e-04  2.585e-05  7.891e-04  2.166e-03 \n",
      "\n",
      "Coefficients:\n",
      "                          Estimate Std. Error t value Pr(>|t|)    \n",
      "(Intercept)             -3.585e-01  4.932e-01  -0.727  0.47853    \n",
      "week_year                4.618e-03  5.824e-03   0.793  0.44013    \n",
      "list_price               9.768e-01  1.412e-02  69.196  < 2e-16 ***\n",
      "product_mrp              1.585e-02  1.647e-02   0.962  0.35110    \n",
      "units                    5.532e-01  1.424e-01   3.885  0.00147 ** \n",
      "sla                     -1.207e-02  1.077e-02  -1.121  0.28001    \n",
      "promotional_offer       -9.783e-03  1.197e-02  -0.817  0.42647    \n",
      "number                  -7.544e-05  1.719e-04  -0.439  0.66701    \n",
      "Total.Investment         6.840e-03  2.698e-02   0.254  0.80331    \n",
      "TV                      -4.080e-04  5.104e-03  -0.080  0.93734    \n",
      "Digital                  4.787e-03  5.036e-03   0.950  0.35696    \n",
      "Sponsorship             -3.774e-03  1.568e-02  -0.241  0.81309    \n",
      "Content.Marketing       -2.141e-04  5.170e-03  -0.041  0.96751    \n",
      "Online.marketing         2.357e-02  3.694e-02   0.638  0.53307    \n",
      "Affiliates              -2.086e-02  4.520e-02  -0.461  0.65106    \n",
      "SEM                     -6.502e-03  1.156e-02  -0.562  0.58227    \n",
      "product_procurement_sla  3.261e-04  1.143e-02   0.029  0.97761    \n",
      "per_order               -1.277e-04  3.066e-03  -0.042  0.96732    \n",
      "NPS                      4.756e-02  1.128e-01   0.422  0.67926    \n",
      "list_price.1             2.883e-03  2.053e-01   0.014  0.98898    \n",
      "list_price.2             2.853e-01  2.251e-01   1.267  0.22440    \n",
      "list_price.3             1.068e-01  2.105e-01   0.507  0.61946    \n",
      "promotional_offer.1      2.622e-04  5.669e-03   0.046  0.96372    \n",
      "promotional_offer.2      3.175e-03  2.800e-03   1.134  0.27468    \n",
      "promotional_offer.3      4.254e-03  2.373e-03   1.793  0.09317 .  \n",
      "NPS.1                    2.221e-02  2.398e-02   0.926  0.36905    \n",
      "NPS.2                   -4.000e-03  2.524e-02  -0.159  0.87618    \n",
      "NPS.3                    2.142e-02  2.197e-02   0.975  0.34498    \n",
      "`gmv-1`                  2.488e-04  2.064e-01   0.001  0.99905    \n",
      "`gmv-2`                 -2.863e-01  2.261e-01  -1.266  0.22475    \n",
      "`gmv-3`                 -1.045e-01  2.116e-01  -0.494  0.62842    \n",
      "---\n",
      "Signif. codes:  0 ‘***’ 0.001 ‘**’ 0.01 ‘*’ 0.05 ‘.’ 0.1 ‘ ’ 1\n",
      "\n",
      "Residual standard error: 0.001885 on 15 degrees of freedom\n",
      "Multiple R-squared:      1,\tAdjusted R-squared:      1 \n",
      "F-statistic: 3.539e+04 on 30 and 15 DF,  p-value: < 2.2e-16\n",
      "\n"
     ]
    }
   ],
   "source": [
    "Multi_dist <-data[,-c(20:28)]\n",
    "Multi_Dis_model_1 <- slide(Multi_dist, Var = \"gmv\",slideBy = -1)\n",
    "Multi_Dis_model_1 <- slide(Multi_Dis_model_1, Var = \"gmv\",slideBy = -2)\n",
    "Multi_Dis_model_1 <- slide(Multi_Dis_model_1, Var = \"gmv\",slideBy = -3)\n",
    "Multi_dist <- na.omit(Multi_Dis_model_1)\n",
    "\n",
    "Multi_dist$Content.Marketing[which(Multi_dist$Content.Marketing==0)] <-1\n",
    "Multi_dist$per_order[which(Multi_dist$per_order==0)] <-0.01\n",
    "Multi_dist$number[which(Multi_dist$number==0)] <-0.01\n",
    "Multi_dist$TV[which(Multi_dist$TV==0)] <-0.01\n",
    "Multi_dist <- log(Multi_dist)\n",
    "\n",
    "distMulti <- lm(gmv~., Multi_dist)\n",
    "print(summary(distMulti))\n"
   ]
  },
  {
   "cell_type": "code",
   "execution_count": 19,
   "metadata": {},
   "outputs": [
    {
     "data": {
      "text/plain": [
       "\n",
       "Call:\n",
       "lm(formula = myForm, data = Multi_dist)\n",
       "\n",
       "Residuals:\n",
       "     Min       1Q   Median       3Q      Max \n",
       "-0.29936 -0.11515 -0.01188  0.11724  0.40993 \n",
       "\n",
       "Coefficients:\n",
       "                    Estimate Std. Error t value Pr(>|t|)    \n",
       "(Intercept)          3.98374    0.96489   4.129 0.000186 ***\n",
       "units               27.65095    4.08623   6.767 4.49e-08 ***\n",
       "Content.Marketing   -0.04211    0.04160  -1.012 0.317618    \n",
       "per_order            0.11323    0.04397   2.575 0.013928 *  \n",
       "list_price.1         0.31958    0.09505   3.362 0.001742 ** \n",
       "list_price.3         0.06730    0.09629   0.699 0.488725    \n",
       "promotional_offer.3  0.07020    0.06579   1.067 0.292510    \n",
       "---\n",
       "Signif. codes:  0 ‘***’ 0.001 ‘**’ 0.01 ‘*’ 0.05 ‘.’ 0.1 ‘ ’ 1\n",
       "\n",
       "Residual standard error: 0.1767 on 39 degrees of freedom\n",
       "Multiple R-squared:  0.6772,\tAdjusted R-squared:  0.6275 \n",
       "F-statistic: 13.64 on 6 and 39 DF,  p-value: 2.813e-08\n"
      ]
     },
     "metadata": {},
     "output_type": "display_data"
    }
   ],
   "source": [
    "all_vif <- vif(distMulti )\n",
    "signif_all <- names(all_vif)\n",
    "\n",
    " while(any(all_vif > 1.2)){\n",
    "  var_with_max_vif <- names(which(all_vif == max(all_vif)))    # get the var with max vif\n",
    "  signif_all <- signif_all[!(signif_all) %in% var_with_max_vif]  # remove\n",
    "  myForm <- as.formula(paste(\"gmv ~ \", paste (signif_all, collapse=\" + \"), sep=\"\"))  # new formula\n",
    "  selectedMod <- lm(myForm, data=Multi_dist)  # re-build model with new formula\n",
    "  all_vif <- vif(selectedMod)\n",
    "}\n",
    "\n",
    "DistributedMulti_Final_model <- selectedMod\n",
    "summary(DistributedMulti_Final_model)"
   ]
  },
  {
   "cell_type": "markdown",
   "metadata": {},
   "source": [
    "k-fold CROSS VALIDATION"
   ]
  },
  {
   "cell_type": "code",
   "execution_count": 20,
   "metadata": {
    "scrolled": true
   },
   "outputs": [
    {
     "name": "stdout",
     "output_type": "stream",
     "text": [
      "Linear Regression \n",
      "\n",
      "46 samples\n",
      " 6 predictor\n",
      "\n",
      "No pre-processing\n",
      "Resampling: Cross-Validated (10 fold) \n",
      "Summary of sample sizes: 42, 41, 41, 40, 41, 42, ... \n",
      "Resampling results:\n",
      "\n",
      "  RMSE       Rsquared   MAE      \n",
      "  0.2394437  0.3436749  0.1853033\n",
      "\n",
      "Tuning parameter 'intercept' was held constant at a value of TRUE\n"
     ]
    }
   ],
   "source": [
    "library(caret)\n",
    "# Define training control\n",
    "set.seed(123)\n",
    "train.control <- trainControl(method = \"cv\", number = 10)\n",
    "# Train the model\n",
    "cross_val <- train(myForm, data =Multi_dist , method = \"lm\",\n",
    "               trControl = train.control)\n",
    "# Summarize t1he results\n",
    "print(cross_val)"
   ]
  },
  {
   "cell_type": "markdown",
   "metadata": {},
   "source": [
    "#### ELASTICITY ANALYSIS"
   ]
  },
  {
   "cell_type": "code",
   "execution_count": 21,
   "metadata": {},
   "outputs": [
    {
     "data": {},
     "metadata": {},
     "output_type": "display_data"
    },
    {
     "data": {
      "image/png": "[encoded data removed]",
      "text/plain": [
       "plot without title"
      ]
     },
     "metadata": {},
     "output_type": "display_data"
    }
   ],
   "source": [
    "# estimating the elasticity coefficients\n",
    "train <- Multi_dist\n",
    "\n",
    "grlm <-DistributedMulti_Final_model \n",
    "elasticity <- function(var){\n",
    "  \n",
    "  elax1 <-as.numeric(grlm$coefficients[var]*mean(train[,var])/mean(train$gmv))\n",
    "  \n",
    "  return(elax1)\n",
    "} \n",
    "\n",
    "var_list <- list()\n",
    "\n",
    "for(i in 2:length(grlm$coefficients)){\n",
    "  \n",
    "  var_list[i-1] <-elasticity(names(grlm$coefficients)[i])\n",
    "  \n",
    "}\n",
    "\n",
    "elasticity.outputs <- data.frame(names(grlm$coefficients[2:length(grlm$coefficients)]))\n",
    "elasticity.outputs <- cbind(elasticity.outputs,do.call(rbind.data.frame, var_list))\n",
    "colnames(elasticity.outputs) <- c(\"Variable\",\"Elasticity\")\n",
    "\n",
    "elasticity.outputs$direction <- ifelse(elasticity.outputs$Elasticity > 0, \"Positive\", \"Negative\")\n",
    "\n",
    "\n",
    "\n",
    "ggplot(data=elasticity.outputs, aes(x=reorder(Variable,Elasticity),y=Elasticity)) +\n",
    "  geom_bar(position=\"dodge\",stat=\"identity\") + \n",
    "  coord_flip() +\n",
    "  ggtitle(\"Game Accessory - Multi. & DL model\") +xlab(\"Variables\")\n"
   ]
  },
  {
   "cell_type": "code",
   "execution_count": null,
   "metadata": {},
   "outputs": [],
   "source": []
  },
  {
   "cell_type": "code",
   "execution_count": null,
   "metadata": {},
   "outputs": [],
   "source": []
  },
  {
   "cell_type": "code",
   "execution_count": null,
   "metadata": {},
   "outputs": [],
   "source": []
  }
 ],
 "metadata": {
  "kernelspec": {
   "display_name": "R",
   "language": "R",
   "name": "ir"
  },
  "language_info": {
   "codemirror_mode": "r",
   "file_extension": ".r",
   "mimetype": "text/x-r-source",
   "name": "R",
   "pygments_lexer": "r",
   "version": "3.4.3"
  }
 },
 "nbformat": 4,
 "nbformat_minor": 2
}
